{
  "cells": [
    {
      "cell_type": "markdown",
      "metadata": {
        "id": "MJoO1IQZWXEY"
      },
      "source": [
        "# Basic Starter Steps"
      ]
    },
    {
      "cell_type": "markdown",
      "metadata": {
        "id": "Q4kjFOV9WNCm"
      },
      "source": [
        "## Mount Google Drive"
      ]
    },
    {
      "cell_type": "code",
      "execution_count": null,
      "metadata": {
        "colab": {
          "base_uri": "https://localhost:8080/"
        },
        "id": "C8k9XNR-TwXp",
        "outputId": "1bcb9e3b-6f18-4964-f30b-dafa3e6abb58"
      },
      "outputs": [
        {
          "name": "stdout",
          "output_type": "stream",
          "text": [
            "Drive already mounted at /content/drive; to attempt to forcibly remount, call drive.mount(\"/content/drive\", force_remount=True).\n"
          ]
        }
      ],
      "source": [
        "# Mount Google Drive\n",
        "from google.colab import drive\n",
        "drive.mount('/content/drive')"
      ]
    },
    {
      "cell_type": "markdown",
      "metadata": {
        "id": "fg3vkHEFV-Uq"
      },
      "source": [
        "## Get the code from github"
      ]
    },
    {
      "cell_type": "code",
      "execution_count": null,
      "metadata": {
        "id": "6FvBqRhsWBsP"
      },
      "outputs": [],
      "source": [
        "!git clone https://github.com/SyedaMahamFahim/Inner_Speech_Dataset -q"
      ]
    },
    {
      "cell_type": "markdown",
      "metadata": {
        "id": "eZAYGkKFWd7r"
      },
      "source": [
        "## Install dependencies\n",
        "\n",
        "*   List item\n",
        "*   List item\n",
        "\n",
        "\n"
      ]
    },
    {
      "cell_type": "code",
      "execution_count": null,
      "metadata": {
        "colab": {
          "base_uri": "https://localhost:8080/"
        },
        "id": "pBrGx5q_Wjap",
        "outputId": "b2a4cc1f-bae4-4ae5-b3b5-d7dbf2bd4dd5"
      },
      "outputs": [
        {
          "name": "stdout",
          "output_type": "stream",
          "text": [
            "\u001b[?25l   \u001b[90m━━━━━━━━━━━━━━━━━━━━━━━━━━━━━━━━━━━━━━━━\u001b[0m \u001b[32m0.0/7.4 MB\u001b[0m \u001b[31m?\u001b[0m eta \u001b[36m-:--:--\u001b[0m\r\u001b[2K   \u001b[91m━━━━━━━━━━━━━━━━━━━\u001b[0m\u001b[91m╸\u001b[0m\u001b[90m━━━━━━━━━━━━━━━━━━━━\u001b[0m \u001b[32m3.7/7.4 MB\u001b[0m \u001b[31m110.7 MB/s\u001b[0m eta \u001b[36m0:00:01\u001b[0m\r\u001b[2K   \u001b[91m━━━━━━━━━━━━━━━━━━━━━━━━━━━━━━━━━━━━━━━\u001b[0m\u001b[91m╸\u001b[0m \u001b[32m7.4/7.4 MB\u001b[0m \u001b[31m127.2 MB/s\u001b[0m eta \u001b[36m0:00:01\u001b[0m\r\u001b[2K   \u001b[90m━━━━━━━━━━━━━━━━━━━━━━━━━━━━━━━━━━━━━━━━\u001b[0m \u001b[32m7.4/7.4 MB\u001b[0m \u001b[31m77.2 MB/s\u001b[0m eta \u001b[36m0:00:00\u001b[0m\n",
            "\u001b[?25hCollecting h5io\n",
            "  Downloading h5io-0.2.4-py3-none-any.whl.metadata (3.9 kB)\n",
            "Requirement already satisfied: numpy in /usr/local/lib/python3.10/dist-packages (from h5io) (1.25.2)\n",
            "Requirement already satisfied: h5py in /usr/local/lib/python3.10/dist-packages (from h5io) (3.11.0)\n",
            "Downloading h5io-0.2.4-py3-none-any.whl (17 kB)\n",
            "Installing collected packages: h5io\n",
            "Successfully installed h5io-0.2.4\n"
          ]
        }
      ],
      "source": [
        "!pip3 install mne -q\n",
        "!pip install h5io\n"
      ]
    },
    {
      "cell_type": "markdown",
      "metadata": {
        "id": "_gOljUMfVOQp"
      },
      "source": [
        "### Checking MNE version"
      ]
    },
    {
      "cell_type": "code",
      "execution_count": null,
      "metadata": {
        "colab": {
          "base_uri": "https://localhost:8080/"
        },
        "id": "7mHtqYdBVQsh",
        "outputId": "5991a733-e9f5-406a-f7fe-1f29d663f33d"
      },
      "outputs": [
        {
          "name": "stdout",
          "output_type": "stream",
          "text": [
            "1.7.1\n"
          ]
        }
      ],
      "source": [
        "import mne\n",
        "print(mne.__version__)"
      ]
    },
    {
      "cell_type": "markdown",
      "metadata": {
        "id": "L-gBum5OWowq"
      },
      "source": [
        "## Imports\n"
      ]
    },
    {
      "cell_type": "code",
      "execution_count": null,
      "metadata": {
        "id": "GySLvxiqUJzX"
      },
      "outputs": [],
      "source": [
        "import mne\n",
        "import warnings\n",
        "import numpy as np\n",
        "\n",
        "from google.colab import drive\n",
        "\n",
        "from Inner_Speech_Dataset.Python_Processing.Data_extractions import  extract_data_from_subject,extract_block_data_from_subject\n",
        "from Inner_Speech_Dataset.Python_Processing.Data_processing import  select_time_window, transform_for_classificator,filter_by_condition,filter_by_class\n",
        "from Inner_Speech_Dataset.Python_Processing.Utilitys import ensure_dir, unify_names\n",
        "\n",
        "np.random.seed(23)\n",
        "\n",
        "mne.set_log_level(verbose='warning') #to avoid info at terminal\n",
        "warnings.filterwarnings(action = \"ignore\", category = DeprecationWarning )\n",
        "warnings.filterwarnings(action = \"ignore\", category = FutureWarning )"
      ]
    },
    {
      "cell_type": "markdown",
      "metadata": {
        "id": "yDKRSRLnmOB2"
      },
      "source": [
        "## Variable for whole code"
      ]
    },
    {
      "cell_type": "code",
      "execution_count": null,
      "metadata": {
        "id": "cFCVdQIRmOB_"
      },
      "outputs": [],
      "source": [
        "### Hyperparameters\n",
        "\n",
        "# The root dir has to point to the folder that contains the database\n",
        "root_dir = \"/content/drive/MyDrive/FYPD_Dataset\"\n",
        "save_dir = \"/content/drive/MyDrive/FinalFilterOuput\"\n",
        "\n",
        "# Data Type\n",
        "datatype = \"eeg\" # 3\n",
        "\n",
        "# Sampling rate\n",
        "fs = 256\n",
        "\n",
        "# Select the useful par of each trial. Time in seconds\n",
        "t_start = 1.5\n",
        "t_end = 3.5\n",
        "\n",
        "\n"
      ]
    },
    {
      "cell_type": "markdown",
      "metadata": {
        "id": "uaRHpUXgidpw"
      },
      "source": [
        "## Ensuring Folder exist"
      ]
    },
    {
      "cell_type": "code",
      "execution_count": null,
      "metadata": {
        "colab": {
          "base_uri": "https://localhost:8080/"
        },
        "id": "qyb3v3kDihGI",
        "outputId": "8df5a865-1e1f-485c-a506-db577bfe253d"
      },
      "outputs": [
        {
          "name": "stdout",
          "output_type": "stream",
          "text": [
            "Directory already exists: /content/drive/MyDrive/FinalFilterOuput\n"
          ]
        }
      ],
      "source": [
        "import os\n",
        "\n",
        "# Check if the directory exists, and if not, create it\n",
        "if not os.path.exists(save_dir):\n",
        "    os.makedirs(save_dir)\n",
        "    print(f\"Created directory: {save_dir}\")\n",
        "else:\n",
        "    print(f\"Directory already exists: {save_dir}\")\n",
        "\n",
        "\n"
      ]
    },
    {
      "cell_type": "markdown",
      "metadata": {
        "id": "Fq1zNka3W4qg"
      },
      "source": [
        "# **------------ Data extraction and filtration  ----------------**"
      ]
    },
    {
      "cell_type": "markdown",
      "metadata": {
        "id": "yoZPpe77lu4W"
      },
      "source": [
        "## For Single File Block"
      ]
    },
    {
      "cell_type": "markdown",
      "metadata": {
        "id": "-d4vIF8oa386"
      },
      "source": [
        "### Variable"
      ]
    },
    {
      "cell_type": "code",
      "execution_count": null,
      "metadata": {
        "id": "jIq2akjxa5i7"
      },
      "outputs": [],
      "source": [
        "# Subject number\n",
        "N_B=2\n",
        "N_S = 1   #[1 to 10]"
      ]
    },
    {
      "cell_type": "markdown",
      "metadata": {
        "id": "fid3oBtia6kF"
      },
      "source": [
        "### Data Extraction"
      ]
    },
    {
      "cell_type": "code",
      "execution_count": null,
      "metadata": {
        "colab": {
          "base_uri": "https://localhost:8080/"
        },
        "id": "7fQzTOUK1lTn",
        "outputId": "e4a6dc61-5422-4280-99b6-457ace901ff9"
      },
      "outputs": [
        {
          "name": "stdout",
          "output_type": "stream",
          "text": [
            "Extracted from block\n",
            "(200, 128, 1153)\n",
            "Useful Time\n",
            "(200, 128, 512)\n",
            "Only Inner Condition\n",
            "(80, 128, 512)\n",
            "ALL Classes\n",
            "(80, 4)\n"
          ]
        }
      ],
      "source": [
        "# Load all trials for a single block\n",
        "print(\"Extracted from block\")\n",
        "X, Y = extract_block_data_from_subject(root_dir, N_S, datatype, N_B)\n",
        "X = X.get_data()  # Convert EpochsFIF object to numpy array\n",
        "print(X.shape)\n",
        "\n",
        "# Cut useful time. i.e action interval\n",
        "X = select_time_window(X = X, t_start = t_start, t_end = t_end, fs = fs)\n",
        "print(\"Useful Time\")\n",
        "print(X.shape)\n"
      ]
    },
    {
      "cell_type": "code",
      "execution_count": null,
      "metadata": {
        "colab": {
          "base_uri": "https://localhost:8080/"
        },
        "collapsed": true,
        "id": "9ohrUvI8pip3",
        "outputId": "b1c5cc25-3ee8-4a44-a530-69a8206061fb"
      },
      "outputs": [
        {
          "name": "stdout",
          "output_type": "stream",
          "text": [
            "Data shape: [trials x channels x samples]\n",
            "(200, 128, 512)\n",
            "[[[-1.02513480e-06 -2.97182405e-06 -4.15319738e-06 ... -4.46410542e-06\n",
            "   -6.65452343e-06  7.08489580e-06]\n",
            "  [-4.49203568e-07 -2.03831610e-06 -3.63745211e-06 ... -2.25310430e-06\n",
            "   -3.69586614e-06  9.75129690e-06]\n",
            "  [-1.50431891e-06 -3.61439551e-06 -3.69786677e-06 ... -2.60262682e-06\n",
            "   -3.99191695e-06  9.73796342e-06]\n",
            "  ...\n",
            "  [-8.35771700e-06 -5.24462414e-06 -3.19152386e-06 ... -3.62041901e-06\n",
            "   -6.92901719e-06  6.96256686e-06]\n",
            "  [-5.52964743e-06 -5.06957423e-06  1.90176314e-07 ... -5.81086450e-06\n",
            "   -8.79882977e-06  4.80443390e-06]\n",
            "  [-6.50184192e-06 -6.02851307e-06 -1.23248013e-06 ... -5.42413379e-06\n",
            "   -8.85240114e-06  3.80162812e-06]]\n",
            "\n",
            " [[-1.02930860e-05 -8.19610348e-07 -4.54271216e-06 ... -2.07197759e-05\n",
            "   -1.01322115e-05 -1.36270172e-05]\n",
            "  [-1.13510168e-05 -2.34107151e-06 -4.61845756e-06 ... -1.96427954e-05\n",
            "   -9.76487321e-06 -1.23575101e-05]\n",
            "  [-1.12825734e-05 -1.66409852e-06 -4.29376364e-06 ... -2.07103886e-05\n",
            "   -9.81853370e-06 -1.35704493e-05]\n",
            "  ...\n",
            "  [-1.25968475e-05 -6.02861497e-06 -8.82418221e-06 ...  8.40724076e-06\n",
            "    1.69594811e-05 -4.06033751e-06]\n",
            "  [-3.01766568e-06  1.99462863e-06 -7.83967507e-07 ...  1.50592454e-05\n",
            "    2.12468825e-05 -1.10051709e-05]\n",
            "  [-3.65637072e-06  1.98706481e-06  4.11572400e-07 ...  1.51870457e-05\n",
            "    2.07517163e-05 -1.10079056e-05]]\n",
            "\n",
            " [[ 5.45695455e-06 -7.87199797e-07 -2.25329837e-06 ... -1.93296124e-05\n",
            "   -1.06235297e-05 -9.29934040e-06]\n",
            "  [ 6.04870566e-06 -2.11933170e-07 -1.76295269e-06 ... -1.83131179e-05\n",
            "   -1.04689486e-05 -8.59500522e-06]\n",
            "  [ 5.67587970e-06  1.37999805e-07 -1.28845494e-06 ... -1.84286133e-05\n",
            "   -1.05139471e-05 -8.89249279e-06]\n",
            "  ...\n",
            "  [ 7.92380153e-07  1.22671421e-05  5.30028745e-06 ... -5.12863203e-06\n",
            "   -5.53248672e-06 -6.40602266e-06]\n",
            "  [ 2.32344886e-06  2.49209305e-05  1.50088121e-05 ... -5.71781971e-07\n",
            "   -1.79003231e-06  1.23940674e-06]\n",
            "  [ 2.31618570e-06  2.47530284e-05  1.60097738e-05 ...  3.42880808e-07\n",
            "   -1.13095851e-06  2.02257060e-06]]\n",
            "\n",
            " ...\n",
            "\n",
            " [[-2.18046576e-06 -7.10374063e-06  5.84970857e-07 ... -6.64825778e-06\n",
            "   -1.09416863e-05 -6.82610440e-06]\n",
            "  [ 9.00580956e-07 -5.88059879e-06  5.89925539e-07 ... -6.55360469e-06\n",
            "   -1.06460428e-05 -7.88485898e-06]\n",
            "  [-4.20087960e-07 -5.10025329e-06  1.00237064e-06 ... -6.69713860e-06\n",
            "   -1.00744352e-05 -7.42599864e-06]\n",
            "  ...\n",
            "  [ 4.14501290e-06 -1.88015067e-06 -8.32782090e-07 ... -1.64314639e-07\n",
            "    2.04632442e-06  1.07446537e-05]\n",
            "  [ 8.15310704e-07 -1.61277924e-07 -7.82283246e-07 ... -4.69907720e-06\n",
            "   -9.32028827e-07  1.02077892e-05]\n",
            "  [ 1.17368106e-06 -4.92221247e-07 -8.81785280e-07 ... -4.07843677e-06\n",
            "    1.83322218e-07  1.08331977e-05]]\n",
            "\n",
            " [[-2.93399976e-06 -1.35089578e-05  1.09357745e-05 ...  1.71095095e-05\n",
            "    5.40140560e-06 -3.86241969e-06]\n",
            "  [-6.49144577e-06 -1.60752749e-05  9.64280921e-06 ...  1.46548689e-05\n",
            "    3.30670567e-06 -5.84097705e-06]\n",
            "  [-5.02276591e-06 -1.59222123e-05  9.86316377e-06 ...  1.41812630e-05\n",
            "    4.53450861e-06 -4.41704322e-06]\n",
            "  ...\n",
            "  [ 3.69071712e-06 -1.82594542e-05  5.25162770e-06 ...  2.72420993e-06\n",
            "    7.24594478e-07 -4.10280499e-06]\n",
            "  [ 3.45015001e-06 -2.39949090e-05 -6.92899448e-07 ...  4.99879406e-07\n",
            "    6.40739606e-06  2.71694274e-06]\n",
            "  [ 3.15213106e-06 -2.29543624e-05  4.62052684e-07 ...  1.15383160e-06\n",
            "    5.37485360e-06  1.82885607e-06]]\n",
            "\n",
            " [[-1.24865296e-05 -6.62678354e-06 -1.04593034e-05 ...  5.97839881e-06\n",
            "    6.83670044e-06  4.34586510e-06]\n",
            "  [-1.30272091e-05 -7.50868242e-06 -1.10490447e-05 ...  7.65279436e-06\n",
            "    7.15315516e-06  5.91625117e-06]\n",
            "  [-1.40968742e-05 -8.59036912e-06 -1.18465783e-05 ...  6.38539091e-06\n",
            "    7.17935314e-06  5.22427525e-06]\n",
            "  ...\n",
            "  [-1.08084077e-05 -1.35195822e-05 -1.29530806e-05 ... -2.85058701e-06\n",
            "   -1.83848268e-06 -1.25011162e-05]\n",
            "  [-5.01798328e-06 -8.22943438e-06 -9.12931325e-06 ... -2.51578504e-06\n",
            "    4.86082721e-06 -1.08013037e-05]\n",
            "  [-5.50624354e-06 -8.28566809e-06 -8.02168255e-06 ... -2.31393747e-06\n",
            "    5.30180997e-06 -9.57259243e-06]]]\n",
            "Labels shape\n",
            "(200, 4)\n"
          ]
        }
      ],
      "source": [
        "print(\"Data shape: [trials x channels x samples]\")\n",
        "print(X.shape) # Trials, channels, samples\n",
        "print(X)\n",
        "print(\"Labels shape\")\n",
        "print(Y.shape) # Time stamp, class , condition, session\n",
        "# print(Y)"
      ]
    },
    {
      "cell_type": "markdown",
      "metadata": {
        "id": "iZb45qs4VqK4"
      },
      "source": [
        "### Filter By condition i.e Inner"
      ]
    },
    {
      "cell_type": "code",
      "execution_count": null,
      "metadata": {
        "colab": {
          "base_uri": "https://localhost:8080/"
        },
        "id": "-JZoIU7adlpe",
        "outputId": "efd96e5f-ee9f-4bfb-94b9-d0ec7cbb1b34"
      },
      "outputs": [
        {
          "name": "stdout",
          "output_type": "stream",
          "text": [
            "(80, 128, 512)\n",
            "[[[-8.20763985e-06 -6.14716505e-06 -1.62229350e-06 ...  2.42088716e-06\n",
            "    1.21163267e-07 -7.33058517e-07]\n",
            "  [-7.31900346e-06 -6.69376781e-06 -6.48381440e-07 ...  3.79685791e-06\n",
            "    1.28126907e-06  1.27209812e-06]\n",
            "  [-8.05590114e-06 -6.26310350e-06 -1.79536627e-06 ...  3.28918754e-06\n",
            "    2.82916107e-06  1.63580932e-06]\n",
            "  ...\n",
            "  [ 3.82934768e-07  1.73515561e-06  1.17833248e-05 ...  1.84601926e-05\n",
            "    8.54706875e-06  1.10845050e-05]\n",
            "  [-9.77759230e-07 -3.40732593e-06  6.95235457e-06 ...  1.82531757e-05\n",
            "    8.99488212e-06  1.26028610e-05]\n",
            "  [-8.06635787e-07 -3.27045629e-06  8.13911448e-06 ...  1.79338463e-05\n",
            "    9.10056728e-06  1.20425346e-05]]\n",
            "\n",
            " [[-1.56599022e-05 -1.36308952e-05 -7.64903583e-06 ...  8.67381326e-06\n",
            "    3.86804203e-06 -2.57895856e-06]\n",
            "  [-1.52934699e-05 -1.41249077e-05 -8.27963724e-06 ...  8.17245742e-06\n",
            "    4.19376299e-06 -1.28341103e-06]\n",
            "  [-1.53074047e-05 -1.42748310e-05 -6.80524020e-06 ...  7.61756993e-06\n",
            "    3.13097283e-06 -2.29879310e-06]\n",
            "  ...\n",
            "  [-6.12235596e-06 -2.62665852e-06 -8.08026689e-07 ... -4.95443058e-06\n",
            "   -4.60617796e-06 -1.71139148e-07]\n",
            "  [-9.17870028e-06 -7.29297293e-06 -6.27538851e-07 ...  2.00237253e-06\n",
            "   -4.71377079e-07  6.72956720e-06]\n",
            "  [-8.69658706e-06 -6.27079307e-06 -6.69323447e-07 ...  2.03997539e-06\n",
            "   -2.01831909e-06  6.83876964e-06]]]\n",
            "Labels shape\n",
            "(80, 4)\n",
            "[[352288      1      1      2]\n",
            " [358739      1      1      2]\n",
            " [365276      2      1      2]\n",
            " [371675      2      1      2]\n",
            " [378297      3      1      2]]\n"
          ]
        }
      ],
      "source": [
        "X_inner_speech, Y_inner_speech = filter_by_condition(X, Y, condition='Inner')\n",
        "\n",
        "print(X_inner_speech.shape) # Trials, channels, samples\n",
        "print(X_inner_speech[:2])\n",
        "print(\"Labels shape\")\n",
        "print(Y_inner_speech.shape) # Time stamp, class , condition, session\n",
        "print(Y_inner_speech[:5])\n",
        "# here 3rd col is 1 because our condition is inner\n",
        "\n"
      ]
    },
    {
      "cell_type": "markdown",
      "metadata": {
        "id": "ngmoflL-Vt7O"
      },
      "source": [
        "### Filter By class i.e ALL classes"
      ]
    },
    {
      "cell_type": "code",
      "execution_count": null,
      "metadata": {
        "colab": {
          "base_uri": "https://localhost:8080/"
        },
        "id": "TbG-MWx0Vofn",
        "outputId": "a78f82c8-d596-4af1-d305-e52e5e809bcf"
      },
      "outputs": [
        {
          "name": "stdout",
          "output_type": "stream",
          "text": [
            "(200, 4)\n",
            "[[351788      1      1      1]\n",
            " [358546      1      1      1]\n",
            " [365390      3      1      1]\n",
            " [372216      3      1      1]\n",
            " [387985      3      1      1]]\n"
          ]
        }
      ],
      "source": [
        "X_inner_speech, Y_inner_speech= filter_by_class(X_inner_speech, Y_inner_speech, 'ALL')\n",
        "print(Y_inner_speech.shape)\n",
        "print(Y_inner_speech[:5])"
      ]
    },
    {
      "cell_type": "markdown",
      "metadata": {
        "id": "7UPMrUt6qMzJ"
      },
      "source": [
        "## For Single Block full code"
      ]
    },
    {
      "cell_type": "code",
      "execution_count": null,
      "metadata": {
        "id": "hjV0uS0EqP_0"
      },
      "outputs": [],
      "source": [
        "# Load all trials for a single block\n",
        "print(\"Extracted from block\")\n",
        "X, Y = extract_block_data_from_subject(root_dir, N_S, datatype, N_B)\n",
        "X = X.get_data()  # Convert EpochsFIF object to numpy array\n",
        "print(X.shape)\n",
        "\n",
        "# Cut useful time. i.e action interval\n",
        "X = select_time_window(X = X, t_start = t_start, t_end = t_end, fs = fs)\n",
        "print(\"Useful Time\")\n",
        "print(X.shape)\n",
        "\n",
        "# Filter by Condition\n",
        "X_inner_speech, Y_inner_speech = filter_by_condition(X, Y, condition='Inner')\n",
        "\n",
        "print(\"Only Inner Condition\")\n",
        "print(X_inner_speech.shape) # Trials, channels, samples\n",
        "\n",
        "\n",
        "# Filter by Class\n",
        "X_inner_speech, Y_inner_speech= filter_by_class(X_inner_speech, Y_inner_speech, 'ALL')\n",
        "print(\"ALL Classes\")\n",
        "print(Y_inner_speech.shape)"
      ]
    },
    {
      "cell_type": "markdown",
      "metadata": {
        "id": "H1nhZP-emTxQ"
      },
      "source": [
        "## For Single File"
      ]
    },
    {
      "cell_type": "markdown",
      "metadata": {
        "id": "6dSfk_wYmTxa"
      },
      "source": [
        "### Variable"
      ]
    },
    {
      "cell_type": "code",
      "execution_count": null,
      "metadata": {
        "id": "9jId-xz8mTxa"
      },
      "outputs": [],
      "source": [
        "# Subject number\n",
        "N_S = 1   #[1 to 10]"
      ]
    },
    {
      "cell_type": "markdown",
      "metadata": {
        "id": "yogs3odhmTxb"
      },
      "source": [
        "### Data Extraction"
      ]
    },
    {
      "cell_type": "code",
      "execution_count": null,
      "metadata": {
        "id": "ZUilIU8omTxb"
      },
      "outputs": [],
      "source": [
        "# Load all trials for a single subject\n",
        "X, Y = extract_data_from_subject(root_dir, N_S, datatype)\n",
        "\n",
        "# Cut useful time. i.e action interval\n",
        "X = select_time_window(X = X, t_start = t_start, t_end = t_end, fs = fs)"
      ]
    },
    {
      "cell_type": "code",
      "execution_count": null,
      "metadata": {
        "colab": {
          "base_uri": "https://localhost:8080/"
        },
        "id": "kyP2J0XumTxc",
        "outputId": "0ca3a1d1-370f-4594-e4db-3d0d95ef4e15"
      },
      "outputs": [
        {
          "name": "stdout",
          "output_type": "stream",
          "text": [
            "Data shape: [trials x channels x samples]\n",
            "(500, 128, 512)\n",
            "[[[-1.20379933e-05 -1.95058757e-05 -2.01942158e-05 ...  3.08543223e-06\n",
            "    7.04701281e-06  9.29442573e-06]\n",
            "  [-1.17012976e-05 -1.91784380e-05 -1.92504174e-05 ...  2.08320559e-06\n",
            "    7.65046259e-06  8.35493563e-06]\n",
            "  [-1.29292041e-05 -2.01641640e-05 -1.94734098e-05 ...  2.79394564e-06\n",
            "    6.66093819e-06  7.27726346e-06]\n",
            "  ...\n",
            "  [-1.82342995e-05 -2.50100884e-05 -2.67514861e-05 ...  5.23224111e-07\n",
            "    4.52331057e-06  6.30095498e-06]\n",
            "  [ 4.81687940e-06 -7.08986216e-06 -1.06735507e-05 ... -8.36106016e-06\n",
            "   -3.79261698e-06 -1.80993958e-06]\n",
            "  [ 5.00416655e-06 -6.37515261e-06 -1.06575486e-05 ... -9.99147706e-06\n",
            "   -4.24358714e-06 -1.75924281e-06]]\n",
            "\n",
            " [[ 2.77703416e-06 -6.74925204e-06 -1.31109416e-05 ...  5.99739041e-06\n",
            "    6.66551936e-06  2.54237357e-06]\n",
            "  [ 4.49501959e-06 -6.75934237e-06 -1.23802743e-05 ...  6.27099328e-06\n",
            "    6.51496953e-06  1.97233021e-06]\n",
            "  [ 3.12756664e-06 -6.23128913e-06 -1.13302015e-05 ...  6.07433639e-06\n",
            "    6.63065204e-06  1.63136233e-06]\n",
            "  ...\n",
            "  [-1.73486422e-05 -1.84293298e-05 -1.28802664e-05 ... -1.52329224e-05\n",
            "   -5.48075588e-06 -9.29537382e-06]\n",
            "  [-2.35381123e-05 -1.31260604e-05 -1.08766026e-05 ... -1.39283446e-05\n",
            "   -2.46860844e-06 -3.96781461e-06]\n",
            "  [-2.28264343e-05 -1.30521406e-05 -1.07172875e-05 ... -1.22338881e-05\n",
            "   -2.28709324e-06 -2.98783771e-06]]]\n",
            "Labels shape\n",
            "(500, 4)\n",
            "[[ 39869      3      0      1]\n",
            " [ 46491      0      0      1]\n",
            " [ 53010      3      0      1]\n",
            " ...\n",
            " [904589      1      2      3]\n",
            " [911381      3      2      3]\n",
            " [917764      3      2      3]]\n"
          ]
        }
      ],
      "source": [
        "print(\"Data shape: [trials x channels x samples]\")\n",
        "print(X.shape) # Trials, channels, samples\n",
        "print(X[:2])\n",
        "print(\"Labels shape\")\n",
        "print(Y.shape) # Time stamp, class , condition, session\n",
        "print(Y)"
      ]
    },
    {
      "cell_type": "markdown",
      "metadata": {
        "id": "BMhNbBIAmTxc"
      },
      "source": [
        "### Filter By condition i.e Inner"
      ]
    },
    {
      "cell_type": "code",
      "execution_count": null,
      "metadata": {
        "colab": {
          "base_uri": "https://localhost:8080/"
        },
        "id": "8K8bcDxSmTxc",
        "outputId": "aad981d3-8dc6-4026-bfb1-c1a0f2349881"
      },
      "outputs": [
        {
          "name": "stdout",
          "output_type": "stream",
          "text": [
            "(200, 128, 512)\n",
            "[[[ 6.56632558e-06  9.29798573e-06  2.67945790e-06 ...  1.61658549e-05\n",
            "    1.04383488e-05  1.65976586e-05]\n",
            "  [ 6.73392992e-06  9.67485813e-06  3.46813168e-06 ...  1.72691653e-05\n",
            "    1.09798877e-05  1.68224439e-05]\n",
            "  [ 6.44456485e-06  1.05683281e-05  4.08183062e-06 ...  1.62432293e-05\n",
            "    1.10782575e-05  1.67439421e-05]\n",
            "  ...\n",
            "  [ 7.73143200e-06  1.17620983e-05  5.96924569e-06 ...  9.61573311e-07\n",
            "   -5.92098200e-06 -5.22468805e-06]\n",
            "  [ 1.22760126e-05  1.52803701e-05  1.24073505e-05 ... -2.36157544e-06\n",
            "   -1.04331358e-05 -6.78143929e-06]\n",
            "  [ 1.31543686e-05  1.57064520e-05  1.26855428e-05 ... -1.16832456e-06\n",
            "   -9.74268987e-06 -7.23316007e-06]]\n",
            "\n",
            " [[ 6.43505384e-06  9.74383077e-06  6.49930296e-06 ... -6.37214082e-06\n",
            "   -8.33546860e-07 -4.22231469e-06]\n",
            "  [ 7.45222402e-06  1.14393787e-05  6.99356577e-06 ... -6.59965756e-06\n",
            "   -2.04831862e-06 -4.04604928e-06]\n",
            "  [ 5.98240239e-06  1.08866456e-05  7.46583983e-06 ... -6.70286066e-06\n",
            "   -1.62460553e-06 -3.56255504e-06]\n",
            "  ...\n",
            "  [ 7.15915233e-06  2.54357711e-06  8.14027194e-06 ... -3.31713747e-06\n",
            "    2.46091439e-07 -6.87811349e-06]\n",
            "  [ 7.69545261e-06  5.20159339e-06  9.22064896e-06 ... -1.47099956e-05\n",
            "   -1.14419008e-05 -1.34150276e-05]\n",
            "  [ 7.51563557e-06  5.85516514e-06  9.63515251e-06 ... -1.40026302e-05\n",
            "   -1.13516546e-05 -1.46155566e-05]]]\n",
            "Labels shape\n",
            "(200, 4)\n",
            "[[351788      1      1      1]\n",
            " [358546      1      1      1]\n",
            " [365390      3      1      1]\n",
            " [372216      3      1      1]\n",
            " [387985      3      1      1]]\n"
          ]
        }
      ],
      "source": [
        "X_inner_speech, Y_inner_speech = filter_by_condition(X, Y, condition='Inner')\n",
        "\n",
        "print(X_inner_speech.shape) # Trials, channels, samples\n",
        "print(X_inner_speech[:2])\n",
        "print(\"Labels shape\")\n",
        "print(Y_inner_speech.shape) # Time stamp, class , condition, session\n",
        "print(Y_inner_speech[:5])\n",
        "# here 3rd col is 1 because our condition is inner\n",
        "\n"
      ]
    },
    {
      "cell_type": "markdown",
      "metadata": {
        "id": "7FEOkHDxmTxd"
      },
      "source": [
        "### Filter By class i.e ALL classes"
      ]
    },
    {
      "cell_type": "code",
      "execution_count": null,
      "metadata": {
        "colab": {
          "base_uri": "https://localhost:8080/"
        },
        "id": "vdKUiGXamTxd",
        "outputId": "a78f82c8-d596-4af1-d305-e52e5e809bcf"
      },
      "outputs": [
        {
          "name": "stdout",
          "output_type": "stream",
          "text": [
            "(200, 4)\n",
            "[[351788      1      1      1]\n",
            " [358546      1      1      1]\n",
            " [365390      3      1      1]\n",
            " [372216      3      1      1]\n",
            " [387985      3      1      1]]\n"
          ]
        }
      ],
      "source": [
        "X_inner_speech, Y_inner_speech= filter_by_class(X_inner_speech, Y_inner_speech, 'ALL')\n",
        "print(Y_inner_speech.shape)\n",
        "print(Y_inner_speech[:5])"
      ]
    },
    {
      "cell_type": "markdown",
      "metadata": {
        "id": "OFRT9Yqtl9B9"
      },
      "source": [
        "## For Multpile Files"
      ]
    },
    {
      "cell_type": "markdown",
      "metadata": {
        "id": "CpRaq3xkwLej"
      },
      "source": [
        "### Variables"
      ]
    },
    {
      "cell_type": "code",
      "execution_count": null,
      "metadata": {
        "id": "ipJdaxCdwLes"
      },
      "outputs": [],
      "source": [
        "# The root dir has to point to the folder that contains the database\n",
        "root_dir = \"/content/drive/MyDrive/FYPD_Dataset\"\n",
        "save_dir = \"/content/drive/MyDrive/FinalFilterOuput\"\n",
        "\n",
        "# Save options\n",
        "save_bool = True\n",
        "overwrite = True\n",
        "\n",
        "# Subjets list for training\n",
        "N_S_list = [1, 3, 4, 5, 6, 10]\n",
        "\n",
        "# Data filtering\n",
        "datatype = \"eeg\"\n",
        "Cond = \"Inner\"\n",
        "Classes = \"ALL\"\n",
        "\n",
        "# Time window\n",
        "t_start = 0.5\n",
        "t_end = 3\n",
        "\n"
      ]
    },
    {
      "cell_type": "markdown",
      "metadata": {
        "id": "qM_ux43fwUni"
      },
      "source": [
        "### Applying Loop on all files to get Data"
      ]
    },
    {
      "cell_type": "code",
      "execution_count": null,
      "metadata": {
        "colab": {
          "base_uri": "https://localhost:8080/"
        },
        "collapsed": true,
        "id": "P4XgWB6BwUnt",
        "outputId": "4e77f5e9-8b05-4e14-a3d0-5c24ed2badb9"
      },
      "outputs": [
        {
          "name": "stdout",
          "output_type": "stream",
          "text": [
            "Subject: 1\n",
            "Subject: 3\n",
            "Subject: 4\n",
            "Subject: 5\n",
            "Subject: 6\n",
            "Subject: 10\n",
            "X_data\n",
            "[[[ 2.43265769e-06 -1.01428557e-07  7.25519091e-06 ... -1.32315118e-07\n",
            "   -6.09937833e-07  4.61667777e-06]\n",
            "  [-8.24612803e-07 -4.30018556e-06  2.07329927e-06 ...  1.60251161e-07\n",
            "    1.82958368e-07  3.81454099e-06]\n",
            "  [ 1.06996405e-08 -4.24570819e-06  3.18898604e-06 ...  8.86767338e-07\n",
            "    1.03292063e-06  5.44870152e-06]\n",
            "  ...\n",
            "  [-1.21219664e-06 -2.03216044e-06  1.17606921e-06 ... -4.88732753e-06\n",
            "   -5.26748957e-06 -2.55922519e-06]\n",
            "  [ 5.38904286e-06  5.61678599e-06  6.58025076e-06 ... -6.58402346e-06\n",
            "   -8.42901673e-06 -6.15970355e-06]\n",
            "  [ 4.48381734e-06  5.60973900e-06  5.42611555e-06 ... -6.79635071e-06\n",
            "   -8.25751563e-06 -5.23444816e-06]]\n",
            "\n",
            " [[-1.92226540e-06 -1.00479285e-06 -3.75380862e-07 ... -6.20867017e-06\n",
            "   -5.20980092e-06 -8.73323505e-06]\n",
            "  [-4.27371176e-06 -3.54652783e-06 -3.18285473e-06 ... -5.66965388e-06\n",
            "   -4.56361743e-06 -6.91029468e-06]\n",
            "  [-5.63775250e-06 -5.03924926e-06 -3.18307702e-06 ... -5.85181971e-06\n",
            "   -4.40134444e-06 -7.27488410e-06]\n",
            "  ...\n",
            "  [-1.45662520e-05 -1.43518846e-05 -1.47407656e-05 ... -9.25404816e-06\n",
            "   -9.76954935e-06 -7.76662516e-06]\n",
            "  [-1.60309425e-05 -1.50738012e-05 -1.32985414e-05 ... -5.66103498e-06\n",
            "   -1.23418247e-05 -1.07282652e-05]\n",
            "  [-1.53688524e-05 -1.47924291e-05 -1.31822650e-05 ... -4.67972018e-06\n",
            "   -1.15186059e-05 -9.87701761e-06]]\n",
            "\n",
            " [[ 1.43860611e-05  1.49490090e-05  5.18064617e-06 ...  1.14739884e-05\n",
            "    1.43080247e-05  1.14055144e-05]\n",
            "  [ 1.24298970e-05  1.12855783e-05  5.21019517e-06 ...  1.74411706e-05\n",
            "    1.90970703e-05  1.44839731e-05]\n",
            "  [ 1.23814167e-05  1.27291382e-05  5.87413418e-06 ...  1.73930989e-05\n",
            "    1.96176805e-05  1.48301123e-05]\n",
            "  ...\n",
            "  [-1.83344964e-06 -3.34199492e-06 -1.26475838e-06 ...  6.91890445e-06\n",
            "    9.88595693e-06  1.12319791e-06]\n",
            "  [-5.34212239e-06 -8.86081720e-06 -2.64497416e-06 ...  6.70513376e-06\n",
            "    8.02491480e-06 -1.97523759e-06]\n",
            "  [-5.84729428e-06 -9.81149826e-06 -3.22152109e-06 ...  5.15365903e-06\n",
            "    7.78181767e-06 -1.73449359e-06]]\n",
            "\n",
            " ...\n",
            "\n",
            " [[-7.55165095e-06 -9.69424480e-06 -9.79251463e-06 ...  2.35479236e-06\n",
            "   -6.62607847e-07 -3.92705867e-07]\n",
            "  [-9.69868413e-06 -1.02575047e-05 -1.02658001e-05 ...  4.10251725e-06\n",
            "    8.13018878e-07  4.57986240e-08]\n",
            "  [-8.40261134e-06 -1.00025513e-05 -1.02316662e-05 ...  4.10902777e-06\n",
            "    1.27609267e-06  5.43609028e-07]\n",
            "  ...\n",
            "  [-5.01577740e-07 -2.59516763e-06 -2.89096769e-06 ...  4.67783781e-06\n",
            "    2.74376050e-07 -1.74588229e-06]\n",
            "  [-5.42502232e-06 -5.58605263e-06 -6.52796338e-06 ...  5.60259044e-06\n",
            "    1.89443808e-06  3.90501164e-07]\n",
            "  [-4.74348453e-06 -5.29355765e-06 -6.08360918e-06 ...  5.38444253e-06\n",
            "    1.75344029e-06  5.70077497e-07]]\n",
            "\n",
            " [[ 1.37192864e-05  6.53263011e-06  4.22684211e-06 ... -3.75137621e-06\n",
            "    3.15600820e-06  7.96505976e-06]\n",
            "  [ 1.02243233e-05  4.89789609e-06  5.40444175e-06 ...  1.75098466e-06\n",
            "    8.15714004e-06  9.69978350e-06]\n",
            "  [ 9.85359434e-06  4.83978379e-06  5.65677415e-06 ...  1.50051358e-06\n",
            "    7.72439495e-06  8.96605400e-06]\n",
            "  ...\n",
            "  [-3.62450882e-06 -6.21158701e-07  3.17656817e-06 ...  7.97924568e-06\n",
            "    1.37991618e-05  9.21049189e-06]\n",
            "  [-5.90982586e-06 -2.69708373e-06  1.42070985e-06 ...  3.41521641e-06\n",
            "    9.18815391e-06  3.88203861e-06]\n",
            "  [-5.01856970e-06 -2.56368234e-06  1.75035997e-06 ...  3.62754610e-06\n",
            "    8.75101362e-06  3.18177405e-06]]\n",
            "\n",
            " [[-7.89316094e-06 -6.24517634e-06 -4.25030673e-06 ... -5.96717640e-06\n",
            "   -5.20529952e-06 -7.79146681e-06]\n",
            "  [-3.07293529e-06 -3.22125604e-06 -1.98770810e-06 ... -7.50594431e-06\n",
            "   -6.26946357e-06 -9.65856829e-06]\n",
            "  [-2.79305506e-06 -3.95145454e-06 -2.81275811e-06 ... -7.83770871e-06\n",
            "   -7.94197333e-06 -1.03972771e-05]\n",
            "  ...\n",
            "  [ 7.58259643e-06  5.25336250e-06  1.09213230e-05 ... -1.76089899e-05\n",
            "   -1.64035971e-05 -1.39556369e-05]\n",
            "  [ 6.76735137e-07  1.66479349e-06  6.65383345e-06 ... -3.51466494e-06\n",
            "   -5.52889039e-06 -7.13144233e-06]\n",
            "  [-1.85273632e-08  1.62907558e-06  6.89901838e-06 ... -4.41413802e-06\n",
            "   -6.86458790e-06 -6.41072792e-06]]]\n",
            "(240, 128, 1153)\n",
            "Y_data\n",
            "[[351081      3      1      1]\n",
            " [357907      2      1      1]\n",
            " [364290      1      1      1]\n",
            " [370690      0      1      1]\n",
            " [377141      0      1      1]\n",
            " [383831      3      1      1]\n",
            " [390589      1      1      1]\n",
            " [397296      3      1      1]\n",
            " [403901      3      1      1]\n",
            " [410556      2      1      1]]\n"
          ]
        }
      ],
      "source": [
        "# Initialize lists to hold all features and labels\n",
        "all_features = []\n",
        "all_labels = []\n",
        "\n",
        "for N_S in N_S_list:\n",
        "    print(f\"Processing Subject: {N_S}\")\n",
        "\n",
        "\n",
        "    # Load all trials for a single subject\n",
        "    X, Y = extract_data_from_subject(root_dir, N_S, datatype)\n",
        "\n",
        "    # Cut useful time. i.e action interval\n",
        "    X = select_time_window(X=X, t_start=t_start, t_end=t_end, fs=fs)\n",
        "\n",
        "    # Filter By condition i.e Inner\n",
        "    X, Y = filter_by_condition(X, Y, condition='Inner')\n",
        "\n",
        "    # Filter By class i.e ALL classes\n",
        "    X, Y = filter_by_class(X, Y, 'ALL')\n",
        "    # Append the data to the lists\n",
        "    all_features.append(X)\n",
        "    all_labels.append(Y)\n",
        "\n",
        "# Stack all the features and labels\n",
        "X_data = np.vstack(all_features)\n",
        "Y_data = np.vstack(all_labels)\n",
        "\n",
        "print(\"Combined Features shape:\", X_data.shape)\n",
        "print(\"Combined Labels shape:\", Y_data.shape)\n",
        "print(\"First few combined features:\\n\", X_data[:5])\n",
        "print(\"First few combined labels:\\n\", Y_data[:5])"
      ]
    },
    {
      "cell_type": "markdown",
      "metadata": {
        "id": "0NQSj2Wkjack"
      },
      "source": [
        "# **--------------------------- Basic Features Extraction\\------------------------------------**\n",
        "\n"
      ]
    },
    {
      "cell_type": "markdown",
      "metadata": {
        "id": "4Yz6U3Wtm5l3"
      },
      "source": [
        "## For Single File"
      ]
    },
    {
      "cell_type": "markdown",
      "metadata": {
        "id": "xqhtJe_Km5mK"
      },
      "source": [
        "### Variable"
      ]
    },
    {
      "cell_type": "code",
      "execution_count": null,
      "metadata": {
        "id": "renMrwebm5mL"
      },
      "outputs": [],
      "source": [
        "# Subject number\n",
        "N_S = 1   #[1 to 10]"
      ]
    },
    {
      "cell_type": "markdown",
      "metadata": {
        "id": "RcpRBytwm5mL"
      },
      "source": [
        "### Data Extraction"
      ]
    },
    {
      "cell_type": "code",
      "execution_count": null,
      "metadata": {
        "id": "DvTxUlQUm5mL"
      },
      "outputs": [],
      "source": [
        "# Load all trials for a single subject\n",
        "X, Y = extract_data_from_subject(root_dir, N_S, datatype)\n",
        "\n",
        "# Cut useful time. i.e action interval\n",
        "X = select_time_window(X = X, t_start = t_start, t_end = t_end, fs = fs)"
      ]
    },
    {
      "cell_type": "code",
      "execution_count": null,
      "metadata": {
        "colab": {
          "base_uri": "https://localhost:8080/"
        },
        "collapsed": true,
        "id": "CJfGhytQm5mL",
        "outputId": "0ca3a1d1-370f-4594-e4db-3d0d95ef4e15"
      },
      "outputs": [
        {
          "name": "stdout",
          "output_type": "stream",
          "text": [
            "Data shape: [trials x channels x samples]\n",
            "(500, 128, 512)\n",
            "[[[-1.20379933e-05 -1.95058757e-05 -2.01942158e-05 ...  3.08543223e-06\n",
            "    7.04701281e-06  9.29442573e-06]\n",
            "  [-1.17012976e-05 -1.91784380e-05 -1.92504174e-05 ...  2.08320559e-06\n",
            "    7.65046259e-06  8.35493563e-06]\n",
            "  [-1.29292041e-05 -2.01641640e-05 -1.94734098e-05 ...  2.79394564e-06\n",
            "    6.66093819e-06  7.27726346e-06]\n",
            "  ...\n",
            "  [-1.82342995e-05 -2.50100884e-05 -2.67514861e-05 ...  5.23224111e-07\n",
            "    4.52331057e-06  6.30095498e-06]\n",
            "  [ 4.81687940e-06 -7.08986216e-06 -1.06735507e-05 ... -8.36106016e-06\n",
            "   -3.79261698e-06 -1.80993958e-06]\n",
            "  [ 5.00416655e-06 -6.37515261e-06 -1.06575486e-05 ... -9.99147706e-06\n",
            "   -4.24358714e-06 -1.75924281e-06]]\n",
            "\n",
            " [[ 2.77703416e-06 -6.74925204e-06 -1.31109416e-05 ...  5.99739041e-06\n",
            "    6.66551936e-06  2.54237357e-06]\n",
            "  [ 4.49501959e-06 -6.75934237e-06 -1.23802743e-05 ...  6.27099328e-06\n",
            "    6.51496953e-06  1.97233021e-06]\n",
            "  [ 3.12756664e-06 -6.23128913e-06 -1.13302015e-05 ...  6.07433639e-06\n",
            "    6.63065204e-06  1.63136233e-06]\n",
            "  ...\n",
            "  [-1.73486422e-05 -1.84293298e-05 -1.28802664e-05 ... -1.52329224e-05\n",
            "   -5.48075588e-06 -9.29537382e-06]\n",
            "  [-2.35381123e-05 -1.31260604e-05 -1.08766026e-05 ... -1.39283446e-05\n",
            "   -2.46860844e-06 -3.96781461e-06]\n",
            "  [-2.28264343e-05 -1.30521406e-05 -1.07172875e-05 ... -1.22338881e-05\n",
            "   -2.28709324e-06 -2.98783771e-06]]]\n",
            "Labels shape\n",
            "(500, 4)\n",
            "[[ 39869      3      0      1]\n",
            " [ 46491      0      0      1]\n",
            " [ 53010      3      0      1]\n",
            " ...\n",
            " [904589      1      2      3]\n",
            " [911381      3      2      3]\n",
            " [917764      3      2      3]]\n"
          ]
        }
      ],
      "source": [
        "print(\"Data shape: [trials x channels x samples]\")\n",
        "print(X.shape) # Trials, channels, samples\n",
        "print(X[:2])\n",
        "print(\"Labels shape\")\n",
        "print(Y.shape) # Time stamp, class , condition, session\n",
        "print(Y)"
      ]
    },
    {
      "cell_type": "markdown",
      "metadata": {
        "id": "pzdymfBfm5mM"
      },
      "source": [
        "### Filter By condition i.e Inner"
      ]
    },
    {
      "cell_type": "code",
      "execution_count": null,
      "metadata": {
        "colab": {
          "base_uri": "https://localhost:8080/"
        },
        "id": "liqo5Z1Ym5mM",
        "outputId": "aad981d3-8dc6-4026-bfb1-c1a0f2349881"
      },
      "outputs": [
        {
          "name": "stdout",
          "output_type": "stream",
          "text": [
            "(200, 128, 512)\n",
            "[[[ 6.56632558e-06  9.29798573e-06  2.67945790e-06 ...  1.61658549e-05\n",
            "    1.04383488e-05  1.65976586e-05]\n",
            "  [ 6.73392992e-06  9.67485813e-06  3.46813168e-06 ...  1.72691653e-05\n",
            "    1.09798877e-05  1.68224439e-05]\n",
            "  [ 6.44456485e-06  1.05683281e-05  4.08183062e-06 ...  1.62432293e-05\n",
            "    1.10782575e-05  1.67439421e-05]\n",
            "  ...\n",
            "  [ 7.73143200e-06  1.17620983e-05  5.96924569e-06 ...  9.61573311e-07\n",
            "   -5.92098200e-06 -5.22468805e-06]\n",
            "  [ 1.22760126e-05  1.52803701e-05  1.24073505e-05 ... -2.36157544e-06\n",
            "   -1.04331358e-05 -6.78143929e-06]\n",
            "  [ 1.31543686e-05  1.57064520e-05  1.26855428e-05 ... -1.16832456e-06\n",
            "   -9.74268987e-06 -7.23316007e-06]]\n",
            "\n",
            " [[ 6.43505384e-06  9.74383077e-06  6.49930296e-06 ... -6.37214082e-06\n",
            "   -8.33546860e-07 -4.22231469e-06]\n",
            "  [ 7.45222402e-06  1.14393787e-05  6.99356577e-06 ... -6.59965756e-06\n",
            "   -2.04831862e-06 -4.04604928e-06]\n",
            "  [ 5.98240239e-06  1.08866456e-05  7.46583983e-06 ... -6.70286066e-06\n",
            "   -1.62460553e-06 -3.56255504e-06]\n",
            "  ...\n",
            "  [ 7.15915233e-06  2.54357711e-06  8.14027194e-06 ... -3.31713747e-06\n",
            "    2.46091439e-07 -6.87811349e-06]\n",
            "  [ 7.69545261e-06  5.20159339e-06  9.22064896e-06 ... -1.47099956e-05\n",
            "   -1.14419008e-05 -1.34150276e-05]\n",
            "  [ 7.51563557e-06  5.85516514e-06  9.63515251e-06 ... -1.40026302e-05\n",
            "   -1.13516546e-05 -1.46155566e-05]]]\n",
            "Labels shape\n",
            "(200, 4)\n",
            "[[351788      1      1      1]\n",
            " [358546      1      1      1]\n",
            " [365390      3      1      1]\n",
            " [372216      3      1      1]\n",
            " [387985      3      1      1]]\n"
          ]
        }
      ],
      "source": [
        "X, Y = filter_by_condition(X, Y, condition='Inner')\n",
        "\n",
        "print(X.shape) # Trials, channels, samples\n",
        "print(X[:2])\n",
        "print(\"Labels shape\")\n",
        "print(Y.shape) # Time stamp, class , condition, session\n",
        "print(Y[:5])\n",
        "# here 3rd col is 1 because our condition is inner\n",
        "\n"
      ]
    },
    {
      "cell_type": "markdown",
      "metadata": {
        "id": "pBFam0hUm5mM"
      },
      "source": [
        "### Filter By class i.e ALL classes"
      ]
    },
    {
      "cell_type": "code",
      "execution_count": null,
      "metadata": {
        "colab": {
          "base_uri": "https://localhost:8080/"
        },
        "id": "3fCHp6iem5mM",
        "outputId": "a78f82c8-d596-4af1-d305-e52e5e809bcf"
      },
      "outputs": [
        {
          "name": "stdout",
          "output_type": "stream",
          "text": [
            "(200, 4)\n",
            "[[351788      1      1      1]\n",
            " [358546      1      1      1]\n",
            " [365390      3      1      1]\n",
            " [372216      3      1      1]\n",
            " [387985      3      1      1]]\n"
          ]
        }
      ],
      "source": [
        "\n",
        "X, Y= filter_by_class(X, Y, 'ALL')\n",
        "print(Y.shape)\n",
        "print(Y[:5])"
      ]
    },
    {
      "cell_type": "markdown",
      "metadata": {
        "id": "Z6s2roUEnARR"
      },
      "source": [
        "### Extract Features From Epochs"
      ]
    },
    {
      "cell_type": "code",
      "execution_count": null,
      "metadata": {
        "id": "ki5M5MN0nMlr"
      },
      "outputs": [],
      "source": [
        "import numpy as np\n",
        "\n",
        "# Assuming X is your data\n",
        "# Example data shape: (num_epochs, num_channels, num_samples)\n",
        "# Replace this with your actual data\n",
        "# X = your_data\n",
        "\n",
        "# Mean amplitude across all channels for each epoch\n",
        "mean_amplitude = X.mean(axis=2)\n",
        "print(\"Mean Amplitude:\\n\", mean_amplitude[:5])\n",
        "\n",
        "# Standard deviation of amplitude across all channels for each epoch\n",
        "std_amplitude = X.std(axis=2)\n",
        "print(\"Standard Deviation Amplitude:\\n\", std_amplitude[:5])\n",
        "\n",
        "# Variance of amplitude across all channels for each epoch\n",
        "var_amplitude = X.var(axis=2)\n",
        "print(\"Variance Amplitude:\\n\", var_amplitude[:5])\n",
        "\n",
        "# Minimum amplitude across all channels for each epoch\n",
        "min_amplitude = X.min(axis=2)\n",
        "print(\"Minimum Amplitude:\\n\", min_amplitude[:5])\n",
        "\n",
        "# Maximum amplitude across all channels for each epoch\n",
        "max_amplitude = X.max(axis=2)\n",
        "print(\"Maximum Amplitude:\\n\", max_amplitude[:5])\n",
        "\n",
        "# Range (peak-to-peak) of amplitude across all channels for each epoch\n",
        "ptp_amplitude = X.ptp(axis=2)\n",
        "print(\"Peak-to-Peak Amplitude:\\n\", ptp_amplitude[:5])\n",
        "\n",
        "# Index of minimum amplitude across all channels for each epoch\n",
        "argmin_amplitude = X.argmin(axis=2)\n",
        "print(\"Index of Minimum Amplitude:\\n\", argmin_amplitude[:5])\n",
        "\n",
        "# Index of maximum amplitude across all channels for each epoch\n",
        "argmax_amplitude = X.argmax(axis=2)\n",
        "print(\"Index of Maximum Amplitude:\\n\", argmax_amplitude[:5])\n",
        "\n",
        "# Combine extracted features into a feature matrix\n",
        "features = np.hstack([mean_amplitude,\n",
        "                      std_amplitude,\n",
        "                      var_amplitude,\n",
        "                      min_amplitude,\n",
        "                      max_amplitude,\n",
        "                      ptp_amplitude,\n",
        "                      argmin_amplitude,\n",
        "                      argmax_amplitude])\n",
        "\n",
        "print(\"Features shape:\", features.shape)\n",
        "print(\"Features:\\n\", features[:5])\n"
      ]
    },
    {
      "cell_type": "markdown",
      "metadata": {
        "id": "5UOwhEhXoDF-"
      },
      "source": [
        "## For Multiple Files\n"
      ]
    },
    {
      "cell_type": "markdown",
      "metadata": {
        "id": "3sHZfT6soo_b"
      },
      "source": [
        "### Variables"
      ]
    },
    {
      "cell_type": "code",
      "execution_count": null,
      "metadata": {
        "id": "qUDBQSeso1Bj"
      },
      "outputs": [],
      "source": [
        "# The root dir has to point to the folder that contains the database\n",
        "root_dir = \"/content/drive/MyDrive/FYPD_Dataset\"\n",
        "save_dir = \"/content/drive/MyDrive/FinalFilterOuput\"\n",
        "\n",
        "# Save options\n",
        "save_bool = True\n",
        "overwrite = True\n",
        "\n",
        "# Subjets list for training\n",
        "N_S_list = [1, 3, 4, 5, 6, 10]\n",
        "\n",
        "# Data filtering\n",
        "datatype = \"eeg\"\n",
        "Cond = \"Inner\"\n",
        "Classes = \"ALL\"\n",
        "\n",
        "# Time window\n",
        "t_start = 0.5\n",
        "t_end = 3\n",
        "fs = 256  # Sampling rate"
      ]
    },
    {
      "cell_type": "markdown",
      "metadata": {
        "id": "uASG0eczo44Z"
      },
      "source": [
        "### Extract Feature Function"
      ]
    },
    {
      "cell_type": "code",
      "execution_count": null,
      "metadata": {
        "id": "33OW4ZhOo9_G"
      },
      "outputs": [],
      "source": [
        "def extract_and_process_features(root_dir, N_S, t_start, t_end, fs):\n",
        "    # Load all trials for a single subject\n",
        "    X, Y = extract_data_from_subject(root_dir, N_S, datatype)\n",
        "\n",
        "    # Cut useful time. i.e action interval\n",
        "    X = select_time_window(X=X, t_start=t_start, t_end=t_end, fs=fs)\n",
        "\n",
        "    # Filter By condition i.e Inner\n",
        "    X, Y = filter_by_condition(X, Y, condition='Inner')\n",
        "\n",
        "    # Filter By class i.e ALL classes\n",
        "    X, Y = filter_by_class(X, Y, 'ALL')\n",
        "\n",
        "    # Mean amplitude across all channels for each epoch\n",
        "    mean_amplitude = X.mean(axis=2)\n",
        "\n",
        "    # Standard deviation of amplitude across all channels for each epoch\n",
        "    std_amplitude = X.std(axis=2)\n",
        "\n",
        "    # Variance of amplitude across all channels for each epoch\n",
        "    var_amplitude = X.var(axis=2)\n",
        "\n",
        "    # Minimum amplitude across all channels for each epoch\n",
        "    min_amplitude = X.min(axis=2)\n",
        "\n",
        "    # Maximum amplitude across all channels for each epoch\n",
        "    max_amplitude = X.max(axis=2)\n",
        "\n",
        "    # Range (peak-to-peak) of amplitude across all channels for each epoch\n",
        "    ptp_amplitude = X.ptp(axis=2)\n",
        "\n",
        "    # Index of minimum amplitude across all channels for each epoch\n",
        "    argmin_amplitude = X.argmin(axis=2)\n",
        "\n",
        "    # Index of maximum amplitude across all channels for each epoch\n",
        "    argmax_amplitude = X.argmax(axis=2)\n",
        "\n",
        "    # Combine extracted features into a feature matrix\n",
        "    features = np.hstack([mean_amplitude,\n",
        "                          std_amplitude,\n",
        "                          var_amplitude,\n",
        "                          min_amplitude,\n",
        "                          max_amplitude,\n",
        "                          ptp_amplitude,\n",
        "                          argmin_amplitude,\n",
        "                          argmax_amplitude])\n",
        "\n",
        "    return features, Y\n"
      ]
    },
    {
      "cell_type": "markdown",
      "metadata": {
        "id": "nZ8qs88moJ5k"
      },
      "source": [
        "### Applying Loop on all files to get Data"
      ]
    },
    {
      "cell_type": "code",
      "execution_count": null,
      "metadata": {
        "colab": {
          "base_uri": "https://localhost:8080/"
        },
        "collapsed": true,
        "id": "pd1gkaM0oJ5u",
        "outputId": "4e77f5e9-8b05-4e14-a3d0-5c24ed2badb9"
      },
      "outputs": [
        {
          "name": "stdout",
          "output_type": "stream",
          "text": [
            "Subject: 1\n",
            "Subject: 3\n",
            "Subject: 4\n",
            "Subject: 5\n",
            "Subject: 6\n",
            "Subject: 10\n",
            "X_data\n",
            "[[[ 2.43265769e-06 -1.01428557e-07  7.25519091e-06 ... -1.32315118e-07\n",
            "   -6.09937833e-07  4.61667777e-06]\n",
            "  [-8.24612803e-07 -4.30018556e-06  2.07329927e-06 ...  1.60251161e-07\n",
            "    1.82958368e-07  3.81454099e-06]\n",
            "  [ 1.06996405e-08 -4.24570819e-06  3.18898604e-06 ...  8.86767338e-07\n",
            "    1.03292063e-06  5.44870152e-06]\n",
            "  ...\n",
            "  [-1.21219664e-06 -2.03216044e-06  1.17606921e-06 ... -4.88732753e-06\n",
            "   -5.26748957e-06 -2.55922519e-06]\n",
            "  [ 5.38904286e-06  5.61678599e-06  6.58025076e-06 ... -6.58402346e-06\n",
            "   -8.42901673e-06 -6.15970355e-06]\n",
            "  [ 4.48381734e-06  5.60973900e-06  5.42611555e-06 ... -6.79635071e-06\n",
            "   -8.25751563e-06 -5.23444816e-06]]\n",
            "\n",
            " [[-1.92226540e-06 -1.00479285e-06 -3.75380862e-07 ... -6.20867017e-06\n",
            "   -5.20980092e-06 -8.73323505e-06]\n",
            "  [-4.27371176e-06 -3.54652783e-06 -3.18285473e-06 ... -5.66965388e-06\n",
            "   -4.56361743e-06 -6.91029468e-06]\n",
            "  [-5.63775250e-06 -5.03924926e-06 -3.18307702e-06 ... -5.85181971e-06\n",
            "   -4.40134444e-06 -7.27488410e-06]\n",
            "  ...\n",
            "  [-1.45662520e-05 -1.43518846e-05 -1.47407656e-05 ... -9.25404816e-06\n",
            "   -9.76954935e-06 -7.76662516e-06]\n",
            "  [-1.60309425e-05 -1.50738012e-05 -1.32985414e-05 ... -5.66103498e-06\n",
            "   -1.23418247e-05 -1.07282652e-05]\n",
            "  [-1.53688524e-05 -1.47924291e-05 -1.31822650e-05 ... -4.67972018e-06\n",
            "   -1.15186059e-05 -9.87701761e-06]]\n",
            "\n",
            " [[ 1.43860611e-05  1.49490090e-05  5.18064617e-06 ...  1.14739884e-05\n",
            "    1.43080247e-05  1.14055144e-05]\n",
            "  [ 1.24298970e-05  1.12855783e-05  5.21019517e-06 ...  1.74411706e-05\n",
            "    1.90970703e-05  1.44839731e-05]\n",
            "  [ 1.23814167e-05  1.27291382e-05  5.87413418e-06 ...  1.73930989e-05\n",
            "    1.96176805e-05  1.48301123e-05]\n",
            "  ...\n",
            "  [-1.83344964e-06 -3.34199492e-06 -1.26475838e-06 ...  6.91890445e-06\n",
            "    9.88595693e-06  1.12319791e-06]\n",
            "  [-5.34212239e-06 -8.86081720e-06 -2.64497416e-06 ...  6.70513376e-06\n",
            "    8.02491480e-06 -1.97523759e-06]\n",
            "  [-5.84729428e-06 -9.81149826e-06 -3.22152109e-06 ...  5.15365903e-06\n",
            "    7.78181767e-06 -1.73449359e-06]]\n",
            "\n",
            " ...\n",
            "\n",
            " [[-7.55165095e-06 -9.69424480e-06 -9.79251463e-06 ...  2.35479236e-06\n",
            "   -6.62607847e-07 -3.92705867e-07]\n",
            "  [-9.69868413e-06 -1.02575047e-05 -1.02658001e-05 ...  4.10251725e-06\n",
            "    8.13018878e-07  4.57986240e-08]\n",
            "  [-8.40261134e-06 -1.00025513e-05 -1.02316662e-05 ...  4.10902777e-06\n",
            "    1.27609267e-06  5.43609028e-07]\n",
            "  ...\n",
            "  [-5.01577740e-07 -2.59516763e-06 -2.89096769e-06 ...  4.67783781e-06\n",
            "    2.74376050e-07 -1.74588229e-06]\n",
            "  [-5.42502232e-06 -5.58605263e-06 -6.52796338e-06 ...  5.60259044e-06\n",
            "    1.89443808e-06  3.90501164e-07]\n",
            "  [-4.74348453e-06 -5.29355765e-06 -6.08360918e-06 ...  5.38444253e-06\n",
            "    1.75344029e-06  5.70077497e-07]]\n",
            "\n",
            " [[ 1.37192864e-05  6.53263011e-06  4.22684211e-06 ... -3.75137621e-06\n",
            "    3.15600820e-06  7.96505976e-06]\n",
            "  [ 1.02243233e-05  4.89789609e-06  5.40444175e-06 ...  1.75098466e-06\n",
            "    8.15714004e-06  9.69978350e-06]\n",
            "  [ 9.85359434e-06  4.83978379e-06  5.65677415e-06 ...  1.50051358e-06\n",
            "    7.72439495e-06  8.96605400e-06]\n",
            "  ...\n",
            "  [-3.62450882e-06 -6.21158701e-07  3.17656817e-06 ...  7.97924568e-06\n",
            "    1.37991618e-05  9.21049189e-06]\n",
            "  [-5.90982586e-06 -2.69708373e-06  1.42070985e-06 ...  3.41521641e-06\n",
            "    9.18815391e-06  3.88203861e-06]\n",
            "  [-5.01856970e-06 -2.56368234e-06  1.75035997e-06 ...  3.62754610e-06\n",
            "    8.75101362e-06  3.18177405e-06]]\n",
            "\n",
            " [[-7.89316094e-06 -6.24517634e-06 -4.25030673e-06 ... -5.96717640e-06\n",
            "   -5.20529952e-06 -7.79146681e-06]\n",
            "  [-3.07293529e-06 -3.22125604e-06 -1.98770810e-06 ... -7.50594431e-06\n",
            "   -6.26946357e-06 -9.65856829e-06]\n",
            "  [-2.79305506e-06 -3.95145454e-06 -2.81275811e-06 ... -7.83770871e-06\n",
            "   -7.94197333e-06 -1.03972771e-05]\n",
            "  ...\n",
            "  [ 7.58259643e-06  5.25336250e-06  1.09213230e-05 ... -1.76089899e-05\n",
            "   -1.64035971e-05 -1.39556369e-05]\n",
            "  [ 6.76735137e-07  1.66479349e-06  6.65383345e-06 ... -3.51466494e-06\n",
            "   -5.52889039e-06 -7.13144233e-06]\n",
            "  [-1.85273632e-08  1.62907558e-06  6.89901838e-06 ... -4.41413802e-06\n",
            "   -6.86458790e-06 -6.41072792e-06]]]\n",
            "(240, 128, 1153)\n",
            "Y_data\n",
            "[[351081      3      1      1]\n",
            " [357907      2      1      1]\n",
            " [364290      1      1      1]\n",
            " [370690      0      1      1]\n",
            " [377141      0      1      1]\n",
            " [383831      3      1      1]\n",
            " [390589      1      1      1]\n",
            " [397296      3      1      1]\n",
            " [403901      3      1      1]\n",
            " [410556      2      1      1]]\n"
          ]
        }
      ],
      "source": [
        "# Initialize lists to hold all features and labels\n",
        "all_features = []\n",
        "all_labels = []\n",
        "\n",
        "for N_S in N_S_list:\n",
        "    print(f\"Processing Subject: {N_S}\")\n",
        "\n",
        "    # Extract and process features for each subject\n",
        "    features, labels = extract_and_process_features(root_dir, N_S, t_start, t_end, fs)\n",
        "\n",
        "    # Append the data to the lists\n",
        "    all_features.append(features)\n",
        "    all_labels.append(labels)\n",
        "\n",
        "# Stack all the features and labels\n",
        "X_data = np.vstack(all_features)\n",
        "Y_data = np.vstack(all_labels)\n",
        "\n",
        "print(\"Combined Features shape:\", X_data.shape)\n",
        "print(\"Combined Labels shape:\", Y_data.shape)\n",
        "print(\"First few combined features:\\n\", X_data[:5])\n",
        "print(\"First few combined labels:\\n\", Y_data[:5])"
      ]
    },
    {
      "cell_type": "markdown",
      "metadata": {
        "id": "Xo3EFDDhpLuj"
      },
      "source": [
        "### Saving File"
      ]
    },
    {
      "cell_type": "code",
      "execution_count": null,
      "metadata": {
        "id": "x3ujt9NfpPM7"
      },
      "outputs": [],
      "source": [
        "if save_bool:\n",
        "    save_dir = \"/content/drive/MyDrive/FinalFilterOuput\"\n",
        "    file_name = save_dir + \"/Basic_Features_Combined.npz\"\n",
        "    print(f\"Saving combined features and labels to: {file_name}\")\n",
        "    np.savez(file_name, features=X_data, labels=Y_data)\n",
        "    print(\"Saving completed.\")"
      ]
    },
    {
      "cell_type": "markdown",
      "metadata": {
        "id": "8amZY61-pUQS"
      },
      "source": [
        "### Full Code"
      ]
    },
    {
      "cell_type": "code",
      "execution_count": null,
      "metadata": {
        "colab": {
          "base_uri": "https://localhost:8080/"
        },
        "id": "IgkfZgQrpXrL",
        "outputId": "3fe2d23b-5494-4ccd-eee1-fa8f9980f9ff"
      },
      "outputs": [
        {
          "name": "stdout",
          "output_type": "stream",
          "text": [
            "Processing Subject: 1\n",
            "Processing Subject: 3\n",
            "Processing Subject: 4\n",
            "Processing Subject: 5\n",
            "Processing Subject: 6\n",
            "Processing Subject: 10\n",
            "Combined Features shape: (1316, 1024)\n",
            "Combined Labels shape: (1316, 4)\n",
            "First few combined features:\n",
            " [[-1.44926440e-07 -2.41274164e-07 -1.65853606e-07 ...  5.67000000e+02\n",
            "   3.87000000e+02  3.87000000e+02]\n",
            " [ 3.57391801e-07  5.32243938e-07  5.21395542e-07 ...  1.13000000e+02\n",
            "   1.13000000e+02  1.13000000e+02]\n",
            " [ 6.80624934e-07  7.57871880e-07  7.30686012e-07 ...  3.04000000e+02\n",
            "   3.04000000e+02  3.04000000e+02]\n",
            " [-1.70592281e-06 -1.61237645e-06 -1.68455752e-06 ...  4.22000000e+02\n",
            "   3.19000000e+02  3.19000000e+02]\n",
            " [ 2.39105022e-06  2.28492377e-06  2.37352073e-06 ...  5.40000000e+02\n",
            "   4.96000000e+02  4.96000000e+02]]\n",
            "First few combined labels:\n",
            " [[351788      1      1      1]\n",
            " [358546      1      1      1]\n",
            " [365390      3      1      1]\n",
            " [372216      3      1      1]\n",
            " [387985      3      1      1]]\n",
            "Saving combined features and labels to: /content/drive/MyDrive/FinalFilterOuput/Combined_Features.npz\n",
            "Saving completed.\n"
          ]
        }
      ],
      "source": [
        "import numpy as np\n",
        "\n",
        "### ---- Processing Variables ---- ###\n",
        "\n",
        "# The root dir has to point to the folder that contains the database\n",
        "root_dir = \"/content/drive/MyDrive/FYPD_Dataset\"\n",
        "save_dir = \"/content/drive/MyDrive/FinalFilterOuput\"\n",
        "\n",
        "# Save options\n",
        "save_bool = True\n",
        "overwrite = True\n",
        "\n",
        "# Subjets list for training\n",
        "N_S_list = [1, 3, 4, 5, 6, 10]\n",
        "\n",
        "# Data filtering\n",
        "datatype = \"eeg\"\n",
        "Cond = \"Inner\"\n",
        "Classes = \"ALL\"\n",
        "\n",
        "# Time window\n",
        "t_start = 0.5\n",
        "t_end = 3\n",
        "fs = 256  # Sampling rate\n",
        "\n",
        "### Define Functions ###\n",
        "\n",
        "def extract_and_process_features(root_dir, N_S, t_start, t_end, fs):\n",
        "    # Load all trials for a single subject\n",
        "    X, Y = extract_data_from_subject(root_dir, N_S, datatype)\n",
        "\n",
        "    # Cut useful time. i.e action interval\n",
        "    X = select_time_window(X=X, t_start=t_start, t_end=t_end, fs=fs)\n",
        "\n",
        "    # Filter By condition i.e Inner\n",
        "    X, Y = filter_by_condition(X, Y, condition='Inner')\n",
        "\n",
        "    # Filter By class i.e ALL classes\n",
        "    X, Y = filter_by_class(X, Y, 'ALL')\n",
        "\n",
        "    # Mean amplitude across all channels for each epoch\n",
        "    mean_amplitude = X.mean(axis=2)\n",
        "\n",
        "    # Standard deviation of amplitude across all channels for each epoch\n",
        "    std_amplitude = X.std(axis=2)\n",
        "\n",
        "    # Variance of amplitude across all channels for each epoch\n",
        "    var_amplitude = X.var(axis=2)\n",
        "\n",
        "    # Minimum amplitude across all channels for each epoch\n",
        "    min_amplitude = X.min(axis=2)\n",
        "\n",
        "    # Maximum amplitude across all channels for each epoch\n",
        "    max_amplitude = X.max(axis=2)\n",
        "\n",
        "    # Range (peak-to-peak) of amplitude across all channels for each epoch\n",
        "    ptp_amplitude = X.ptp(axis=2)\n",
        "\n",
        "    # Index of minimum amplitude across all channels for each epoch\n",
        "    argmin_amplitude = X.argmin(axis=2)\n",
        "\n",
        "    # Index of maximum amplitude across all channels for each epoch\n",
        "    argmax_amplitude = X.argmax(axis=2)\n",
        "\n",
        "    # Combine extracted features into a feature matrix\n",
        "    features = np.hstack([mean_amplitude,\n",
        "                          std_amplitude,\n",
        "                          var_amplitude,\n",
        "                          min_amplitude,\n",
        "                          max_amplitude,\n",
        "                          ptp_amplitude,\n",
        "                          argmin_amplitude,\n",
        "                          argmax_amplitude])\n",
        "\n",
        "    return features, Y\n",
        "\n",
        "### ---- Main Processing Loop ---- ###\n",
        "\n",
        "# Initialize lists to hold all features and labels\n",
        "all_features = []\n",
        "all_labels = []\n",
        "\n",
        "for N_S in N_S_list:\n",
        "    print(f\"Processing Subject: {N_S}\")\n",
        "\n",
        "    # Extract and process features for each subject\n",
        "    features, labels = extract_and_process_features(root_dir, N_S, t_start, t_end, fs)\n",
        "\n",
        "    # Append the data to the lists\n",
        "    all_features.append(features)\n",
        "    all_labels.append(labels)\n",
        "\n",
        "# Stack all the features and labels\n",
        "X_data = np.vstack(all_features)\n",
        "Y_data = np.vstack(all_labels)\n",
        "\n",
        "print(\"Combined Features shape:\", X_data.shape)\n",
        "print(\"Combined Labels shape:\", Y_data.shape)\n",
        "print(\"First few combined features:\\n\", X_data[:5])\n",
        "print(\"First few combined labels:\\n\", Y_data[:5])\n",
        "\n",
        "### ---- Save the Combined Data ---- ###\n",
        "\n",
        "if save_bool:\n",
        "    save_dir = \"/content/drive/MyDrive/FinalFilterOuput\"\n",
        "    file_name = save_dir + \"/Combined_Features.npz\"\n",
        "    print(f\"Saving combined features and labels to: {file_name}\")\n",
        "    np.savez(file_name, features=X_data, labels=Y_data)\n",
        "    print(\"Saving completed.\")\n",
        "\n"
      ]
    },
    {
      "cell_type": "markdown",
      "metadata": {
        "id": "DoztCnyVMWww"
      },
      "source": [
        "# **--------------------------- FOR PSD ------------------------------------**\n",
        "\n"
      ]
    },
    {
      "cell_type": "markdown",
      "metadata": {
        "id": "1tYuqK9faPeX"
      },
      "source": [
        "## Computer PSD On A Single File\n",
        "\n"
      ]
    },
    {
      "cell_type": "markdown",
      "metadata": {
        "id": "GClI9ZVr4ZUV"
      },
      "source": [
        "### Processing Variables\n"
      ]
    },
    {
      "cell_type": "code",
      "execution_count": null,
      "metadata": {
        "id": "PbI-dMXG4ZUf"
      },
      "outputs": [],
      "source": [
        "# Data filtering\n",
        "datatype = \"eeg\"\n",
        "\n",
        "N_S=1\n",
        "N_B=1\n",
        "\n",
        "# Time window\n",
        "tmin = 0.5\n",
        "tmax = 3\n",
        "\n",
        "# PSD Parameters\n",
        "fmin = 0.5\n",
        "fmax = 100\n",
        "n_overlap = 0\n",
        "n_fft = 256\n",
        "picks = \"all\"\n",
        "average = \"mean\""
      ]
    },
    {
      "cell_type": "markdown",
      "metadata": {
        "id": "8C6kO2L74iFY"
      },
      "source": [
        "### Data Extraction and Filtering"
      ]
    },
    {
      "cell_type": "code",
      "execution_count": null,
      "metadata": {
        "colab": {
          "base_uri": "https://localhost:8080/"
        },
        "id": "fVG1vXtkaS-u",
        "outputId": "2b642d64-ec71-4caf-c3c2-59387d9953d3"
      },
      "outputs": [
        {
          "name": "stdout",
          "output_type": "stream",
          "text": [
            "X_S.get_montage()\n",
            "None\n",
            "None\n",
            "['A1', 'A2', 'A3', 'A4', 'A5', 'A6', 'A7', 'A8', 'A9', 'A10', 'A11', 'A12', 'A13', 'A14', 'A15', 'A16', 'A17', 'A18', 'A19', 'A20', 'A21', 'A22', 'A23', 'A24', 'A25', 'A26', 'A27', 'A28', 'A29', 'A30', 'A31', 'A32', 'B1', 'B2', 'B3', 'B4', 'B5', 'B6', 'B7', 'B8', 'B9', 'B10', 'B11', 'B12', 'B13', 'B14', 'B15', 'B16', 'B17', 'B18', 'B19', 'B20', 'B21', 'B22', 'B23', 'B24', 'B25', 'B26', 'B27', 'B28', 'B29', 'B30', 'B31', 'B32', 'C1', 'C2', 'C3', 'C4', 'C5', 'C6', 'C7', 'C8', 'C9', 'C10', 'C11', 'C12', 'C13', 'C14', 'C15', 'C16', 'C17', 'C18', 'C19', 'C20', 'C21', 'C22', 'C23', 'C24', 'C25', 'C26', 'C27', 'C28', 'C29', 'C30', 'C31', 'C32', 'D1', 'D2', 'D3', 'D4', 'D5', 'D6', 'D7', 'D8', 'D9', 'D10', 'D11', 'D12', 'D13', 'D14', 'D15', 'D16', 'D17', 'D18', 'D19', 'D20', 'D21', 'D22', 'D23', 'D24', 'D25', 'D26', 'D27', 'D28', 'D29', 'D30', 'D31', 'D32']\n",
            "['A1', 'A2', 'A3', 'A4', 'A5', 'A6', 'A7', 'A8', 'A9', 'A10', 'A11', 'A12', 'A13', 'A14', 'A15', 'A16', 'A17', 'A18', 'A19', 'A20', 'A21', 'A22', 'A23', 'A24', 'A25', 'A26', 'A27', 'A28', 'A29', 'A30', 'A31', 'A32', 'B1', 'B2', 'B3', 'B4', 'B5', 'B6', 'B7', 'B8', 'B9', 'B10', 'B11', 'B12', 'B13', 'B14', 'B15', 'B16', 'B17', 'B18', 'B19', 'B20', 'B21', 'B22', 'B23', 'B24', 'B25', 'B26', 'B27', 'B28', 'B29', 'B30', 'B31', 'B32', 'C1', 'C2', 'C3', 'C4', 'C5', 'C6', 'C7', 'C8', 'C9', 'C10', 'C11', 'C12', 'C13', 'C14', 'C15', 'C16', 'C17', 'C18', 'C19', 'C20', 'C21', 'C22', 'C23', 'C24', 'C25', 'C26', 'C27', 'C28', 'C29', 'C30', 'C31', 'C32', 'D1', 'D2', 'D3', 'D4', 'D5', 'D6', 'D7', 'D8', 'D9', 'D10', 'D11', 'D12', 'D13', 'D14', 'D15', 'D16', 'D17', 'D18', 'D19', 'D20', 'D21', 'D22', 'D23', 'D24', 'D25', 'D26', 'D27', 'D28', 'D29', 'D30', 'D31', 'D32']\n",
            "Features\n",
            "[[[-1.71214033e-05 -1.48201071e-05 -1.60655794e-05 ... -3.78506815e-06\n",
            "    8.89594059e-08  1.42921047e-06]\n",
            "  [-1.59927819e-05 -1.51299635e-05 -1.77641432e-05 ... -4.88739831e-06\n",
            "   -2.46835184e-06  4.33372748e-07]\n",
            "  [-1.79711872e-05 -1.62988239e-05 -1.70813012e-05 ... -4.41318786e-06\n",
            "   -1.94503098e-06  3.91393585e-07]\n",
            "  ...\n",
            "  [ 8.35003641e-06  1.13799579e-05  1.05742193e-05 ...  3.76413144e-06\n",
            "    5.08753735e-06 -2.92650985e-06]\n",
            "  [-3.83527454e-06 -6.19514254e-07  1.87071309e-06 ...  3.55239387e-06\n",
            "    6.08985377e-06  5.18164545e-07]\n",
            "  [-2.87025648e-06  4.03000752e-07  1.15119606e-06 ...  3.81329373e-06\n",
            "    6.79309101e-06  1.31563104e-06]]]\n",
            "Labels\n",
            "[[351788      1      1      1]]\n"
          ]
        }
      ],
      "source": [
        "\n",
        "X_S, Y = extract_block_data_from_subject(root_dir, N_S, datatype, N_B)\n",
        "print(\"X_S.get_montage()\")\n",
        "print(X_S.get_montage())\n",
        "print(X_S.metadata)\n",
        "print(X_S.ch_names)\n",
        "(X_data.shape[1])\n",
        "channel_name=X_S.ch_names\n",
        "print(channel_name)\n",
        "\n",
        "# Set Montage\n",
        "Adquisition_eq = \"biosemi128\"\n",
        "montage = mne.channels.make_standard_montage(Adquisition_eq)\n",
        "X_S.set_montage(montage)\n",
        "# print(X_S._data )\n",
        "\n",
        "X, Y = extract_data_from_subject(root_dir, N_S, datatype)\n",
        "\n",
        "X, Y= filter_by_condition(X, Y, condition='Inner')\n",
        "\n",
        "\n",
        "print(\"Features\")\n",
        "print(X[:1])\n",
        "print(\"Labels\")\n",
        "print(Y[:1])\n",
        "# X_data = X\n",
        "# # X_S._data = X_data"
      ]
    },
    {
      "cell_type": "markdown",
      "metadata": {
        "id": "c0-Ux0_E4uQH"
      },
      "source": [
        "### Compute PSD"
      ]
    },
    {
      "cell_type": "code",
      "execution_count": null,
      "metadata": {
        "colab": {
          "base_uri": "https://localhost:8080/",
          "height": 807
        },
        "id": "OyoWWmcZ4wZ_",
        "outputId": "94ec06c8-eda8-4b8a-e426-c2e80cc1c1ad"
      },
      "outputs": [
        {
          "name": "stdout",
          "output_type": "stream",
          "text": [
            "Info <Info | 7 non-empty values\n",
            " bads: []\n",
            " ch_names: 0, 1, 2, 3, 4, 5, 6, 7, 8, 9, 10, 11, 12, 13, 14, 15, 16, 17, ...\n",
            " chs: 128 EEG\n",
            " custom_ref_applied: False\n",
            " highpass: 0.0 Hz\n",
            " lowpass: 128.0 Hz\n",
            " meas_date: unspecified\n",
            " nchan: 128\n",
            " projs: []\n",
            " sfreq: 256.0 Hz\n",
            ">\n",
            "epochs_combined <EpochsArray |  200 events (all good), 0 – 4.5 s, baseline off, ~225.3 MB, data loaded,\n",
            " '1': 200>\n",
            "<DigMontage | 0 extras (headshape), 0 HPIs, 3 fiducials, 128 channels>\n"
          ]
        },
        {
          "ename": "ValueError",
          "evalue": "DigMontage is only a subset of info. There are 128 channel positions not present in the DigMontage. The channels missing from the montage are:\n\n['0', '1', '2', '3', '4', '5', '6', '7', '8', '9', '10', '11', '12', '13', '14', '15', '16', '17', '18', '19', '20', '21', '22', '23', '24', '25', '26', '27', '28', '29', '30', '31', '32', '33', '34', '35', '36', '37', '38', '39', '40', '41', '42', '43', '44', '45', '46', '47', '48', '49', '50', '51', '52', '53', '54', '55', '56', '57', '58', '59', '60', '61', '62', '63', '64', '65', '66', '67', '68', '69', '70', '71', '72', '73', '74', '75', '76', '77', '78', '79', '80', '81', '82', '83', '84', '85', '86', '87', '88', '89', '90', '91', '92', '93', '94', '95', '96', '97', '98', '99', '100', '101', '102', '103', '104', '105', '106', '107', '108', '109', '110', '111', '112', '113', '114', '115', '116', '117', '118', '119', '120', '121', '122', '123', '124', '125', '126', '127'].\n\nConsider using inst.rename_channels to match the montage nomenclature, or inst.set_channel_types if these are not EEG channels, or use the on_missing parameter if the channel positions are allowed to be unknown in your analyses.",
          "output_type": "error",
          "traceback": [
            "\u001b[0;31m---------------------------------------------------------------------------\u001b[0m",
            "\u001b[0;31mValueError\u001b[0m                                Traceback (most recent call last)",
            "\u001b[0;32m<ipython-input-49-36b7f67339b1>\u001b[0m in \u001b[0;36m<cell line: 15>\u001b[0;34m()\u001b[0m\n\u001b[1;32m     13\u001b[0m \u001b[0mmontage\u001b[0m \u001b[0;34m=\u001b[0m \u001b[0mmne\u001b[0m\u001b[0;34m.\u001b[0m\u001b[0mchannels\u001b[0m\u001b[0;34m.\u001b[0m\u001b[0mmake_standard_montage\u001b[0m\u001b[0;34m(\u001b[0m\u001b[0;34m\"biosemi128\"\u001b[0m\u001b[0;34m)\u001b[0m\u001b[0;34m\u001b[0m\u001b[0;34m\u001b[0m\u001b[0m\n\u001b[1;32m     14\u001b[0m \u001b[0mprint\u001b[0m\u001b[0;34m(\u001b[0m\u001b[0mmontage\u001b[0m\u001b[0;34m)\u001b[0m\u001b[0;34m\u001b[0m\u001b[0;34m\u001b[0m\u001b[0m\n\u001b[0;32m---> 15\u001b[0;31m \u001b[0mepochs_combined\u001b[0m\u001b[0;34m.\u001b[0m\u001b[0mset_montage\u001b[0m\u001b[0;34m(\u001b[0m\u001b[0mmontage\u001b[0m\u001b[0;34m)\u001b[0m\u001b[0;34m\u001b[0m\u001b[0;34m\u001b[0m\u001b[0m\n\u001b[0m\u001b[1;32m     16\u001b[0m \u001b[0;31m# Calculate PSD for a particular class in a\u001b[0m\u001b[0;34m\u001b[0m\u001b[0;34m\u001b[0m\u001b[0m\n\u001b[1;32m     17\u001b[0m \u001b[0;31m# particular condition for the selected subjects\u001b[0m\u001b[0;34m\u001b[0m\u001b[0;34m\u001b[0m\u001b[0m\n",
            "\u001b[0;32m<decorator-gen-140>\u001b[0m in \u001b[0;36mset_montage\u001b[0;34m(self, montage, match_case, match_alias, on_missing, verbose)\u001b[0m\n",
            "\u001b[0;32m/usr/local/lib/python3.10/dist-packages/mne/_fiff/meas_info.py\u001b[0m in \u001b[0;36mset_montage\u001b[0;34m(self, montage, match_case, match_alias, on_missing, verbose)\u001b[0m\n\u001b[1;32m    425\u001b[0m \u001b[0;34m\u001b[0m\u001b[0m\n\u001b[1;32m    426\u001b[0m         \u001b[0minfo\u001b[0m \u001b[0;34m=\u001b[0m \u001b[0mself\u001b[0m \u001b[0;32mif\u001b[0m \u001b[0misinstance\u001b[0m\u001b[0;34m(\u001b[0m\u001b[0mself\u001b[0m\u001b[0;34m,\u001b[0m \u001b[0mInfo\u001b[0m\u001b[0;34m)\u001b[0m \u001b[0;32melse\u001b[0m \u001b[0mself\u001b[0m\u001b[0;34m.\u001b[0m\u001b[0minfo\u001b[0m\u001b[0;34m\u001b[0m\u001b[0;34m\u001b[0m\u001b[0m\n\u001b[0;32m--> 427\u001b[0;31m         \u001b[0m_set_montage\u001b[0m\u001b[0;34m(\u001b[0m\u001b[0minfo\u001b[0m\u001b[0;34m,\u001b[0m \u001b[0mmontage\u001b[0m\u001b[0;34m,\u001b[0m \u001b[0mmatch_case\u001b[0m\u001b[0;34m,\u001b[0m \u001b[0mmatch_alias\u001b[0m\u001b[0;34m,\u001b[0m \u001b[0mon_missing\u001b[0m\u001b[0;34m)\u001b[0m\u001b[0;34m\u001b[0m\u001b[0;34m\u001b[0m\u001b[0m\n\u001b[0m\u001b[1;32m    428\u001b[0m         \u001b[0;32mreturn\u001b[0m \u001b[0mself\u001b[0m\u001b[0;34m\u001b[0m\u001b[0;34m\u001b[0m\u001b[0m\n\u001b[1;32m    429\u001b[0m \u001b[0;34m\u001b[0m\u001b[0m\n",
            "\u001b[0;32m/usr/local/lib/python3.10/dist-packages/mne/channels/montage.py\u001b[0m in \u001b[0;36m_set_montage\u001b[0;34m(***failed resolving arguments***)\u001b[0m\n\u001b[1;32m   1256\u001b[0m             \u001b[0;34mf\"position{pl} {are_is} allowed to be unknown in your analyses.\"\u001b[0m\u001b[0;34m\u001b[0m\u001b[0;34m\u001b[0m\u001b[0m\n\u001b[1;32m   1257\u001b[0m         )\n\u001b[0;32m-> 1258\u001b[0;31m         \u001b[0m_on_missing\u001b[0m\u001b[0;34m(\u001b[0m\u001b[0mon_missing\u001b[0m\u001b[0;34m,\u001b[0m \u001b[0mmissing_coord_msg\u001b[0m\u001b[0;34m)\u001b[0m\u001b[0;34m\u001b[0m\u001b[0;34m\u001b[0m\u001b[0m\n\u001b[0m\u001b[1;32m   1259\u001b[0m \u001b[0;34m\u001b[0m\u001b[0m\n\u001b[1;32m   1260\u001b[0m         \u001b[0;31m# set ch coordinates and names from digmontage or nan coords\u001b[0m\u001b[0;34m\u001b[0m\u001b[0;34m\u001b[0m\u001b[0m\n",
            "\u001b[0;32m/usr/local/lib/python3.10/dist-packages/mne/utils/check.py\u001b[0m in \u001b[0;36m_on_missing\u001b[0;34m(on_missing, msg, name, error_klass)\u001b[0m\n\u001b[1;32m   1188\u001b[0m     \u001b[0mon_missing\u001b[0m \u001b[0;34m=\u001b[0m \u001b[0;34m\"warn\"\u001b[0m \u001b[0;32mif\u001b[0m \u001b[0mon_missing\u001b[0m \u001b[0;34m==\u001b[0m \u001b[0;34m\"warning\"\u001b[0m \u001b[0;32melse\u001b[0m \u001b[0mon_missing\u001b[0m\u001b[0;34m\u001b[0m\u001b[0;34m\u001b[0m\u001b[0m\n\u001b[1;32m   1189\u001b[0m     \u001b[0;32mif\u001b[0m \u001b[0mon_missing\u001b[0m \u001b[0;34m==\u001b[0m \u001b[0;34m\"raise\"\u001b[0m\u001b[0;34m:\u001b[0m\u001b[0;34m\u001b[0m\u001b[0;34m\u001b[0m\u001b[0m\n\u001b[0;32m-> 1190\u001b[0;31m         \u001b[0;32mraise\u001b[0m \u001b[0merror_klass\u001b[0m\u001b[0;34m(\u001b[0m\u001b[0mmsg\u001b[0m\u001b[0;34m)\u001b[0m\u001b[0;34m\u001b[0m\u001b[0;34m\u001b[0m\u001b[0m\n\u001b[0m\u001b[1;32m   1191\u001b[0m     \u001b[0;32melif\u001b[0m \u001b[0mon_missing\u001b[0m \u001b[0;34m==\u001b[0m \u001b[0;34m\"warn\"\u001b[0m\u001b[0;34m:\u001b[0m\u001b[0;34m\u001b[0m\u001b[0;34m\u001b[0m\u001b[0m\n\u001b[1;32m   1192\u001b[0m         \u001b[0mwarn\u001b[0m\u001b[0;34m(\u001b[0m\u001b[0mmsg\u001b[0m\u001b[0;34m)\u001b[0m\u001b[0;34m\u001b[0m\u001b[0;34m\u001b[0m\u001b[0m\n",
            "\u001b[0;31mValueError\u001b[0m: DigMontage is only a subset of info. There are 128 channel positions not present in the DigMontage. The channels missing from the montage are:\n\n['0', '1', '2', '3', '4', '5', '6', '7', '8', '9', '10', '11', '12', '13', '14', '15', '16', '17', '18', '19', '20', '21', '22', '23', '24', '25', '26', '27', '28', '29', '30', '31', '32', '33', '34', '35', '36', '37', '38', '39', '40', '41', '42', '43', '44', '45', '46', '47', '48', '49', '50', '51', '52', '53', '54', '55', '56', '57', '58', '59', '60', '61', '62', '63', '64', '65', '66', '67', '68', '69', '70', '71', '72', '73', '74', '75', '76', '77', '78', '79', '80', '81', '82', '83', '84', '85', '86', '87', '88', '89', '90', '91', '92', '93', '94', '95', '96', '97', '98', '99', '100', '101', '102', '103', '104', '105', '106', '107', '108', '109', '110', '111', '112', '113', '114', '115', '116', '117', '118', '119', '120', '121', '122', '123', '124', '125', '126', '127'].\n\nConsider using inst.rename_channels to match the montage nomenclature, or inst.set_channel_types if these are not EEG channels, or use the on_missing parameter if the channel positions are allowed to be unknown in your analyses."
          ]
        }
      ],
      "source": [
        "# print(X_S)\n",
        "# print(X_S)\n",
        "\n",
        "# Create an info object\n",
        "info = mne.create_info(ch_names=[str(i) for i in range(X.shape[1])],\n",
        "                       sfreq=256, ch_types=\"eeg\")\n",
        "print(\"Info\",info)\n",
        "\n",
        "# Create a new Epochs object with the combined data\n",
        "epochs_combined = mne.EpochsArray(X, info)\n",
        "print('epochs_combined',epochs_combined)\n",
        "# Set the montage\n",
        "montage = mne.channels.make_standard_montage(\"biosemi128\")\n",
        "print(montage)\n",
        "epochs_combined.set_montage(montage)\n",
        "# Calculate PSD for a particular class in a\n",
        "# particular condition for the selected subjects\n",
        "# print(\"Calculated PSD for Class: \" + Classes + \" in Condition: \" + Cond)\n",
        "# print(\"with the information of Subjects: \" + str(N_S_list))\n",
        "# Try to compute PSD and see what it returns directly\n",
        "# psd_result = X.compute_psd(method='welch', fmin=fmin, fmax=fmax, tmin=tmin, tmax=tmax, picks=picks)\n"
      ]
    },
    {
      "cell_type": "markdown",
      "metadata": {
        "id": "gOkVFXSz450v"
      },
      "source": [
        "### Print PSD Result"
      ]
    },
    {
      "cell_type": "code",
      "execution_count": null,
      "metadata": {
        "colab": {
          "base_uri": "https://localhost:8080/"
        },
        "id": "fyx1RExV5AG6",
        "outputId": "c1c683ef-16d4-4742-953e-788912aa2558"
      },
      "outputs": [
        {
          "name": "stdout",
          "output_type": "stream",
          "text": [
            "<class 'mne.time_frequency.spectrum.EpochsSpectrum'>\n",
            "<Averaged Power Spectrum (from Epochs, welch method) | 128 channels × 249 freqs, 0.8-99.8 Hz>\n",
            "[[351788      1      1      1]\n",
            " [358546      1      1      1]\n",
            " [365390      3      1      1]\n",
            " [372216      3      1      1]\n",
            " [387985      3      1      1]\n",
            " [394471      0      1      1]\n",
            " [400870      2      1      1]\n",
            " [407629      3      1      1]\n",
            " [421964      3      1      1]\n",
            " [428808      1      1      1]]\n",
            "psds\n",
            "[[[5.58310692e-13 6.88665798e-12 2.76898044e-12 ... 1.04520127e-14\n",
            "   5.72582572e-14 3.35007486e-14]\n",
            "  [9.95092906e-13 6.92519272e-12 2.69443085e-12 ... 9.78960325e-15\n",
            "   3.31086761e-14 3.93742783e-14]\n",
            "  [6.15558335e-13 6.98777302e-12 3.28460166e-12 ... 1.19081860e-14\n",
            "   7.74264027e-14 5.81677337e-14]\n",
            "  ...\n",
            "  [1.05283612e-11 1.42395743e-11 7.53426202e-13 ... 5.99185988e-14\n",
            "   2.04739239e-13 2.64906292e-14]\n",
            "  [1.62572353e-11 6.08037505e-12 4.50453171e-12 ... 1.52026496e-13\n",
            "   2.73946903e-13 2.22079813e-14]\n",
            "  [1.67552999e-11 5.63761338e-12 4.92420593e-12 ... 1.36038979e-13\n",
            "   2.71273055e-13 2.23822517e-14]]]\n",
            "freqs\n",
            "[0.79875195 1.19812793]\n",
            "PSDs shape: (200, 128, 249)\n",
            "PSD Data Statistics:\n",
            "Mean: 1.1692361473167383e-12\n",
            "Standard Deviation: 1.6486587279738783e-10\n",
            "Min: 4.404309059090443e-20\n",
            "Max: 3.8468860274689486e-07\n"
          ]
        }
      ],
      "source": [
        "# Now print what psd_result contains\n",
        "print(type(psd_result))\n",
        "print(psd_result.average())\n",
        "\n",
        "print(Y[:10])\n",
        "\n",
        "# Extract PSD values and frequency bins from the Power Spectrum object\n",
        "psds = psd_result.get_data()  # This method typically exists for MNE data container objects; adjust if needed\n",
        "freqs = psd_result.freqs  # This should be an attribute or similar; check documentation for exact usage\n",
        "\n",
        "print(\"psds\")\n",
        "\n",
        "print(psds[:1])\n",
        "print(\"freqs\")\n",
        "print(freqs[:2])\n",
        "# Printing shapes and some data to confirm\n",
        "print(\"PSDs shape:\", psds.shape)\n",
        "# print(\"First few PSD values for the first channel:\", psds[0, 0, :])\n",
        "# print(\"Frequency bins:\", freqs)\n",
        "\n",
        "# Print basic statistics of the PSD data\n",
        "print(\"PSD Data Statistics:\")\n",
        "print(\"Mean:\", psds.mean())\n",
        "print(\"Standard Deviation:\", psds.std())\n",
        "print(\"Min:\", psds.min())\n",
        "print(\"Max:\", psds.max())"
      ]
    },
    {
      "cell_type": "markdown",
      "metadata": {
        "id": "jwIO1sLy4zn4"
      },
      "source": [
        "### Save PSD File"
      ]
    },
    {
      "cell_type": "code",
      "execution_count": null,
      "metadata": {
        "colab": {
          "base_uri": "https://localhost:8080/"
        },
        "id": "-GgFeayU41g3",
        "outputId": "a0a94e8a-a8bd-4e1d-f709-b3ce04878595"
      },
      "outputs": [
        {
          "name": "stdout",
          "output_type": "stream",
          "text": [
            "/content/drive/MyDrive/FinalFilterOuput/PSD_1_1_PSD-tfr.npz\n"
          ]
        }
      ],
      "source": [
        "# Save PSD results\n",
        "file_name = save_dir + \"/\"+ \"PSD_\" + str(N_S) + \"_PSD-tfr.npz\"\n",
        "\n",
        "print(file_name)\n",
        "# # Save the data to a single npz file\n",
        "np.savez(file_name, psds=psds, freqs=freqs,labels=Y)\n"
      ]
    },
    {
      "cell_type": "markdown",
      "metadata": {
        "id": "_1yYI3QQ5EpM"
      },
      "source": [
        "### Plot PSD"
      ]
    },
    {
      "cell_type": "code",
      "execution_count": null,
      "metadata": {
        "id": "FZ1VQptv5Iyu"
      },
      "outputs": [],
      "source": [
        "\n",
        "import matplotlib.pyplot as plt\n",
        "\n",
        "# # Choose a channel to plot\n",
        "channel_index = 0  # Change as needed\n",
        "plt.figure(figsize=(10, 5))\n",
        "plt.plot(freqs, psds[0, channel_index, :], label=f'Channel {channel_index+1}')\n",
        "plt.xlabel('Frequency (Hz)')\n",
        "plt.ylabel('Power Spectral Density (dB)')\n",
        "plt.title('Power Spectral Density across Frequencies')\n",
        "plt.legend()\n",
        "plt.show()"
      ]
    },
    {
      "cell_type": "markdown",
      "metadata": {
        "id": "JuJPzQ9dGQzj"
      },
      "source": [
        "### Checking Saved PSD file .h5 format\n"
      ]
    },
    {
      "cell_type": "code",
      "execution_count": null,
      "metadata": {
        "colab": {
          "base_uri": "https://localhost:8080/"
        },
        "id": "0dTBjDlMGwy3",
        "outputId": "d8475f7c-bcf5-497f-a42b-0e0c6812b41a"
      },
      "outputs": [
        {
          "name": "stdout",
          "output_type": "stream",
          "text": [
            "Loaded PSDs shape: (200, 128, 249)\n",
            "Loaded Frequency bins: (4,)\n",
            "Loaded Labels shape: (5,)\n",
            "First few labels: [101 112 111  99 104]\n",
            "PSD Data Statistics:\n",
            "Mean: 1.1692361473167383e-12\n",
            "Standard Deviation: 1.6486587279738783e-10\n",
            "Min: 4.404309059090443e-20\n",
            "Max: 3.8468860274689486e-07\n",
            "First few PSD values for the first channel: [5.58310692e-13 6.88665798e-12 2.76898044e-12 2.81986455e-12\n",
            " 1.37722359e-13 3.77932348e-12 2.76836888e-12 2.82697794e-12\n",
            " 1.51178302e-12 1.76842952e-12]\n"
          ]
        }
      ],
      "source": [
        "import h5py\n",
        "\n",
        "# Define the file path for the single PSD file you have processed\n",
        "file_path = '/content/drive/MyDrive/FinalFilterOuput/PSD_Subject_1_Inner_ALL_PSD-tfr.h5'\n",
        "\n",
        "# Load the data from the HDF5 file\n",
        "with h5py.File(file_path, 'r') as f:\n",
        "    # Load the PSD data\n",
        "    psds = f['mnepython/key_data'][:]\n",
        "    # You may need to adjust these paths based on your actual structure\n",
        "    freqs = f['mnepython/key_dims/idx_2'][:]  # Assuming these are frequency bins\n",
        "    # Check if there are labels stored in the file, you may need to adjust the path\n",
        "    labels = f['mnepython/key_dims/idx_0'][:] if 'mnepython/key_dims/idx_0' in f else None\n",
        "\n",
        "# Print the shape of the loaded data\n",
        "print(\"Loaded PSDs shape:\", psds.shape)\n",
        "print(\"Loaded Frequency bins:\", freqs.shape)\n",
        "\n",
        "if labels is not None:\n",
        "    print(\"Loaded Labels shape:\", labels.shape)\n",
        "    print(\"First few labels:\", labels[:5])\n",
        "\n",
        "# Print basic statistics of the PSD data\n",
        "print(\"PSD Data Statistics:\")\n",
        "print(\"Mean:\", psds.mean())\n",
        "print(\"Standard Deviation:\", psds.std())\n",
        "print(\"Min:\", psds.min())\n",
        "print(\"Max:\", psds.max())\n",
        "\n",
        "# Example of printing the first few PSD values for the first channel\n",
        "print(\"First few PSD values for the first channel:\", psds[0, 0, :10])\n"
      ]
    },
    {
      "cell_type": "markdown",
      "metadata": {
        "id": "WzBO3BYY4CG-"
      },
      "source": [
        "## Computer PSD On A Multiple Files\n"
      ]
    },
    {
      "cell_type": "markdown",
      "metadata": {
        "id": "guBOyjbHfpln"
      },
      "source": [
        "#### Processing Variables\n"
      ]
    },
    {
      "cell_type": "code",
      "execution_count": null,
      "metadata": {
        "id": "X4YrONvwfi1M"
      },
      "outputs": [],
      "source": [
        "import numpy as np\n",
        "import mne\n",
        "\n",
        "### ---- Processing Variables ---- ###\n",
        "\n",
        "# Save options\n",
        "save_bool = False\n",
        "overwrite = True\n",
        "\n",
        "# Subjets list\n",
        "N_S_list = [1,2, 3, 4, 5, 6,7,8,9,10]  # for training\n",
        "# N_S_list = [2,7,8,9]\n",
        "\n",
        "# Data filtering\n",
        "datatype = \"eeg\"\n",
        "Cond = \"Inner\"\n",
        "Classes = \"ALL\"\n",
        "\n",
        "# Time window\n",
        "tmin = 0.5\n",
        "tmax = 3\n",
        "\n",
        "# PSD Parameters\n",
        "fmin = 0.5\n",
        "fmax = 100\n",
        "n_overlap = 0\n",
        "n_fft = 256\n",
        "picks = \"all\"\n",
        "average = \"mean\"\n",
        "\n",
        "# Load data from the first subject to get the channel names\n",
        "N_S = 1\n",
        "N_B = 1"
      ]
    },
    {
      "cell_type": "markdown",
      "metadata": {
        "id": "mESepH1ZgGtB"
      },
      "source": [
        "### Set up the EEG data structure and Set Montage\n",
        "\n"
      ]
    },
    {
      "cell_type": "code",
      "execution_count": null,
      "metadata": {
        "colab": {
          "base_uri": "https://localhost:8080/"
        },
        "id": "Jt0AEMmggI4T",
        "outputId": "debd0bba-43c9-4257-917f-d9c3bdab5fff"
      },
      "outputs": [
        {
          "name": "stdout",
          "output_type": "stream",
          "text": [
            "Extracting Data from 1 block to get channel names\n",
            "Channel names: ['A1', 'A2', 'A3', 'A4', 'A5', 'A6', 'A7', 'A8', 'A9', 'A10', 'A11', 'A12', 'A13', 'A14', 'A15', 'A16', 'A17', 'A18', 'A19', 'A20', 'A21', 'A22', 'A23', 'A24', 'A25', 'A26', 'A27', 'A28', 'A29', 'A30', 'A31', 'A32', 'B1', 'B2', 'B3', 'B4', 'B5', 'B6', 'B7', 'B8', 'B9', 'B10', 'B11', 'B12', 'B13', 'B14', 'B15', 'B16', 'B17', 'B18', 'B19', 'B20', 'B21', 'B22', 'B23', 'B24', 'B25', 'B26', 'B27', 'B28', 'B29', 'B30', 'B31', 'B32', 'C1', 'C2', 'C3', 'C4', 'C5', 'C6', 'C7', 'C8', 'C9', 'C10', 'C11', 'C12', 'C13', 'C14', 'C15', 'C16', 'C17', 'C18', 'C19', 'C20', 'C21', 'C22', 'C23', 'C24', 'C25', 'C26', 'C27', 'C28', 'C29', 'C30', 'C31', 'C32', 'D1', 'D2', 'D3', 'D4', 'D5', 'D6', 'D7', 'D8', 'D9', 'D10', 'D11', 'D12', 'D13', 'D14', 'D15', 'D16', 'D17', 'D18', 'D19', 'D20', 'D21', 'D22', 'D23', 'D24', 'D25', 'D26', 'D27', 'D28', 'D29', 'D30', 'D31', 'D32']\n"
          ]
        }
      ],
      "source": [
        "# Load a single subject's data to set up the EEG data structure.\n",
        "# This initial loading is crucial for establishing a framework for how EEG data should be handled in subsequent analyses.\n",
        "# It involves:\n",
        "# 1. Loading EEG data from one block of one subject to instantiate an Epochs object.\n",
        "#    This object is used to store and manipulate segments of the EEG data consistently.\n",
        "# 2. Setting the montage with 'biosemi128', a standard layout for EEG electrodes.\n",
        "#    The montage ensures the software knows the exact location of each electrode on the scalp,\n",
        "#    which is essential for accurate spatial analysis of EEG signals.\n",
        "# This process sets up a template for processing additional EEG data with uniform settings and methods.\n",
        "\n",
        "\n",
        "# Load data from the first subject to get the channel names\n",
        "N_S = 1\n",
        "N_B = 1\n",
        "\n",
        "X_S, Y = extract_block_data_from_subject(root_dir, N_S, datatype, N_B)\n",
        "print(\"Extracting Data from 1 block to get channel names\")\n",
        "channel_names = X_S.ch_names\n",
        "print(\"Channel names:\", channel_names)\n",
        "\n",
        "# Initialize an empty list to hold all the epochs data\n",
        "all_epochs_data = []\n",
        "all_labels = []\n",
        "\n"
      ]
    },
    {
      "cell_type": "markdown",
      "metadata": {
        "id": "wUjwj7Diirvb"
      },
      "source": [
        "### Applying Loop on all files to get Data"
      ]
    },
    {
      "cell_type": "code",
      "execution_count": null,
      "metadata": {
        "colab": {
          "base_uri": "https://localhost:8080/"
        },
        "collapsed": true,
        "id": "v40ui4AQitws",
        "outputId": "4e77f5e9-8b05-4e14-a3d0-5c24ed2badb9"
      },
      "outputs": [
        {
          "name": "stdout",
          "output_type": "stream",
          "text": [
            "Subject: 1\n",
            "Subject: 3\n",
            "Subject: 4\n",
            "Subject: 5\n",
            "Subject: 6\n",
            "Subject: 10\n",
            "X_data\n",
            "[[[ 2.43265769e-06 -1.01428557e-07  7.25519091e-06 ... -1.32315118e-07\n",
            "   -6.09937833e-07  4.61667777e-06]\n",
            "  [-8.24612803e-07 -4.30018556e-06  2.07329927e-06 ...  1.60251161e-07\n",
            "    1.82958368e-07  3.81454099e-06]\n",
            "  [ 1.06996405e-08 -4.24570819e-06  3.18898604e-06 ...  8.86767338e-07\n",
            "    1.03292063e-06  5.44870152e-06]\n",
            "  ...\n",
            "  [-1.21219664e-06 -2.03216044e-06  1.17606921e-06 ... -4.88732753e-06\n",
            "   -5.26748957e-06 -2.55922519e-06]\n",
            "  [ 5.38904286e-06  5.61678599e-06  6.58025076e-06 ... -6.58402346e-06\n",
            "   -8.42901673e-06 -6.15970355e-06]\n",
            "  [ 4.48381734e-06  5.60973900e-06  5.42611555e-06 ... -6.79635071e-06\n",
            "   -8.25751563e-06 -5.23444816e-06]]\n",
            "\n",
            " [[-1.92226540e-06 -1.00479285e-06 -3.75380862e-07 ... -6.20867017e-06\n",
            "   -5.20980092e-06 -8.73323505e-06]\n",
            "  [-4.27371176e-06 -3.54652783e-06 -3.18285473e-06 ... -5.66965388e-06\n",
            "   -4.56361743e-06 -6.91029468e-06]\n",
            "  [-5.63775250e-06 -5.03924926e-06 -3.18307702e-06 ... -5.85181971e-06\n",
            "   -4.40134444e-06 -7.27488410e-06]\n",
            "  ...\n",
            "  [-1.45662520e-05 -1.43518846e-05 -1.47407656e-05 ... -9.25404816e-06\n",
            "   -9.76954935e-06 -7.76662516e-06]\n",
            "  [-1.60309425e-05 -1.50738012e-05 -1.32985414e-05 ... -5.66103498e-06\n",
            "   -1.23418247e-05 -1.07282652e-05]\n",
            "  [-1.53688524e-05 -1.47924291e-05 -1.31822650e-05 ... -4.67972018e-06\n",
            "   -1.15186059e-05 -9.87701761e-06]]\n",
            "\n",
            " [[ 1.43860611e-05  1.49490090e-05  5.18064617e-06 ...  1.14739884e-05\n",
            "    1.43080247e-05  1.14055144e-05]\n",
            "  [ 1.24298970e-05  1.12855783e-05  5.21019517e-06 ...  1.74411706e-05\n",
            "    1.90970703e-05  1.44839731e-05]\n",
            "  [ 1.23814167e-05  1.27291382e-05  5.87413418e-06 ...  1.73930989e-05\n",
            "    1.96176805e-05  1.48301123e-05]\n",
            "  ...\n",
            "  [-1.83344964e-06 -3.34199492e-06 -1.26475838e-06 ...  6.91890445e-06\n",
            "    9.88595693e-06  1.12319791e-06]\n",
            "  [-5.34212239e-06 -8.86081720e-06 -2.64497416e-06 ...  6.70513376e-06\n",
            "    8.02491480e-06 -1.97523759e-06]\n",
            "  [-5.84729428e-06 -9.81149826e-06 -3.22152109e-06 ...  5.15365903e-06\n",
            "    7.78181767e-06 -1.73449359e-06]]\n",
            "\n",
            " ...\n",
            "\n",
            " [[-7.55165095e-06 -9.69424480e-06 -9.79251463e-06 ...  2.35479236e-06\n",
            "   -6.62607847e-07 -3.92705867e-07]\n",
            "  [-9.69868413e-06 -1.02575047e-05 -1.02658001e-05 ...  4.10251725e-06\n",
            "    8.13018878e-07  4.57986240e-08]\n",
            "  [-8.40261134e-06 -1.00025513e-05 -1.02316662e-05 ...  4.10902777e-06\n",
            "    1.27609267e-06  5.43609028e-07]\n",
            "  ...\n",
            "  [-5.01577740e-07 -2.59516763e-06 -2.89096769e-06 ...  4.67783781e-06\n",
            "    2.74376050e-07 -1.74588229e-06]\n",
            "  [-5.42502232e-06 -5.58605263e-06 -6.52796338e-06 ...  5.60259044e-06\n",
            "    1.89443808e-06  3.90501164e-07]\n",
            "  [-4.74348453e-06 -5.29355765e-06 -6.08360918e-06 ...  5.38444253e-06\n",
            "    1.75344029e-06  5.70077497e-07]]\n",
            "\n",
            " [[ 1.37192864e-05  6.53263011e-06  4.22684211e-06 ... -3.75137621e-06\n",
            "    3.15600820e-06  7.96505976e-06]\n",
            "  [ 1.02243233e-05  4.89789609e-06  5.40444175e-06 ...  1.75098466e-06\n",
            "    8.15714004e-06  9.69978350e-06]\n",
            "  [ 9.85359434e-06  4.83978379e-06  5.65677415e-06 ...  1.50051358e-06\n",
            "    7.72439495e-06  8.96605400e-06]\n",
            "  ...\n",
            "  [-3.62450882e-06 -6.21158701e-07  3.17656817e-06 ...  7.97924568e-06\n",
            "    1.37991618e-05  9.21049189e-06]\n",
            "  [-5.90982586e-06 -2.69708373e-06  1.42070985e-06 ...  3.41521641e-06\n",
            "    9.18815391e-06  3.88203861e-06]\n",
            "  [-5.01856970e-06 -2.56368234e-06  1.75035997e-06 ...  3.62754610e-06\n",
            "    8.75101362e-06  3.18177405e-06]]\n",
            "\n",
            " [[-7.89316094e-06 -6.24517634e-06 -4.25030673e-06 ... -5.96717640e-06\n",
            "   -5.20529952e-06 -7.79146681e-06]\n",
            "  [-3.07293529e-06 -3.22125604e-06 -1.98770810e-06 ... -7.50594431e-06\n",
            "   -6.26946357e-06 -9.65856829e-06]\n",
            "  [-2.79305506e-06 -3.95145454e-06 -2.81275811e-06 ... -7.83770871e-06\n",
            "   -7.94197333e-06 -1.03972771e-05]\n",
            "  ...\n",
            "  [ 7.58259643e-06  5.25336250e-06  1.09213230e-05 ... -1.76089899e-05\n",
            "   -1.64035971e-05 -1.39556369e-05]\n",
            "  [ 6.76735137e-07  1.66479349e-06  6.65383345e-06 ... -3.51466494e-06\n",
            "   -5.52889039e-06 -7.13144233e-06]\n",
            "  [-1.85273632e-08  1.62907558e-06  6.89901838e-06 ... -4.41413802e-06\n",
            "   -6.86458790e-06 -6.41072792e-06]]]\n",
            "(240, 128, 1153)\n",
            "Y_data\n",
            "[[351081      3      1      1]\n",
            " [357907      2      1      1]\n",
            " [364290      1      1      1]\n",
            " [370690      0      1      1]\n",
            " [377141      0      1      1]\n",
            " [383831      3      1      1]\n",
            " [390589      1      1      1]\n",
            " [397296      3      1      1]\n",
            " [403901      3      1      1]\n",
            " [410556      2      1      1]]\n"
          ]
        }
      ],
      "source": [
        "# Loop through all subjects\n",
        "for N_S in N_S_list:\n",
        "    print(\"Subject: \" + str(N_S))\n",
        "\n",
        "    # Load the data for the subject\n",
        "    X_s, Y = extract_data_from_subject(root_dir, N_S, datatype=\"eeg\")\n",
        "\n",
        "    # Filter by condition\n",
        "    X_cond, Y_cond = filter_by_condition(X_s, Y, condition=Cond)\n",
        "\n",
        "    # Filter by class\n",
        "    X_cond, Y_cond = filter_by_class(X_cond, Y_cond, Classes)\n",
        "\n",
        "    # Append the data to the list\n",
        "    all_epochs_data.append(X_cond)\n",
        "    all_labels.append(Y_cond)\n",
        "\n",
        "    print(\"X_cond shape:\", X_cond.shape)\n",
        "    print(\"Y_cond shape:\", Y_cond.shape)\n",
        "    print(\"First few X_cond values:\", X_cond[:2])\n",
        "    print(\"First few Y_cond values:\", Y_cond[:2])\n",
        "\n",
        "# Stack all the data\n",
        "X_data = np.vstack(all_epochs_data)\n",
        "Y_data = np.vstack(all_labels)\n",
        "print(\"Combined X_data shape:\", X_data.shape)\n",
        "print(\"Combined Y_data shape:\", Y_data.shape)\n",
        "print(\"First few X_data values:\", X_data[:2])\n",
        "print(\"First few Y_data values:\", Y_data[:2])"
      ]
    },
    {
      "cell_type": "markdown",
      "metadata": {
        "id": "4w2ertCxLbfy"
      },
      "source": [
        "### Creating MNE Info object"
      ]
    },
    {
      "cell_type": "code",
      "execution_count": null,
      "metadata": {
        "id": "BRkSMfXQLdYx"
      },
      "outputs": [],
      "source": [
        "# Create an MNE Info object with correct channel names\n",
        "info = mne.create_info(ch_names=channel_names, sfreq=256, ch_types=\"eeg\")\n",
        "print(\"MNE Info object created with channel names and sampling frequency.\")\n",
        "print(info)\n",
        "\n",
        "# Create the epochs object\n",
        "epochs_combined = mne.EpochsArray(X_data, info)\n",
        "print(\"EpochsArray object created with combined data.\")\n",
        "print(epochs_combined)\n",
        "# Set the montage\n",
        "montage = mne.channels.make_standard_montage(\"biosemi128\")\n",
        "print(\"Montage object created with biosemi128 montage.\")\n",
        "print(montage)\n",
        "epochs_combined.set_montage(montage, match_case=False)\n",
        "print(\"Montage set for the EpochsArray object.\")\n",
        "print(epochs_combined)"
      ]
    },
    {
      "cell_type": "markdown",
      "metadata": {
        "id": "ksxoq0_LDRbQ"
      },
      "source": [
        "### Calculate PSD"
      ]
    },
    {
      "cell_type": "code",
      "execution_count": null,
      "metadata": {
        "colab": {
          "base_uri": "https://localhost:8080/"
        },
        "id": "GDFGl3xrC4j2",
        "outputId": "d825ac27-ff0f-47cb-9c48-70ac7b99cbd2"
      },
      "outputs": [
        {
          "name": "stdout",
          "output_type": "stream",
          "text": [
            "<Info | 7 non-empty values\n",
            " bads: []\n",
            " ch_names: 0, 1, 2, 3, 4, 5, 6, 7, 8, 9, 10, 11, 12, 13, 14, 15, 16, 17, ...\n",
            " chs: 128 EEG\n",
            " custom_ref_applied: False\n",
            " highpass: 0.0 Hz\n",
            " lowpass: 128.0 Hz\n",
            " meas_date: unspecified\n",
            " nchan: 128\n",
            " projs: []\n",
            " sfreq: 256.0 Hz\n",
            ">\n"
          ]
        }
      ],
      "source": [
        "# Calculate PSD\n",
        "print(\"Calculating PSD for the combined data...\")\n",
        "psd_result = epochs_combined.compute_psd(method='welch', fmin=fmin, fmax=fmax, tmin=tmin, tmax=tmax, picks=picks)"
      ]
    },
    {
      "cell_type": "markdown",
      "metadata": {
        "id": "hs0Cd-x-LlQF"
      },
      "source": [
        "### Display PSD Data"
      ]
    },
    {
      "cell_type": "code",
      "execution_count": null,
      "metadata": {
        "id": "Cb0MrjC8LnJe"
      },
      "outputs": [],
      "source": [
        "# Extract PSD values and frequency bins from the Power Spectrum object\n",
        "psds = psd_result.get_data()\n",
        "freqs = psd_result.freqs\n",
        "\n",
        "# Print some statistics for verification\n",
        "print(\"PSDs shape:\", psds.shape)\n",
        "print(\"Frequency bins shape:\", freqs.shape)\n",
        "print(\"First few PSD values for the first channel:\", psds[0, 0, :10])"
      ]
    },
    {
      "cell_type": "markdown",
      "metadata": {
        "id": "GBzWWXdHDTjP"
      },
      "source": [
        "### Save PSD"
      ]
    },
    {
      "cell_type": "code",
      "execution_count": null,
      "metadata": {
        "id": "8UxgcO2eDUxz"
      },
      "outputs": [],
      "source": [
        "# Save PSD results\n",
        "save_dir = \"/content/drive/MyDrive/FinalFilterOuput\"\n",
        "file_name = save_dir + \"/Testing_PSD_combined_PSD-tfr.npz\"\n",
        "print(\"Saving PSD results to:\", file_name)\n",
        "np.savez(file_name, psds=psds, freqs=freqs, labels=Y_data)\n",
        "\n",
        "print(\"PSD calculation and saving completed.\")"
      ]
    },
    {
      "cell_type": "markdown",
      "metadata": {
        "id": "els67WoPkXp3"
      },
      "source": [
        "### Combine File\n"
      ]
    },
    {
      "cell_type": "code",
      "execution_count": null,
      "metadata": {
        "colab": {
          "base_uri": "https://localhost:8080/"
        },
        "id": "V8ZxgLLeka2D",
        "outputId": "827ef4dc-bb4d-452b-8e37-675bfa31d0f2"
      },
      "outputs": [
        {
          "name": "stdout",
          "output_type": "stream",
          "text": [
            "Combined PSDs shape: (2236, 128, 249)\n",
            "Combined labels shape: (2236, 4)\n",
            "Combined data saved to: /content/drive/MyDrive/FinalFilterOuput/All_Subjects_Combined_PSD-tfr.npz\n"
          ]
        }
      ],
      "source": [
        "import numpy as np\n",
        "\n",
        "# Define file paths\n",
        "training_file_path = '/content/drive/MyDrive/FinalFilterOuput/PSD_combined_PSD-tfr.npz'\n",
        "testing_file_path = '/content/drive/MyDrive/FinalFilterOuput/Testing_PSD_combined_PSD-tfr.npz'\n",
        "combined_file_path = '/content/drive/MyDrive/FinalFilterOuput/All_Subjects_Combined_PSD-tfr.npz'\n",
        "\n",
        "# Load the training data\n",
        "training_data = np.load(training_file_path)\n",
        "psds_train = training_data['psds']\n",
        "freqs_train = training_data['freqs']\n",
        "labels_train = training_data['labels']\n",
        "\n",
        "# Load the testing data\n",
        "testing_data = np.load(testing_file_path)\n",
        "psds_test = testing_data['psds']\n",
        "freqs_test = testing_data['freqs']\n",
        "labels_test = testing_data['labels']\n",
        "\n",
        "# Check if frequency bins are the same\n",
        "if not np.array_equal(freqs_train, freqs_test):\n",
        "    raise ValueError(\"Frequency bins in training and testing data do not match.\")\n",
        "\n",
        "# Combine the PSDs and labels\n",
        "psds_combined = np.concatenate((psds_train, psds_test), axis=0)\n",
        "labels_combined = np.concatenate((labels_train, labels_test), axis=0)\n",
        "\n",
        "# Save the combined data into a new npz file\n",
        "np.savez(combined_file_path, psds=psds_combined, freqs=freqs_train, labels=labels_combined)\n",
        "\n",
        "print(\"Combined PSDs shape:\", psds_combined.shape)\n",
        "print(\"Combined labels shape:\", labels_combined.shape)\n",
        "print(\"Combined data saved to:\", combined_file_path)\n"
      ]
    },
    {
      "cell_type": "markdown",
      "metadata": {
        "id": "yvOCfb9x7ThU"
      },
      "source": [
        "### Full Code"
      ]
    },
    {
      "cell_type": "code",
      "execution_count": null,
      "metadata": {
        "colab": {
          "base_uri": "https://localhost:8080/"
        },
        "id": "2yFDFKja7Vrz",
        "outputId": "842bd7e4-711a-4dd0-eb11-fcb738863e46"
      },
      "outputs": [
        {
          "name": "stdout",
          "output_type": "stream",
          "text": [
            "Extracting Data from 1 block to get channel names\n",
            "Channel names: ['A1', 'A2', 'A3', 'A4', 'A5', 'A6', 'A7', 'A8', 'A9', 'A10', 'A11', 'A12', 'A13', 'A14', 'A15', 'A16', 'A17', 'A18', 'A19', 'A20', 'A21', 'A22', 'A23', 'A24', 'A25', 'A26', 'A27', 'A28', 'A29', 'A30', 'A31', 'A32', 'B1', 'B2', 'B3', 'B4', 'B5', 'B6', 'B7', 'B8', 'B9', 'B10', 'B11', 'B12', 'B13', 'B14', 'B15', 'B16', 'B17', 'B18', 'B19', 'B20', 'B21', 'B22', 'B23', 'B24', 'B25', 'B26', 'B27', 'B28', 'B29', 'B30', 'B31', 'B32', 'C1', 'C2', 'C3', 'C4', 'C5', 'C6', 'C7', 'C8', 'C9', 'C10', 'C11', 'C12', 'C13', 'C14', 'C15', 'C16', 'C17', 'C18', 'C19', 'C20', 'C21', 'C22', 'C23', 'C24', 'C25', 'C26', 'C27', 'C28', 'C29', 'C30', 'C31', 'C32', 'D1', 'D2', 'D3', 'D4', 'D5', 'D6', 'D7', 'D8', 'D9', 'D10', 'D11', 'D12', 'D13', 'D14', 'D15', 'D16', 'D17', 'D18', 'D19', 'D20', 'D21', 'D22', 'D23', 'D24', 'D25', 'D26', 'D27', 'D28', 'D29', 'D30', 'D31', 'D32']\n",
            "Subject: 1\n",
            "X_cond shape: (200, 128, 1153)\n",
            "Y_cond shape: (200, 4)\n",
            "First few X_cond values: [[[-1.71214033e-05 -1.48201071e-05 -1.60655794e-05 ... -3.78506815e-06\n",
            "    8.89594059e-08  1.42921047e-06]\n",
            "  [-1.59927819e-05 -1.51299635e-05 -1.77641432e-05 ... -4.88739831e-06\n",
            "   -2.46835184e-06  4.33372748e-07]\n",
            "  [-1.79711872e-05 -1.62988239e-05 -1.70813012e-05 ... -4.41318786e-06\n",
            "   -1.94503098e-06  3.91393585e-07]\n",
            "  ...\n",
            "  [ 8.35003641e-06  1.13799579e-05  1.05742193e-05 ...  3.76413144e-06\n",
            "    5.08753735e-06 -2.92650985e-06]\n",
            "  [-3.83527454e-06 -6.19514254e-07  1.87071309e-06 ...  3.55239387e-06\n",
            "    6.08985377e-06  5.18164545e-07]\n",
            "  [-2.87025648e-06  4.03000752e-07  1.15119606e-06 ...  3.81329373e-06\n",
            "    6.79309101e-06  1.31563104e-06]]\n",
            "\n",
            " [[ 5.14435655e-06  1.19051980e-05  9.44425146e-06 ... -1.23248462e-05\n",
            "   -1.49933323e-05 -9.49400318e-06]\n",
            "  [ 4.60073836e-06  1.12144031e-05  8.46442665e-06 ... -1.27889730e-05\n",
            "   -1.40249689e-05 -8.13245037e-06]\n",
            "  [ 4.49751242e-06  1.10140948e-05  8.54329468e-06 ... -1.27698963e-05\n",
            "   -1.42276150e-05 -8.60268812e-06]\n",
            "  ...\n",
            "  [-5.66520133e-06 -6.97768923e-07  8.32311605e-07 ...  1.73618460e-05\n",
            "    1.77407381e-05  1.22566693e-05]\n",
            "  [ 3.20565911e-06  2.47572160e-06  1.54603523e-06 ...  1.34527840e-05\n",
            "    1.39051378e-05  5.76822667e-06]\n",
            "  [ 4.36911683e-06  3.59637364e-06  2.14458551e-06 ...  1.25006798e-05\n",
            "    1.26011797e-05  4.59796728e-06]]]\n",
            "First few Y_cond values: [[351788      1      1      1]\n",
            " [358546      1      1      1]]\n",
            "Subject: 2\n",
            "X_cond shape: (240, 128, 1153)\n",
            "Y_cond shape: (240, 4)\n",
            "First few X_cond values: [[[ 1.16848172e-06  4.59443309e-06  9.69974369e-07 ...  6.35200300e-05\n",
            "    5.91585389e-05  6.28579323e-05]\n",
            "  [ 2.29075483e-06  4.88407858e-06  2.07253706e-06 ...  5.19021525e-05\n",
            "    4.91280230e-05  5.25579027e-05]\n",
            "  [ 1.22078994e-06  3.97350855e-06  1.00553369e-06 ...  5.05989705e-05\n",
            "    4.80872118e-05  5.20039995e-05]\n",
            "  ...\n",
            "  [ 4.73426101e-06  7.82161417e-06  1.10931490e-05 ... -7.70587036e-06\n",
            "    5.13658429e-06  8.04186263e-06]\n",
            "  [ 4.26258997e-06  7.46585998e-06  1.34729901e-05 ... -6.42848354e-06\n",
            "    7.01447639e-06 -5.07591999e-06]\n",
            "  [ 4.13249166e-06  3.95314836e-06  8.67817523e-06 ...  1.02046052e-05\n",
            "    2.72594031e-05  2.87532237e-06]]\n",
            "\n",
            " [[-1.03006393e-06 -4.21307731e-06 -4.20061464e-06 ...  2.43068964e-05\n",
            "    2.61918085e-05  2.56791403e-05]\n",
            "  [-1.33847136e-06 -3.77642534e-06 -3.80985111e-06 ...  2.33250477e-05\n",
            "    2.48609686e-05  2.53523322e-05]\n",
            "  [-5.09372944e-08 -3.12147976e-06 -3.72784516e-06 ...  2.22528307e-05\n",
            "    2.35897976e-05  2.33524632e-05]\n",
            "  ...\n",
            "  [ 1.79685245e-07  1.17482338e-07  2.80447527e-06 ...  1.00561515e-05\n",
            "    5.33507618e-06  5.19492876e-06]\n",
            "  [-1.48303032e-07 -2.19724045e-06 -1.74963114e-07 ...  1.78008689e-05\n",
            "    4.12252455e-06  8.89279327e-06]\n",
            "  [-6.21050596e-06 -2.96615777e-06 -9.35108284e-07 ...  2.25602249e-05\n",
            "   -9.68036260e-06 -4.12410087e-06]]]\n",
            "First few Y_cond values: [[356714      1      1      1]\n",
            " [363523      1      1      1]]\n",
            "Subject: 3\n",
            "X_cond shape: (180, 128, 1153)\n",
            "Y_cond shape: (180, 4)\n",
            "First few X_cond values: [[[-3.68665253e-06  1.35408952e-06  4.37465218e-06 ...  4.16335905e-06\n",
            "    2.41788464e-06  7.97586992e-06]\n",
            "  [-3.52726889e-06  2.96669145e-06  5.23219961e-06 ...  3.59320779e-06\n",
            "    2.12323970e-06  7.95936679e-06]\n",
            "  [-3.94865989e-06  1.94412219e-06  4.30176950e-06 ...  4.35015937e-06\n",
            "    1.69559597e-06  7.22728134e-06]\n",
            "  ...\n",
            "  [-8.93632433e-07  2.22572290e-06  6.10828545e-06 ...  1.77484939e-05\n",
            "    1.09479409e-05  9.29103657e-06]\n",
            "  [ 8.00754671e-09  1.88645597e-06  7.17531528e-06 ...  1.69542643e-05\n",
            "    6.08333329e-06  1.36037980e-06]\n",
            "  [-1.58751722e-06  4.77445712e-07  5.20678757e-06 ...  1.76075680e-05\n",
            "    6.37385718e-06  1.41074542e-06]]\n",
            "\n",
            " [[ 8.04480661e-06  2.01971262e-05  1.96906080e-05 ...  5.75486295e-06\n",
            "   -2.02335867e-06 -3.07099908e-06]\n",
            "  [ 8.30424923e-06  2.03459879e-05  1.93037501e-05 ...  6.54683320e-06\n",
            "   -1.09768522e-06 -2.69644414e-06]\n",
            "  [ 6.96637994e-06  1.93811703e-05  1.96008392e-05 ...  4.84679201e-06\n",
            "   -2.03199335e-06 -4.23577428e-06]\n",
            "  ...\n",
            "  [-2.28090522e-07  5.60429721e-06  6.54132318e-06 ...  1.68412690e-05\n",
            "    1.41981902e-05  1.59737609e-05]\n",
            "  [ 5.98935437e-06  9.16047869e-06  6.29489971e-06 ...  1.12217645e-05\n",
            "    1.38869631e-05  1.67643203e-05]\n",
            "  [ 5.89814452e-06  9.29865731e-06  6.07413969e-06 ...  1.13582126e-05\n",
            "    1.50857711e-05  1.74567267e-05]]]\n",
            "First few Y_cond values: [[351215      1      1      1]\n",
            " [357973      1      1      1]]\n",
            "Subject: 4\n",
            "X_cond shape: (240, 128, 1153)\n",
            "Y_cond shape: (240, 4)\n",
            "First few X_cond values: [[[-1.06558118e-07  3.08657308e-07 -6.64881112e-08 ... -5.19484866e-06\n",
            "   -7.19377426e-06 -2.06705393e-06]\n",
            "  [-9.37544868e-07  4.72756152e-07  2.17981805e-07 ... -5.51203616e-06\n",
            "   -7.61605856e-06 -2.18197728e-06]\n",
            "  [-2.53315413e-06 -1.08346581e-06 -3.23451568e-06 ... -8.85983247e-06\n",
            "   -8.71426956e-06 -3.89121293e-06]\n",
            "  ...\n",
            "  [ 1.05607111e-06  1.25701576e-06 -1.05334670e-07 ... -3.04922124e-06\n",
            "   -8.12498042e-06 -5.82682491e-06]\n",
            "  [ 2.13087086e-06  9.32912776e-07 -1.11363044e-06 ... -3.17272730e-06\n",
            "   -7.56181326e-06 -5.59474544e-06]\n",
            "  [ 1.22583696e-06  1.19786278e-06 -8.64161809e-07 ... -3.25943081e-06\n",
            "   -7.20274609e-06 -4.72291372e-06]]\n",
            "\n",
            " [[ 1.80378268e-06 -1.56519514e-07 -2.64204053e-06 ... -5.49405311e-07\n",
            "    2.42689234e-07 -2.45073306e-06]\n",
            "  [ 6.95450691e-07 -9.94312247e-07 -2.84786189e-06 ...  4.51384014e-08\n",
            "    1.08530357e-06 -2.05086571e-06]\n",
            "  [-3.78896387e-06 -2.94319702e-06 -4.77502104e-06 ...  4.07056168e-07\n",
            "    2.22565591e-06 -1.55501704e-06]\n",
            "  ...\n",
            "  [-6.92289383e-06 -3.65314397e-06 -5.49341742e-06 ... -6.37290723e-06\n",
            "   -4.55359389e-06 -5.02025260e-06]\n",
            "  [-7.93855697e-06 -3.09290858e-06 -5.55585989e-06 ... -5.72795910e-06\n",
            "   -3.30526273e-06 -3.81943207e-06]\n",
            "  [-6.52093181e-06 -2.96541001e-06 -4.90804450e-06 ... -5.73194143e-06\n",
            "   -2.55528968e-06 -3.12578346e-06]]]\n",
            "First few Y_cond values: [[351990      1      1      1]\n",
            " [358441      2      1      1]]\n",
            "Subject: 5\n",
            "X_cond shape: (240, 128, 1153)\n",
            "Y_cond shape: (240, 4)\n",
            "First few X_cond values: [[[ 6.36213336e-06  1.16684789e-05  7.81091423e-07 ...  7.22611937e-06\n",
            "    1.33719386e-05  8.54396646e-06]\n",
            "  [ 5.63987419e-06  1.09652666e-05 -4.06145634e-08 ...  8.44794134e-06\n",
            "    1.41763592e-05  9.07898098e-06]\n",
            "  [ 7.71263572e-06  1.11172902e-05  1.15972708e-06 ...  7.19613821e-06\n",
            "    1.41092350e-05  9.93838265e-06]\n",
            "  ...\n",
            "  [ 3.05680544e-06  8.58745554e-06  3.81103422e-06 ...  8.27195193e-07\n",
            "    4.25125546e-06 -3.77176629e-08]\n",
            "  [ 2.94791946e-06  8.97442576e-06  4.25891357e-06 ...  1.41572793e-06\n",
            "    5.54879188e-06  4.15275240e-07]\n",
            "  [ 2.86827057e-06  8.81616101e-06  3.46538159e-06 ...  1.64647740e-06\n",
            "    5.61670664e-06  5.87390298e-07]]\n",
            "\n",
            " [[ 9.29013438e-07  3.10175847e-06  3.68505416e-06 ...  1.38203234e-08\n",
            "   -7.28147567e-06 -8.95431571e-06]\n",
            "  [ 1.81278281e-06  4.44086901e-06  4.05093954e-06 ...  5.71751013e-07\n",
            "   -6.35897153e-06 -8.26967429e-06]\n",
            "  [ 1.38672152e-06  3.85962538e-06  5.12413220e-06 ...  4.96017236e-07\n",
            "   -7.23525064e-06 -8.45683477e-06]\n",
            "  ...\n",
            "  [-1.64553819e-06 -6.34314246e-07 -2.41777488e-06 ... -2.49269830e-06\n",
            "   -8.55944445e-06 -7.83849005e-06]\n",
            "  [-2.57848372e-06 -1.28726928e-06 -2.64009383e-06 ... -1.13229880e-06\n",
            "   -7.48738829e-06 -6.77409907e-06]\n",
            "  [-3.78302561e-06 -2.73490189e-06 -2.86135868e-06 ... -1.76104191e-06\n",
            "   -7.48868793e-06 -7.47904444e-06]]]\n",
            "First few Y_cond values: [[355049      2      1      1]\n",
            " [361927      3      1      1]]\n",
            "Subject: 6\n",
            "X_cond shape: (216, 128, 1153)\n",
            "Y_cond shape: (216, 4)\n",
            "First few X_cond values: [[[-2.14296613e-06 -2.46059244e-07  2.42932699e-06 ... -2.44469493e-06\n",
            "   -3.66554334e-06 -4.66988184e-06]\n",
            "  [-1.00777952e-06 -1.22456931e-06  4.30100058e-07 ... -1.59738855e-06\n",
            "   -2.61137618e-06 -4.96240231e-06]\n",
            "  [-2.45067640e-06 -2.02484885e-06  7.24666025e-07 ... -4.27114727e-06\n",
            "   -6.17378354e-06 -7.10725102e-06]\n",
            "  ...\n",
            "  [ 3.76371725e-06  2.34455944e-06  2.87242190e-06 ...  1.35182139e-06\n",
            "    9.34456657e-07  3.07104683e-07]\n",
            "  [-6.36767847e-07 -1.64689420e-06 -6.21430454e-08 ... -1.56093650e-06\n",
            "   -2.01659422e-06 -2.53035891e-06]\n",
            "  [ 6.65950347e-06  3.33910918e-06  1.71110307e-06 ... -5.37745527e-06\n",
            "   -3.84794115e-06 -2.75001267e-06]]\n",
            "\n",
            " [[ 3.53798838e-06  3.58290937e-06 -6.32506880e-07 ... -2.08338802e-08\n",
            "   -3.96709463e-06 -5.57362933e-06]\n",
            "  [ 1.83159940e-06  3.68628789e-06 -1.82784596e-06 ... -9.62716180e-07\n",
            "   -4.73647257e-06 -6.57520358e-06]\n",
            "  [ 4.07639477e-06  6.47851344e-06  1.27898063e-06 ... -1.34217516e-06\n",
            "   -5.72030486e-06 -8.53722942e-06]\n",
            "  ...\n",
            "  [-2.08627669e-06  5.58014673e-08 -5.01079341e-07 ...  4.32577693e-07\n",
            "   -2.90063757e-06 -5.22969854e-06]\n",
            "  [-2.09556515e-06  1.68559544e-07 -1.64192359e-06 ...  2.14369742e-06\n",
            "   -8.84616299e-07 -1.95797728e-06]\n",
            "  [-1.42721794e-05 -1.23856391e-05 -1.38626087e-05 ...  9.78897410e-06\n",
            "    6.98691336e-06  6.63729116e-06]]]\n",
            "First few Y_cond values: [[352296      1      1      1]\n",
            " [358781      2      1      1]]\n",
            "Subject: 7\n",
            "X_cond shape: (240, 128, 1153)\n",
            "Y_cond shape: (240, 4)\n",
            "First few X_cond values: [[[-2.02092588e-06 -6.00786700e-06 -6.90458060e-06 ... -8.16495142e-06\n",
            "   -8.54176199e-06 -1.07961571e-06]\n",
            "  [ 1.73793935e-06 -9.21148422e-07  1.43878740e-06 ... -7.87116816e-06\n",
            "   -7.62202441e-06 -3.96441798e-06]\n",
            "  [ 2.27265198e-06 -7.49984290e-07  1.89634586e-06 ... -6.03637497e-06\n",
            "   -6.45304178e-06 -1.56194276e-06]\n",
            "  ...\n",
            "  [-1.26863414e-06 -5.32427374e-06 -4.50191720e-06 ... -4.61644913e-06\n",
            "    8.68453222e-07  1.15816768e-06]\n",
            "  [ 3.10250670e-06  9.44782195e-08  2.77642625e-06 ... -3.44697150e-06\n",
            "   -3.57007785e-06  9.87981335e-07]\n",
            "  [ 1.31638714e-06 -3.25153575e-07  3.94688371e-06 ... -1.27325794e-05\n",
            "   -1.13262497e-05 -1.12093089e-05]]\n",
            "\n",
            " [[ 1.28243994e-05  1.25755872e-05  1.08481138e-05 ...  6.30969344e-07\n",
            "    5.69497324e-06  1.41140607e-05]\n",
            "  [ 9.24668720e-06  5.90018231e-06  3.61894541e-06 ...  4.02606349e-08\n",
            "    4.73014358e-06  1.09353972e-05]\n",
            "  [ 9.24655229e-06  8.22086887e-06  4.58976535e-06 ...  1.34842102e-06\n",
            "    3.40785240e-06  9.70670274e-06]\n",
            "  ...\n",
            "  [ 5.16928506e-06  2.32903381e-06  1.60578251e-06 ... -7.11487219e-06\n",
            "   -9.94473583e-07  6.34412696e-06]\n",
            "  [ 1.03745765e-06 -9.48441507e-07 -1.59221516e-06 ... -3.09466764e-06\n",
            "    9.62456705e-07  5.49647930e-06]\n",
            "  [-3.95924613e-06 -3.59687443e-06  1.51534317e-06 ... -1.47114204e-05\n",
            "   -1.04778330e-05 -5.59626255e-06]]]\n",
            "First few Y_cond values: [[352023      3      1      1]\n",
            " [358474      3      1      1]]\n",
            "Subject: 8\n",
            "X_cond shape: (200, 128, 1153)\n",
            "Y_cond shape: (200, 4)\n",
            "First few X_cond values: [[[-2.73979104e-06 -4.59745738e-06 -3.87223637e-06 ... -8.95165286e-06\n",
            "   -8.79411128e-06 -5.13602630e-06]\n",
            "  [-3.49326439e-06 -5.43517296e-06 -4.23450210e-06 ... -1.00664871e-05\n",
            "   -7.91029372e-06 -4.42492560e-06]\n",
            "  [ 1.81680892e-06 -4.80887866e-07  7.26659491e-07 ... -7.22598334e-06\n",
            "   -7.53439528e-06 -3.84112795e-06]\n",
            "  ...\n",
            "  [ 5.50098166e-06  3.02997130e-06  5.55312608e-06 ... -6.67990539e-06\n",
            "   -8.64136778e-06 -5.73832565e-06]\n",
            "  [ 5.83082739e-06  8.76786832e-07  2.86381354e-06 ... -6.51574041e-06\n",
            "   -9.07076293e-06 -5.54390495e-06]\n",
            "  [ 7.24914633e-06  1.84182229e-06  3.54736332e-06 ... -6.46474871e-06\n",
            "   -9.78515282e-06 -5.92474703e-06]]\n",
            "\n",
            " [[ 4.85971443e-06  1.47000056e-05  1.31286969e-05 ... -1.02664490e-05\n",
            "   -1.29849511e-05 -1.07871253e-05]\n",
            "  [ 5.63253928e-06  1.52729980e-05  1.33574918e-05 ... -9.81911168e-06\n",
            "   -1.29339865e-05 -9.53233118e-06]\n",
            "  [ 5.51284966e-06  1.26051618e-05  9.53525312e-06 ... -1.36834486e-05\n",
            "   -1.39195432e-05 -1.26404866e-05]\n",
            "  ...\n",
            "  [ 5.73979574e-06  1.22834096e-05  9.73704459e-06 ... -1.38038683e-05\n",
            "   -1.64959691e-05 -1.52796429e-05]\n",
            "  [ 9.88250060e-06  1.57942066e-05  9.91079481e-06 ... -5.71232874e-06\n",
            "   -9.93948689e-06 -1.00292998e-05]\n",
            "  [ 1.06087181e-05  1.51985448e-05  9.91439458e-06 ... -6.24880134e-06\n",
            "   -1.08430666e-05 -9.90639267e-06]]]\n",
            "First few Y_cond values: [[350747      0      1      1]\n",
            " [357215      2      1      1]]\n",
            "Subject: 9\n",
            "X_cond shape: (240, 128, 1153)\n",
            "Y_cond shape: (240, 4)\n",
            "First few X_cond values: [[[ 2.23879686e-05  1.58785470e-05  8.43427368e-06 ... -1.16961939e-05\n",
            "   -4.95468220e-06 -6.23759051e-06]\n",
            "  [ 2.40969058e-05  1.60211177e-05  8.41794409e-06 ... -1.19117856e-05\n",
            "   -5.95932323e-06 -7.65312888e-06]\n",
            "  [ 2.30474789e-05  1.49553229e-05  7.45665792e-06 ... -1.23659114e-05\n",
            "   -5.55247131e-06 -6.78306262e-06]\n",
            "  ...\n",
            "  [ 6.99377949e-06  1.80614133e-06 -2.69472017e-06 ...  9.76752281e-06\n",
            "    1.43683624e-05  1.61347419e-05]\n",
            "  [ 7.09554731e-06  1.48572837e-06 -3.34187386e-06 ...  1.12276441e-05\n",
            "    1.51568265e-05  1.66810339e-05]\n",
            "  [ 6.70317187e-06  2.33268156e-06 -1.48571967e-06 ...  1.16918398e-05\n",
            "    1.53633088e-05  1.69431000e-05]]\n",
            "\n",
            " [[-6.95985012e-06 -1.18808157e-05 -1.43949279e-05 ... -1.77438602e-05\n",
            "   -1.76710977e-05 -1.80860722e-05]\n",
            "  [-6.82226672e-06 -1.14513884e-05 -1.43758512e-05 ... -1.73274819e-05\n",
            "   -1.70292708e-05 -1.81830312e-05]\n",
            "  [-7.46781865e-06 -1.05780287e-05 -1.38346941e-05 ... -1.72680841e-05\n",
            "   -1.64994646e-05 -1.79039032e-05]\n",
            "  ...\n",
            "  [-5.69608763e-07 -4.71236600e-06  1.28716369e-06 ...  2.24722092e-06\n",
            "    6.21510076e-06  3.03404571e-06]\n",
            "  [-1.26882431e-06 -6.06621721e-06 -4.66553719e-08 ...  2.12580480e-06\n",
            "    5.18185821e-06  2.66982335e-06]\n",
            "  [-3.32286922e-07 -5.35117332e-06  5.97972131e-07 ...  2.35442050e-06\n",
            "    5.59595240e-06  2.85500048e-06]]]\n",
            "First few Y_cond values: [[355847      2      1      1]\n",
            " [362742      3      1      1]]\n",
            "Subject: 10\n",
            "X_cond shape: (240, 128, 1153)\n",
            "Y_cond shape: (240, 4)\n",
            "First few X_cond values: [[[ 2.43265769e-06 -1.01428557e-07  7.25519091e-06 ... -1.32315118e-07\n",
            "   -6.09937833e-07  4.61667777e-06]\n",
            "  [-8.24612803e-07 -4.30018556e-06  2.07329927e-06 ...  1.60251161e-07\n",
            "    1.82958368e-07  3.81454099e-06]\n",
            "  [ 1.06996405e-08 -4.24570819e-06  3.18898604e-06 ...  8.86767338e-07\n",
            "    1.03292063e-06  5.44870152e-06]\n",
            "  ...\n",
            "  [-1.21219664e-06 -2.03216044e-06  1.17606921e-06 ... -4.88732753e-06\n",
            "   -5.26748957e-06 -2.55922519e-06]\n",
            "  [ 5.38904286e-06  5.61678599e-06  6.58025076e-06 ... -6.58402346e-06\n",
            "   -8.42901673e-06 -6.15970355e-06]\n",
            "  [ 4.48381734e-06  5.60973900e-06  5.42611555e-06 ... -6.79635071e-06\n",
            "   -8.25751563e-06 -5.23444816e-06]]\n",
            "\n",
            " [[-1.92226540e-06 -1.00479285e-06 -3.75380862e-07 ... -6.20867017e-06\n",
            "   -5.20980092e-06 -8.73323505e-06]\n",
            "  [-4.27371176e-06 -3.54652783e-06 -3.18285473e-06 ... -5.66965388e-06\n",
            "   -4.56361743e-06 -6.91029468e-06]\n",
            "  [-5.63775250e-06 -5.03924926e-06 -3.18307702e-06 ... -5.85181971e-06\n",
            "   -4.40134444e-06 -7.27488410e-06]\n",
            "  ...\n",
            "  [-1.45662520e-05 -1.43518846e-05 -1.47407656e-05 ... -9.25404816e-06\n",
            "   -9.76954935e-06 -7.76662516e-06]\n",
            "  [-1.60309425e-05 -1.50738012e-05 -1.32985414e-05 ... -5.66103498e-06\n",
            "   -1.23418247e-05 -1.07282652e-05]\n",
            "  [-1.53688524e-05 -1.47924291e-05 -1.31822650e-05 ... -4.67972018e-06\n",
            "   -1.15186059e-05 -9.87701761e-06]]]\n",
            "First few Y_cond values: [[351081      3      1      1]\n",
            " [357907      2      1      1]]\n",
            "Combined X_data shape: (2236, 128, 1153)\n",
            "Combined Y_data shape: (2236, 4)\n",
            "First few X_data values: [[[-1.71214033e-05 -1.48201071e-05 -1.60655794e-05 ... -3.78506815e-06\n",
            "    8.89594059e-08  1.42921047e-06]\n",
            "  [-1.59927819e-05 -1.51299635e-05 -1.77641432e-05 ... -4.88739831e-06\n",
            "   -2.46835184e-06  4.33372748e-07]\n",
            "  [-1.79711872e-05 -1.62988239e-05 -1.70813012e-05 ... -4.41318786e-06\n",
            "   -1.94503098e-06  3.91393585e-07]\n",
            "  ...\n",
            "  [ 8.35003641e-06  1.13799579e-05  1.05742193e-05 ...  3.76413144e-06\n",
            "    5.08753735e-06 -2.92650985e-06]\n",
            "  [-3.83527454e-06 -6.19514254e-07  1.87071309e-06 ...  3.55239387e-06\n",
            "    6.08985377e-06  5.18164545e-07]\n",
            "  [-2.87025648e-06  4.03000752e-07  1.15119606e-06 ...  3.81329373e-06\n",
            "    6.79309101e-06  1.31563104e-06]]\n",
            "\n",
            " [[ 5.14435655e-06  1.19051980e-05  9.44425146e-06 ... -1.23248462e-05\n",
            "   -1.49933323e-05 -9.49400318e-06]\n",
            "  [ 4.60073836e-06  1.12144031e-05  8.46442665e-06 ... -1.27889730e-05\n",
            "   -1.40249689e-05 -8.13245037e-06]\n",
            "  [ 4.49751242e-06  1.10140948e-05  8.54329468e-06 ... -1.27698963e-05\n",
            "   -1.42276150e-05 -8.60268812e-06]\n",
            "  ...\n",
            "  [-5.66520133e-06 -6.97768923e-07  8.32311605e-07 ...  1.73618460e-05\n",
            "    1.77407381e-05  1.22566693e-05]\n",
            "  [ 3.20565911e-06  2.47572160e-06  1.54603523e-06 ...  1.34527840e-05\n",
            "    1.39051378e-05  5.76822667e-06]\n",
            "  [ 4.36911683e-06  3.59637364e-06  2.14458551e-06 ...  1.25006798e-05\n",
            "    1.26011797e-05  4.59796728e-06]]]\n",
            "First few Y_data values: [[351788      1      1      1]\n",
            " [358546      1      1      1]]\n",
            "MNE Info object created with channel names and sampling frequency.\n",
            "<Info | 7 non-empty values\n",
            " bads: []\n",
            " ch_names: A1, A2, A3, A4, A5, A6, A7, A8, A9, A10, A11, A12, A13, A14, ...\n",
            " chs: 128 EEG\n",
            " custom_ref_applied: False\n",
            " highpass: 0.0 Hz\n",
            " lowpass: 128.0 Hz\n",
            " meas_date: unspecified\n",
            " nchan: 128\n",
            " projs: []\n",
            " sfreq: 256.0 Hz\n",
            ">\n",
            "EpochsArray object created with combined data.\n",
            "<EpochsArray |  2236 events (all good), 0 – 4.5 s, baseline off, ~2.46 GB, data loaded,\n",
            " '1': 2236>\n",
            "Montage object created with biosemi128 montage.\n",
            "<DigMontage | 0 extras (headshape), 0 HPIs, 3 fiducials, 128 channels>\n",
            "Montage set for the EpochsArray object.\n",
            "<EpochsArray |  2236 events (all good), 0 – 4.5 s, baseline off, ~2.46 GB, data loaded,\n",
            " '1': 2236>\n",
            "Calculating PSD for the combined data...\n",
            "PSDs shape: (2236, 128, 249)\n",
            "Frequency bins shape: (249,)\n",
            "First few PSD values for the first channel: [1.51636208e-11 7.68882141e-12 1.64987982e-12 6.82063889e-12\n",
            " 3.12097510e-12 1.26373902e-12 1.62958454e-14 3.07837425e-12\n",
            " 2.03368807e-12 1.21924931e-12]\n",
            "Saving PSD results to: /content/drive/MyDrive/FinalFilterOuput/All_Subjects_PSD_combined_PSD-tfr.npz\n",
            "PSD calculation and saving completed.\n"
          ]
        }
      ],
      "source": [
        "import numpy as np\n",
        "import mne\n",
        "\n",
        "### ---- Processing Variables ---- ###\n",
        "\n",
        "# Save options\n",
        "save_bool = False\n",
        "overwrite = True\n",
        "\n",
        "# Subjets list\n",
        "N_S_list=[2]\n",
        "# N_S_list = [1,2, 3, 4, 5, 6,7,8,9,10]  # for training\n",
        "# N_S_list = [2,7,8,9]\n",
        "\n",
        "# Data filtering\n",
        "datatype = \"eeg\"\n",
        "Cond = \"Inner\"\n",
        "Classes = \"ALL\"\n",
        "\n",
        "# Time window\n",
        "tmin = 0.5\n",
        "tmax = 3\n",
        "\n",
        "# PSD Parameters\n",
        "fmin = 0.5\n",
        "fmax = 100\n",
        "n_overlap = 0\n",
        "n_fft = 256\n",
        "picks = \"all\"\n",
        "average = \"mean\"\n",
        "\n",
        "# Load data from the first subject to get the channel names\n",
        "N_S = 1\n",
        "N_B = 1\n",
        "\n",
        "X_S, Y = extract_block_data_from_subject(root_dir, N_S, datatype, N_B)\n",
        "print(\"Extracting Data from 1 block to get channel names\")\n",
        "channel_names = X_S.ch_names\n",
        "print(\"Channel names:\", channel_names)\n",
        "\n",
        "# Initialize an empty list to hold all the epochs data\n",
        "all_epochs_data = []\n",
        "all_labels = []\n",
        "\n",
        "# Loop through all subjects\n",
        "for N_S in N_S_list:\n",
        "    print(\"Subject: \" + str(N_S))\n",
        "\n",
        "    # Load the data for the subject\n",
        "    X_s, Y = extract_data_from_subject(root_dir, N_S, datatype=\"eeg\")\n",
        "\n",
        "    # Filter by condition\n",
        "    X_cond, Y_cond = filter_by_condition(X_s, Y, condition=Cond)\n",
        "\n",
        "    # Filter by class\n",
        "    X_cond, Y_cond = filter_by_class(X_cond, Y_cond, Classes)\n",
        "\n",
        "    # Append the data to the list\n",
        "    all_epochs_data.append(X_cond)\n",
        "    all_labels.append(Y_cond)\n",
        "\n",
        "    print(\"X_cond shape:\", X_cond.shape)\n",
        "    print(\"Y_cond shape:\", Y_cond.shape)\n",
        "    print(\"First few X_cond values:\", X_cond[:2])\n",
        "    print(\"First few Y_cond values:\", Y_cond[:2])\n",
        "\n",
        "# Stack all the data\n",
        "X_data = np.vstack(all_epochs_data)\n",
        "Y_data = np.vstack(all_labels)\n",
        "print(\"Combined X_data shape:\", X_data.shape)\n",
        "print(\"Combined Y_data shape:\", Y_data.shape)\n",
        "print(\"First few X_data values:\", X_data[:2])\n",
        "print(\"First few Y_data values:\", Y_data[:2])\n",
        "\n",
        "# Create an MNE Info object with correct channel names\n",
        "info = mne.create_info(ch_names=channel_names, sfreq=256, ch_types=\"eeg\")\n",
        "print(\"MNE Info object created with channel names and sampling frequency.\")\n",
        "print(info)\n",
        "\n",
        "# Create the epochs object\n",
        "epochs_combined = mne.EpochsArray(X_data, info)\n",
        "print(\"EpochsArray object created with combined data.\")\n",
        "print(epochs_combined)\n",
        "# Set the montage\n",
        "montage = mne.channels.make_standard_montage(\"biosemi128\")\n",
        "print(\"Montage object created with biosemi128 montage.\")\n",
        "print(montage)\n",
        "epochs_combined.set_montage(montage, match_case=False)\n",
        "print(\"Montage set for the EpochsArray object.\")\n",
        "print(epochs_combined)\n",
        "# Calculate PSD\n",
        "print(\"Calculating PSD for the combined data...\")\n",
        "psd_result = epochs_combined.compute_psd(method='welch', fmin=fmin, fmax=fmax, tmin=tmin, tmax=tmax, picks=picks)\n",
        "\n",
        "# Extract PSD values and frequency bins from the Power Spectrum object\n",
        "psds = psd_result.get_data()\n",
        "freqs = psd_result.freqs\n",
        "\n",
        "# Print some statistics for verification\n",
        "print(\"PSDs shape:\", psds.shape)\n",
        "print(\"Frequency bins shape:\", freqs.shape)\n",
        "print(\"First few PSD values for the first channel:\", psds[0, 0, :10])\n",
        "\n",
        "# Save PSD results\n",
        "save_dir = \"/content/drive/MyDrive/FinalFilterOuput\"\n",
        "file_name = save_dir + \"/All_Subjects_PSD_combined_PSD-tfr.npz\"\n",
        "print(\"Saving PSD results to:\", file_name)\n",
        "np.savez(file_name, psds=psds, freqs=freqs, labels=Y_data)\n",
        "\n",
        "print(\"PSD calculation and saving completed.\")\n"
      ]
    },
    {
      "cell_type": "markdown",
      "metadata": {
        "id": "38ahE_s11c4I"
      },
      "source": [
        "## Model Train"
      ]
    },
    {
      "cell_type": "markdown",
      "metadata": {
        "id": "ZOzrP1Go1fR3"
      },
      "source": [
        "### Model Train on Single file"
      ]
    },
    {
      "cell_type": "markdown",
      "metadata": {
        "id": "ESIc2xw5Mdoi"
      },
      "source": [
        "#### Load the Data"
      ]
    },
    {
      "cell_type": "code",
      "execution_count": null,
      "metadata": {
        "colab": {
          "base_uri": "https://localhost:8080/"
        },
        "collapsed": true,
        "id": "h01Vs3pdMfeN",
        "outputId": "241578b9-b732-4c5b-c239-7a3905d3b993"
      },
      "outputs": [
        {
          "name": "stdout",
          "output_type": "stream",
          "text": [
            "NpzFile '/content/drive/MyDrive/FinalFilterOuput/PSD_combined_PSD-tfr.npz' with keys: psds, freqs, labels\n",
            "Loaded PSDs shape: (1316, 128, 249)\n",
            "[[[1.51636208e-11 7.68882141e-12 1.64987982e-12 ... 2.44598148e-14\n",
            "   1.21454432e-14 3.23524730e-14]\n",
            "  [1.43350472e-11 7.34710662e-12 2.02088469e-12 ... 3.02456991e-15\n",
            "   1.27520225e-15 3.66522148e-14]\n",
            "  [1.44793708e-11 7.61140754e-12 2.00231467e-12 ... 1.36192863e-14\n",
            "   1.58106593e-14 3.18731430e-14]\n",
            "  ...\n",
            "  [2.41929065e-12 1.13674614e-11 4.44848201e-13 ... 1.02473850e-13\n",
            "   2.13724987e-13 1.17201110e-13]\n",
            "  [4.67206044e-12 6.98626960e-12 5.04328584e-12 ... 2.77688178e-13\n",
            "   3.24863004e-13 1.34013751e-13]\n",
            "  [4.87694102e-12 6.87090857e-12 4.68513193e-12 ... 2.00104786e-13\n",
            "   2.67097852e-13 1.01777490e-13]]]\n",
            "Loaded Frequency bins shape: (249,)\n",
            "[0.79875195 1.19812793 1.5975039  1.99687988 2.39625585 2.79563183\n",
            " 3.1950078  3.59438378 3.99375975 4.39313573]\n",
            "Loaded Labels shape: (1316, 4)\n",
            "[[351788      1      1      1]\n",
            " [358546      1      1      1]\n",
            " [365390      3      1      1]\n",
            " [372216      3      1      1]\n",
            " [387985      3      1      1]\n",
            " [394471      0      1      1]\n",
            " [400870      2      1      1]\n",
            " [407629      3      1      1]\n",
            " [421964      3      1      1]\n",
            " [428808      1      1      1]]\n"
          ]
        }
      ],
      "source": [
        "import numpy as np\n",
        "\n",
        "# Define the path to load the npz file\n",
        "npz_load_path = '/content/drive/MyDrive/FinalFilterOuput/PSD_combined_PSD-tfr.npz'\n",
        "\n",
        "# Load the data from the npz file\n",
        "data = np.load(npz_load_path)\n",
        "\n",
        "print(data)\n",
        "# # Extract PSDs and frequency bins\n",
        "psds = data['psds']\n",
        "freqs = data['freqs']\n",
        "labels= data['labels']\n",
        "\n",
        "# Print the shape of the loaded data\n",
        "\n",
        "print(\"Loaded PSDs shape:\", psds.shape)\n",
        "print(psds[:1])\n",
        "print(\"Loaded Frequency bins shape:\", freqs.shape)\n",
        "print(freqs[:10])\n",
        "print(\"Loaded Labels shape:\", labels.shape)\n",
        "print(labels[:10])"
      ]
    },
    {
      "cell_type": "markdown",
      "metadata": {
        "id": "bKR9SgMtWmq5"
      },
      "source": [
        "#### Spliting Dataset\n"
      ]
    },
    {
      "cell_type": "code",
      "execution_count": null,
      "metadata": {
        "colab": {
          "base_uri": "https://localhost:8080/"
        },
        "id": "ZUZ0jrXfWrC-",
        "outputId": "5c0a0817-35bc-4ab4-c8c9-ff5cf6e9e0e8"
      },
      "outputs": [
        {
          "name": "stdout",
          "output_type": "stream",
          "text": [
            "(1316, 128, 249, 1)\n",
            "Training data shape: (1052, 128, 249, 1)\n",
            "Testing data shape: (264, 128, 249, 1)\n",
            "Training labels shape: (1052, 4)\n",
            "Testing labels shape: [[0. 0. 1. 0.]\n",
            " [0. 0. 0. 1.]\n",
            " [0. 0. 1. 0.]\n",
            " [0. 0. 1. 0.]\n",
            " [0. 0. 0. 1.]\n",
            " [0. 1. 0. 0.]\n",
            " [0. 1. 0. 0.]\n",
            " [0. 0. 1. 0.]\n",
            " [0. 0. 1. 0.]\n",
            " [1. 0. 0. 0.]]\n",
            "Testing labels shape: (264, 4)\n"
          ]
        }
      ],
      "source": [
        "import numpy as np\n",
        "from sklearn.model_selection import train_test_split\n",
        "from sklearn.preprocessing import OneHotEncoder\n",
        "from tensorflow.keras.models import Sequential\n",
        "from tensorflow.keras.layers import Conv2D, MaxPooling2D, Flatten, Dense, Dropout\n",
        "from tensorflow.keras.optimizers import Adam\n",
        "\n",
        "\n",
        "# Reshape PSD data for CNN input\n",
        "# Current shape is (200, 128, 249)\n",
        "# Required shape is (200, 128, 249, 1) for CNN input\n",
        "psds = psds[..., np.newaxis]\n",
        "\n",
        "print(psds.shape)\n",
        "# One-hot encode labels (assuming labels are in the second column of the labels array)\n",
        "encoder = OneHotEncoder(sparse=False)\n",
        "labels_one_hot = encoder.fit_transform(labels[:, 1].reshape(-1, 1))\n",
        "\n",
        "# Split the data into training and testing sets\n",
        "X_train, X_test, y_train, y_test = train_test_split(psds, labels_one_hot, test_size=0.2, random_state=42)\n",
        "\n",
        "print(\"Training data shape:\", X_train.shape)\n",
        "print(\"Testing data shape:\", X_test.shape)\n",
        "print(\"Training labels shape:\", y_train.shape)\n",
        "print(\"Testing labels shape:\", y_test[:10])\n",
        "print(\"Testing labels shape:\", y_test.shape)\n"
      ]
    },
    {
      "cell_type": "markdown",
      "metadata": {
        "id": "7tAannCkXDXV"
      },
      "source": [
        "#### Train Model"
      ]
    },
    {
      "cell_type": "code",
      "execution_count": null,
      "metadata": {
        "colab": {
          "base_uri": "https://localhost:8080/"
        },
        "id": "QBHspkA6XE5h",
        "outputId": "bd680477-f9e1-4600-8ee3-8b24f81bd59c"
      },
      "outputs": [
        {
          "name": "stdout",
          "output_type": "stream",
          "text": [
            "Epoch 1/10\n",
            "5/5 [==============================] - 16s 2s/step - loss: 1.3868 - accuracy: 0.2000 - val_loss: 1.3859 - val_accuracy: 0.2750\n",
            "Epoch 2/10\n",
            "5/5 [==============================] - 14s 3s/step - loss: 1.3908 - accuracy: 0.2750 - val_loss: 1.3858 - val_accuracy: 0.2750\n",
            "Epoch 3/10\n",
            "5/5 [==============================] - 14s 3s/step - loss: 1.3856 - accuracy: 0.2688 - val_loss: 1.3863 - val_accuracy: 0.2000\n",
            "Epoch 4/10\n",
            "5/5 [==============================] - 13s 3s/step - loss: 1.3863 - accuracy: 0.2250 - val_loss: 1.3864 - val_accuracy: 0.2000\n",
            "Epoch 5/10\n",
            "5/5 [==============================] - 11s 2s/step - loss: 1.3863 - accuracy: 0.2937 - val_loss: 1.3870 - val_accuracy: 0.2000\n",
            "Epoch 6/10\n",
            "5/5 [==============================] - 12s 2s/step - loss: 1.3862 - accuracy: 0.2688 - val_loss: 1.3876 - val_accuracy: 0.2000\n",
            "Epoch 7/10\n",
            "5/5 [==============================] - 14s 3s/step - loss: 1.3859 - accuracy: 0.2500 - val_loss: 1.3878 - val_accuracy: 0.2000\n",
            "Epoch 8/10\n",
            "5/5 [==============================] - 13s 3s/step - loss: 1.3863 - accuracy: 0.2438 - val_loss: 1.3880 - val_accuracy: 0.2000\n",
            "Epoch 9/10\n",
            "5/5 [==============================] - 12s 2s/step - loss: 1.3862 - accuracy: 0.2438 - val_loss: 1.3882 - val_accuracy: 0.2000\n",
            "Epoch 10/10\n",
            "5/5 [==============================] - 12s 2s/step - loss: 1.3856 - accuracy: 0.2688 - val_loss: 1.3883 - val_accuracy: 0.2000\n",
            "2/2 [==============================] - 1s 230ms/step - loss: 1.3883 - accuracy: 0.2000\n",
            "Test Accuracy: 20.00%\n"
          ]
        }
      ],
      "source": [
        "# Define the CNN model\n",
        "model = Sequential([\n",
        "    Conv2D(32, (3, 3), activation='relu', input_shape=(128, 249, 1)),\n",
        "    MaxPooling2D((2, 2)),\n",
        "    Conv2D(64, (3, 3), activation='relu'),\n",
        "    MaxPooling2D((2, 2)),\n",
        "    Conv2D(128, (3, 3), activation='relu'),\n",
        "    MaxPooling2D((2, 2)),\n",
        "    Flatten(),\n",
        "    Dense(128, activation='relu'),\n",
        "    Dropout(0.5),\n",
        "    Dense(len(np.unique(labels[:, 1])), activation='softmax')  # Number of classes should match the number of unique labels\n",
        "])\n",
        "\n",
        "# Compile the model\n",
        "model.compile(optimizer=Adam(), loss='categorical_crossentropy', metrics=['accuracy'])\n",
        "\n",
        "# Train the model\n",
        "history = model.fit(X_train, y_train, epochs=10, batch_size=32, validation_data=(X_test, y_test))\n",
        "\n",
        "# Evaluate the model\n",
        "loss, accuracy = model.evaluate(X_test, y_test)\n",
        "print(f'Test Accuracy: {accuracy * 100:.2f}%')"
      ]
    },
    {
      "cell_type": "markdown",
      "metadata": {
        "id": "-HGP-Y7NKQJ0"
      },
      "source": [
        "## Model training on testing and training file"
      ]
    },
    {
      "cell_type": "code",
      "execution_count": null,
      "metadata": {
        "colab": {
          "base_uri": "https://localhost:8080/",
          "height": 1000
        },
        "collapsed": true,
        "id": "xQcPSdx1KT0S",
        "outputId": "f70a3f3e-7d21-43d8-e3c4-f07f448494bd"
      },
      "outputs": [
        {
          "name": "stdout",
          "output_type": "stream",
          "text": [
            "Training PSDs shape: (1316, 128, 249)\n",
            "Training labels shape: (1316, 4)\n",
            "Testing PSDs shape: (920, 128, 249)\n",
            "Testing labels shape: (920, 4)\n",
            "Reshaped training PSDs shape: (1316, 128, 249, 1)\n",
            "Reshaped testing PSDs shape: (920, 128, 249, 1)\n",
            "One-hot encoded training labels shape: (1316, 4)\n",
            "One-hot encoded testing labels shape: (920, 4)\n"
          ]
        },
        {
          "name": "stderr",
          "output_type": "stream",
          "text": [
            "/usr/local/lib/python3.10/dist-packages/sklearn/preprocessing/_encoders.py:868: FutureWarning: `sparse` was renamed to `sparse_output` in version 1.2 and will be removed in 1.4. `sparse_output` is ignored unless you leave `sparse` to its default value.\n",
            "  warnings.warn(\n"
          ]
        },
        {
          "name": "stdout",
          "output_type": "stream",
          "text": [
            "Training data shape: (1052, 128, 249, 1)\n",
            "Validation data shape: (264, 128, 249, 1)\n",
            "Training labels shape: (1052, 4)\n",
            "Validation labels shape: (264, 4)\n",
            "Epoch 1/50\n",
            "33/33 [==============================] - 69s 2s/step - loss: 1.3876 - accuracy: 0.2329 - val_loss: 1.3869 - val_accuracy: 0.2348\n",
            "Epoch 2/50\n",
            "33/33 [==============================] - 59s 2s/step - loss: 1.3866 - accuracy: 0.2424 - val_loss: 1.3867 - val_accuracy: 0.2311\n",
            "Epoch 3/50\n",
            "33/33 [==============================] - 57s 2s/step - loss: 1.3864 - accuracy: 0.2490 - val_loss: 1.3866 - val_accuracy: 0.2311\n",
            "Epoch 4/50\n",
            "33/33 [==============================] - 60s 2s/step - loss: 1.3864 - accuracy: 0.2348 - val_loss: 1.3867 - val_accuracy: 0.2311\n",
            "Epoch 5/50\n",
            "33/33 [==============================] - 57s 2s/step - loss: 1.3863 - accuracy: 0.2443 - val_loss: 1.3866 - val_accuracy: 0.2311\n",
            "Epoch 6/50\n",
            "33/33 [==============================] - 57s 2s/step - loss: 1.3865 - accuracy: 0.2424 - val_loss: 1.3867 - val_accuracy: 0.2311\n",
            "Epoch 7/50\n",
            "33/33 [==============================] - 60s 2s/step - loss: 1.3865 - accuracy: 0.2471 - val_loss: 1.3870 - val_accuracy: 0.2311\n",
            "Epoch 8/50\n",
            "33/33 [==============================] - 59s 2s/step - loss: 1.3861 - accuracy: 0.2538 - val_loss: 1.3871 - val_accuracy: 0.2311\n",
            "Epoch 9/50\n",
            "33/33 [==============================] - 59s 2s/step - loss: 1.3864 - accuracy: 0.2367 - val_loss: 1.3872 - val_accuracy: 0.2311\n",
            "Epoch 10/50\n",
            "33/33 [==============================] - 57s 2s/step - loss: 1.3862 - accuracy: 0.2500 - val_loss: 1.3876 - val_accuracy: 0.2311\n",
            "Epoch 11/50\n",
            "33/33 [==============================] - 63s 2s/step - loss: 1.3863 - accuracy: 0.2567 - val_loss: 1.3874 - val_accuracy: 0.2348\n",
            "Epoch 12/50\n",
            "33/33 [==============================] - 57s 2s/step - loss: 1.3861 - accuracy: 0.2538 - val_loss: 1.3874 - val_accuracy: 0.2311\n",
            "Epoch 13/50\n",
            "33/33 [==============================] - 59s 2s/step - loss: 1.3862 - accuracy: 0.2319 - val_loss: 1.3876 - val_accuracy: 0.2311\n",
            "Epoch 14/50\n",
            "33/33 [==============================] - 57s 2s/step - loss: 1.3864 - accuracy: 0.2557 - val_loss: 1.3879 - val_accuracy: 0.2311\n",
            "Epoch 15/50\n",
            "33/33 [==============================] - 57s 2s/step - loss: 1.3861 - accuracy: 0.2557 - val_loss: 1.3875 - val_accuracy: 0.2311\n",
            "Epoch 16/50\n",
            "33/33 [==============================] - 59s 2s/step - loss: 1.3864 - accuracy: 0.2548 - val_loss: 1.3876 - val_accuracy: 0.2311\n",
            "Epoch 17/50\n",
            "33/33 [==============================] - 58s 2s/step - loss: 1.3863 - accuracy: 0.2548 - val_loss: 1.3875 - val_accuracy: 0.2311\n",
            "Epoch 18/50\n",
            "33/33 [==============================] - 62s 2s/step - loss: 1.3865 - accuracy: 0.2548 - val_loss: 1.3874 - val_accuracy: 0.2311\n",
            "Epoch 19/50\n",
            "33/33 [==============================] - 59s 2s/step - loss: 1.3864 - accuracy: 0.2586 - val_loss: 1.3876 - val_accuracy: 0.2311\n",
            "Epoch 20/50\n",
            "33/33 [==============================] - 58s 2s/step - loss: 1.3863 - accuracy: 0.2471 - val_loss: 1.3872 - val_accuracy: 0.2311\n",
            "Epoch 21/50\n",
            "33/33 [==============================] - 57s 2s/step - loss: 1.3859 - accuracy: 0.2557 - val_loss: 1.3874 - val_accuracy: 0.2311\n",
            "Epoch 22/50\n",
            "33/33 [==============================] - 69s 2s/step - loss: 1.3863 - accuracy: 0.2548 - val_loss: 1.3874 - val_accuracy: 0.2311\n",
            "Epoch 23/50\n",
            "33/33 [==============================] - 58s 2s/step - loss: 1.3861 - accuracy: 0.2548 - val_loss: 1.3874 - val_accuracy: 0.2311\n",
            "Epoch 24/50\n",
            "33/33 [==============================] - 58s 2s/step - loss: 1.3857 - accuracy: 0.2548 - val_loss: 1.3876 - val_accuracy: 0.2311\n",
            "Epoch 25/50\n",
            "33/33 [==============================] - 58s 2s/step - loss: 1.3860 - accuracy: 0.2548 - val_loss: 1.3878 - val_accuracy: 0.2311\n",
            "Epoch 26/50\n",
            "33/33 [==============================] - 59s 2s/step - loss: 1.3863 - accuracy: 0.2557 - val_loss: 1.3878 - val_accuracy: 0.2311\n",
            "Epoch 27/50\n",
            "33/33 [==============================] - 59s 2s/step - loss: 1.3865 - accuracy: 0.2548 - val_loss: 1.3879 - val_accuracy: 0.2311\n",
            "Epoch 28/50\n",
            "33/33 [==============================] - 60s 2s/step - loss: 1.3862 - accuracy: 0.2548 - val_loss: 1.3878 - val_accuracy: 0.2311\n",
            "Epoch 29/50\n",
            "33/33 [==============================] - 59s 2s/step - loss: 1.3866 - accuracy: 0.2586 - val_loss: 1.3880 - val_accuracy: 0.2311\n",
            "Epoch 30/50\n",
            "33/33 [==============================] - 60s 2s/step - loss: 1.3860 - accuracy: 0.2548 - val_loss: 1.3878 - val_accuracy: 0.2311\n",
            "Epoch 31/50\n",
            "33/33 [==============================] - 61s 2s/step - loss: 1.3862 - accuracy: 0.2633 - val_loss: 1.3875 - val_accuracy: 0.2311\n",
            "Epoch 32/50\n",
            "33/33 [==============================] - 67s 2s/step - loss: 1.3861 - accuracy: 0.2576 - val_loss: 1.3876 - val_accuracy: 0.2311\n",
            "Epoch 33/50\n",
            "33/33 [==============================] - 60s 2s/step - loss: 1.3862 - accuracy: 0.2567 - val_loss: 1.3875 - val_accuracy: 0.2311\n",
            "Epoch 34/50\n",
            "33/33 [==============================] - 59s 2s/step - loss: 1.3862 - accuracy: 0.2548 - val_loss: 1.3875 - val_accuracy: 0.2311\n",
            "Epoch 35/50\n",
            "33/33 [==============================] - 60s 2s/step - loss: 1.3862 - accuracy: 0.2595 - val_loss: 1.3876 - val_accuracy: 0.2311\n",
            "Epoch 36/50\n",
            "33/33 [==============================] - 58s 2s/step - loss: 1.3862 - accuracy: 0.2557 - val_loss: 1.3874 - val_accuracy: 0.2311\n",
            "Epoch 37/50\n",
            "33/33 [==============================] - 58s 2s/step - loss: 1.3866 - accuracy: 0.2567 - val_loss: 1.3874 - val_accuracy: 0.2311\n",
            "Epoch 38/50\n",
            "33/33 [==============================] - 58s 2s/step - loss: 1.3864 - accuracy: 0.2424 - val_loss: 1.3875 - val_accuracy: 0.2311\n",
            "Epoch 39/50\n",
            "33/33 [==============================] - 60s 2s/step - loss: 1.3864 - accuracy: 0.2443 - val_loss: 1.3877 - val_accuracy: 0.2311\n",
            "Epoch 40/50\n",
            "33/33 [==============================] - 58s 2s/step - loss: 1.3865 - accuracy: 0.2700 - val_loss: 1.3875 - val_accuracy: 0.2311\n",
            "Epoch 41/50\n",
            "33/33 [==============================] - 58s 2s/step - loss: 1.3866 - accuracy: 0.2452 - val_loss: 1.3874 - val_accuracy: 0.2311\n",
            "Epoch 42/50\n",
            "33/33 [==============================] - 57s 2s/step - loss: 1.3861 - accuracy: 0.2291 - val_loss: 1.3875 - val_accuracy: 0.2311\n",
            "Epoch 43/50\n",
            "33/33 [==============================] - 60s 2s/step - loss: 1.3863 - accuracy: 0.2557 - val_loss: 1.3876 - val_accuracy: 0.2311\n",
            "Epoch 44/50\n",
            "33/33 [==============================] - 60s 2s/step - loss: 1.3866 - accuracy: 0.2500 - val_loss: 1.3877 - val_accuracy: 0.2311\n",
            "Epoch 45/50\n",
            "33/33 [==============================] - 60s 2s/step - loss: 1.3862 - accuracy: 0.2576 - val_loss: 1.3876 - val_accuracy: 0.2311\n",
            "Epoch 46/50\n",
            "33/33 [==============================] - 58s 2s/step - loss: 1.3864 - accuracy: 0.2424 - val_loss: 1.3875 - val_accuracy: 0.2311\n",
            "Epoch 47/50\n",
            " 4/33 [==>...........................] - ETA: 40s - loss: 1.3867 - accuracy: 0.2734"
          ]
        },
        {
          "ename": "KeyboardInterrupt",
          "evalue": "",
          "output_type": "error",
          "traceback": [
            "\u001b[0;31m---------------------------------------------------------------------------\u001b[0m",
            "\u001b[0;31mKeyboardInterrupt\u001b[0m                         Traceback (most recent call last)",
            "\u001b[0;32m<ipython-input-5-9dfc4232748c>\u001b[0m in \u001b[0;36m<cell line: 70>\u001b[0;34m()\u001b[0m\n\u001b[1;32m     68\u001b[0m \u001b[0;34m\u001b[0m\u001b[0m\n\u001b[1;32m     69\u001b[0m \u001b[0;31m# Train the model\u001b[0m\u001b[0;34m\u001b[0m\u001b[0;34m\u001b[0m\u001b[0m\n\u001b[0;32m---> 70\u001b[0;31m \u001b[0mhistory\u001b[0m \u001b[0;34m=\u001b[0m \u001b[0mmodel\u001b[0m\u001b[0;34m.\u001b[0m\u001b[0mfit\u001b[0m\u001b[0;34m(\u001b[0m\u001b[0mX_train\u001b[0m\u001b[0;34m,\u001b[0m \u001b[0my_train\u001b[0m\u001b[0;34m,\u001b[0m \u001b[0mepochs\u001b[0m\u001b[0;34m=\u001b[0m\u001b[0;36m50\u001b[0m\u001b[0;34m,\u001b[0m \u001b[0mbatch_size\u001b[0m\u001b[0;34m=\u001b[0m\u001b[0;36m32\u001b[0m\u001b[0;34m,\u001b[0m \u001b[0mvalidation_data\u001b[0m\u001b[0;34m=\u001b[0m\u001b[0;34m(\u001b[0m\u001b[0mX_val\u001b[0m\u001b[0;34m,\u001b[0m \u001b[0my_val\u001b[0m\u001b[0;34m)\u001b[0m\u001b[0;34m)\u001b[0m\u001b[0;34m\u001b[0m\u001b[0;34m\u001b[0m\u001b[0m\n\u001b[0m\u001b[1;32m     71\u001b[0m \u001b[0;34m\u001b[0m\u001b[0m\n\u001b[1;32m     72\u001b[0m \u001b[0;34m\u001b[0m\u001b[0m\n",
            "\u001b[0;32m/usr/local/lib/python3.10/dist-packages/keras/src/utils/traceback_utils.py\u001b[0m in \u001b[0;36merror_handler\u001b[0;34m(*args, **kwargs)\u001b[0m\n\u001b[1;32m     63\u001b[0m         \u001b[0mfiltered_tb\u001b[0m \u001b[0;34m=\u001b[0m \u001b[0;32mNone\u001b[0m\u001b[0;34m\u001b[0m\u001b[0;34m\u001b[0m\u001b[0m\n\u001b[1;32m     64\u001b[0m         \u001b[0;32mtry\u001b[0m\u001b[0;34m:\u001b[0m\u001b[0;34m\u001b[0m\u001b[0;34m\u001b[0m\u001b[0m\n\u001b[0;32m---> 65\u001b[0;31m             \u001b[0;32mreturn\u001b[0m \u001b[0mfn\u001b[0m\u001b[0;34m(\u001b[0m\u001b[0;34m*\u001b[0m\u001b[0margs\u001b[0m\u001b[0;34m,\u001b[0m \u001b[0;34m**\u001b[0m\u001b[0mkwargs\u001b[0m\u001b[0;34m)\u001b[0m\u001b[0;34m\u001b[0m\u001b[0;34m\u001b[0m\u001b[0m\n\u001b[0m\u001b[1;32m     66\u001b[0m         \u001b[0;32mexcept\u001b[0m \u001b[0mException\u001b[0m \u001b[0;32mas\u001b[0m \u001b[0me\u001b[0m\u001b[0;34m:\u001b[0m\u001b[0;34m\u001b[0m\u001b[0;34m\u001b[0m\u001b[0m\n\u001b[1;32m     67\u001b[0m             \u001b[0mfiltered_tb\u001b[0m \u001b[0;34m=\u001b[0m \u001b[0m_process_traceback_frames\u001b[0m\u001b[0;34m(\u001b[0m\u001b[0me\u001b[0m\u001b[0;34m.\u001b[0m\u001b[0m__traceback__\u001b[0m\u001b[0;34m)\u001b[0m\u001b[0;34m\u001b[0m\u001b[0;34m\u001b[0m\u001b[0m\n",
            "\u001b[0;32m/usr/local/lib/python3.10/dist-packages/keras/src/engine/training.py\u001b[0m in \u001b[0;36mfit\u001b[0;34m(self, x, y, batch_size, epochs, verbose, callbacks, validation_split, validation_data, shuffle, class_weight, sample_weight, initial_epoch, steps_per_epoch, validation_steps, validation_batch_size, validation_freq, max_queue_size, workers, use_multiprocessing)\u001b[0m\n\u001b[1;32m   1805\u001b[0m                         ):\n\u001b[1;32m   1806\u001b[0m                             \u001b[0mcallbacks\u001b[0m\u001b[0;34m.\u001b[0m\u001b[0mon_train_batch_begin\u001b[0m\u001b[0;34m(\u001b[0m\u001b[0mstep\u001b[0m\u001b[0;34m)\u001b[0m\u001b[0;34m\u001b[0m\u001b[0;34m\u001b[0m\u001b[0m\n\u001b[0;32m-> 1807\u001b[0;31m                             \u001b[0mtmp_logs\u001b[0m \u001b[0;34m=\u001b[0m \u001b[0mself\u001b[0m\u001b[0;34m.\u001b[0m\u001b[0mtrain_function\u001b[0m\u001b[0;34m(\u001b[0m\u001b[0miterator\u001b[0m\u001b[0;34m)\u001b[0m\u001b[0;34m\u001b[0m\u001b[0;34m\u001b[0m\u001b[0m\n\u001b[0m\u001b[1;32m   1808\u001b[0m                             \u001b[0;32mif\u001b[0m \u001b[0mdata_handler\u001b[0m\u001b[0;34m.\u001b[0m\u001b[0mshould_sync\u001b[0m\u001b[0;34m:\u001b[0m\u001b[0;34m\u001b[0m\u001b[0;34m\u001b[0m\u001b[0m\n\u001b[1;32m   1809\u001b[0m                                 \u001b[0mcontext\u001b[0m\u001b[0;34m.\u001b[0m\u001b[0masync_wait\u001b[0m\u001b[0;34m(\u001b[0m\u001b[0;34m)\u001b[0m\u001b[0;34m\u001b[0m\u001b[0;34m\u001b[0m\u001b[0m\n",
            "\u001b[0;32m/usr/local/lib/python3.10/dist-packages/tensorflow/python/util/traceback_utils.py\u001b[0m in \u001b[0;36merror_handler\u001b[0;34m(*args, **kwargs)\u001b[0m\n\u001b[1;32m    148\u001b[0m     \u001b[0mfiltered_tb\u001b[0m \u001b[0;34m=\u001b[0m \u001b[0;32mNone\u001b[0m\u001b[0;34m\u001b[0m\u001b[0;34m\u001b[0m\u001b[0m\n\u001b[1;32m    149\u001b[0m     \u001b[0;32mtry\u001b[0m\u001b[0;34m:\u001b[0m\u001b[0;34m\u001b[0m\u001b[0;34m\u001b[0m\u001b[0m\n\u001b[0;32m--> 150\u001b[0;31m       \u001b[0;32mreturn\u001b[0m \u001b[0mfn\u001b[0m\u001b[0;34m(\u001b[0m\u001b[0;34m*\u001b[0m\u001b[0margs\u001b[0m\u001b[0;34m,\u001b[0m \u001b[0;34m**\u001b[0m\u001b[0mkwargs\u001b[0m\u001b[0;34m)\u001b[0m\u001b[0;34m\u001b[0m\u001b[0;34m\u001b[0m\u001b[0m\n\u001b[0m\u001b[1;32m    151\u001b[0m     \u001b[0;32mexcept\u001b[0m \u001b[0mException\u001b[0m \u001b[0;32mas\u001b[0m \u001b[0me\u001b[0m\u001b[0;34m:\u001b[0m\u001b[0;34m\u001b[0m\u001b[0;34m\u001b[0m\u001b[0m\n\u001b[1;32m    152\u001b[0m       \u001b[0mfiltered_tb\u001b[0m \u001b[0;34m=\u001b[0m \u001b[0m_process_traceback_frames\u001b[0m\u001b[0;34m(\u001b[0m\u001b[0me\u001b[0m\u001b[0;34m.\u001b[0m\u001b[0m__traceback__\u001b[0m\u001b[0;34m)\u001b[0m\u001b[0;34m\u001b[0m\u001b[0;34m\u001b[0m\u001b[0m\n",
            "\u001b[0;32m/usr/local/lib/python3.10/dist-packages/tensorflow/python/eager/polymorphic_function/polymorphic_function.py\u001b[0m in \u001b[0;36m__call__\u001b[0;34m(self, *args, **kwds)\u001b[0m\n\u001b[1;32m    830\u001b[0m \u001b[0;34m\u001b[0m\u001b[0m\n\u001b[1;32m    831\u001b[0m       \u001b[0;32mwith\u001b[0m \u001b[0mOptionalXlaContext\u001b[0m\u001b[0;34m(\u001b[0m\u001b[0mself\u001b[0m\u001b[0;34m.\u001b[0m\u001b[0m_jit_compile\u001b[0m\u001b[0;34m)\u001b[0m\u001b[0;34m:\u001b[0m\u001b[0;34m\u001b[0m\u001b[0;34m\u001b[0m\u001b[0m\n\u001b[0;32m--> 832\u001b[0;31m         \u001b[0mresult\u001b[0m \u001b[0;34m=\u001b[0m \u001b[0mself\u001b[0m\u001b[0;34m.\u001b[0m\u001b[0m_call\u001b[0m\u001b[0;34m(\u001b[0m\u001b[0;34m*\u001b[0m\u001b[0margs\u001b[0m\u001b[0;34m,\u001b[0m \u001b[0;34m**\u001b[0m\u001b[0mkwds\u001b[0m\u001b[0;34m)\u001b[0m\u001b[0;34m\u001b[0m\u001b[0;34m\u001b[0m\u001b[0m\n\u001b[0m\u001b[1;32m    833\u001b[0m \u001b[0;34m\u001b[0m\u001b[0m\n\u001b[1;32m    834\u001b[0m       \u001b[0mnew_tracing_count\u001b[0m \u001b[0;34m=\u001b[0m \u001b[0mself\u001b[0m\u001b[0;34m.\u001b[0m\u001b[0mexperimental_get_tracing_count\u001b[0m\u001b[0;34m(\u001b[0m\u001b[0;34m)\u001b[0m\u001b[0;34m\u001b[0m\u001b[0;34m\u001b[0m\u001b[0m\n",
            "\u001b[0;32m/usr/local/lib/python3.10/dist-packages/tensorflow/python/eager/polymorphic_function/polymorphic_function.py\u001b[0m in \u001b[0;36m_call\u001b[0;34m(self, *args, **kwds)\u001b[0m\n\u001b[1;32m    866\u001b[0m       \u001b[0;31m# In this case we have created variables on the first call, so we run the\u001b[0m\u001b[0;34m\u001b[0m\u001b[0;34m\u001b[0m\u001b[0m\n\u001b[1;32m    867\u001b[0m       \u001b[0;31m# defunned version which is guaranteed to never create variables.\u001b[0m\u001b[0;34m\u001b[0m\u001b[0;34m\u001b[0m\u001b[0m\n\u001b[0;32m--> 868\u001b[0;31m       return tracing_compilation.call_function(\n\u001b[0m\u001b[1;32m    869\u001b[0m           \u001b[0margs\u001b[0m\u001b[0;34m,\u001b[0m \u001b[0mkwds\u001b[0m\u001b[0;34m,\u001b[0m \u001b[0mself\u001b[0m\u001b[0;34m.\u001b[0m\u001b[0m_no_variable_creation_config\u001b[0m\u001b[0;34m\u001b[0m\u001b[0;34m\u001b[0m\u001b[0m\n\u001b[1;32m    870\u001b[0m       )\n",
            "\u001b[0;32m/usr/local/lib/python3.10/dist-packages/tensorflow/python/eager/polymorphic_function/tracing_compilation.py\u001b[0m in \u001b[0;36mcall_function\u001b[0;34m(args, kwargs, tracing_options)\u001b[0m\n\u001b[1;32m    137\u001b[0m   \u001b[0mbound_args\u001b[0m \u001b[0;34m=\u001b[0m \u001b[0mfunction\u001b[0m\u001b[0;34m.\u001b[0m\u001b[0mfunction_type\u001b[0m\u001b[0;34m.\u001b[0m\u001b[0mbind\u001b[0m\u001b[0;34m(\u001b[0m\u001b[0;34m*\u001b[0m\u001b[0margs\u001b[0m\u001b[0;34m,\u001b[0m \u001b[0;34m**\u001b[0m\u001b[0mkwargs\u001b[0m\u001b[0;34m)\u001b[0m\u001b[0;34m\u001b[0m\u001b[0;34m\u001b[0m\u001b[0m\n\u001b[1;32m    138\u001b[0m   \u001b[0mflat_inputs\u001b[0m \u001b[0;34m=\u001b[0m \u001b[0mfunction\u001b[0m\u001b[0;34m.\u001b[0m\u001b[0mfunction_type\u001b[0m\u001b[0;34m.\u001b[0m\u001b[0munpack_inputs\u001b[0m\u001b[0;34m(\u001b[0m\u001b[0mbound_args\u001b[0m\u001b[0;34m)\u001b[0m\u001b[0;34m\u001b[0m\u001b[0;34m\u001b[0m\u001b[0m\n\u001b[0;32m--> 139\u001b[0;31m   return function._call_flat(  # pylint: disable=protected-access\n\u001b[0m\u001b[1;32m    140\u001b[0m       \u001b[0mflat_inputs\u001b[0m\u001b[0;34m,\u001b[0m \u001b[0mcaptured_inputs\u001b[0m\u001b[0;34m=\u001b[0m\u001b[0mfunction\u001b[0m\u001b[0;34m.\u001b[0m\u001b[0mcaptured_inputs\u001b[0m\u001b[0;34m\u001b[0m\u001b[0;34m\u001b[0m\u001b[0m\n\u001b[1;32m    141\u001b[0m   )\n",
            "\u001b[0;32m/usr/local/lib/python3.10/dist-packages/tensorflow/python/eager/polymorphic_function/concrete_function.py\u001b[0m in \u001b[0;36m_call_flat\u001b[0;34m(self, tensor_inputs, captured_inputs)\u001b[0m\n\u001b[1;32m   1321\u001b[0m         and executing_eagerly):\n\u001b[1;32m   1322\u001b[0m       \u001b[0;31m# No tape is watching; skip to running the function.\u001b[0m\u001b[0;34m\u001b[0m\u001b[0;34m\u001b[0m\u001b[0m\n\u001b[0;32m-> 1323\u001b[0;31m       \u001b[0;32mreturn\u001b[0m \u001b[0mself\u001b[0m\u001b[0;34m.\u001b[0m\u001b[0m_inference_function\u001b[0m\u001b[0;34m.\u001b[0m\u001b[0mcall_preflattened\u001b[0m\u001b[0;34m(\u001b[0m\u001b[0margs\u001b[0m\u001b[0;34m)\u001b[0m\u001b[0;34m\u001b[0m\u001b[0;34m\u001b[0m\u001b[0m\n\u001b[0m\u001b[1;32m   1324\u001b[0m     forward_backward = self._select_forward_and_backward_functions(\n\u001b[1;32m   1325\u001b[0m         \u001b[0margs\u001b[0m\u001b[0;34m,\u001b[0m\u001b[0;34m\u001b[0m\u001b[0;34m\u001b[0m\u001b[0m\n",
            "\u001b[0;32m/usr/local/lib/python3.10/dist-packages/tensorflow/python/eager/polymorphic_function/atomic_function.py\u001b[0m in \u001b[0;36mcall_preflattened\u001b[0;34m(self, args)\u001b[0m\n\u001b[1;32m    214\u001b[0m   \u001b[0;32mdef\u001b[0m \u001b[0mcall_preflattened\u001b[0m\u001b[0;34m(\u001b[0m\u001b[0mself\u001b[0m\u001b[0;34m,\u001b[0m \u001b[0margs\u001b[0m\u001b[0;34m:\u001b[0m \u001b[0mSequence\u001b[0m\u001b[0;34m[\u001b[0m\u001b[0mcore\u001b[0m\u001b[0;34m.\u001b[0m\u001b[0mTensor\u001b[0m\u001b[0;34m]\u001b[0m\u001b[0;34m)\u001b[0m \u001b[0;34m->\u001b[0m \u001b[0mAny\u001b[0m\u001b[0;34m:\u001b[0m\u001b[0;34m\u001b[0m\u001b[0;34m\u001b[0m\u001b[0m\n\u001b[1;32m    215\u001b[0m     \u001b[0;34m\"\"\"Calls with flattened tensor inputs and returns the structured output.\"\"\"\u001b[0m\u001b[0;34m\u001b[0m\u001b[0;34m\u001b[0m\u001b[0m\n\u001b[0;32m--> 216\u001b[0;31m     \u001b[0mflat_outputs\u001b[0m \u001b[0;34m=\u001b[0m \u001b[0mself\u001b[0m\u001b[0;34m.\u001b[0m\u001b[0mcall_flat\u001b[0m\u001b[0;34m(\u001b[0m\u001b[0;34m*\u001b[0m\u001b[0margs\u001b[0m\u001b[0;34m)\u001b[0m\u001b[0;34m\u001b[0m\u001b[0;34m\u001b[0m\u001b[0m\n\u001b[0m\u001b[1;32m    217\u001b[0m     \u001b[0;32mreturn\u001b[0m \u001b[0mself\u001b[0m\u001b[0;34m.\u001b[0m\u001b[0mfunction_type\u001b[0m\u001b[0;34m.\u001b[0m\u001b[0mpack_output\u001b[0m\u001b[0;34m(\u001b[0m\u001b[0mflat_outputs\u001b[0m\u001b[0;34m)\u001b[0m\u001b[0;34m\u001b[0m\u001b[0;34m\u001b[0m\u001b[0m\n\u001b[1;32m    218\u001b[0m \u001b[0;34m\u001b[0m\u001b[0m\n",
            "\u001b[0;32m/usr/local/lib/python3.10/dist-packages/tensorflow/python/eager/polymorphic_function/atomic_function.py\u001b[0m in \u001b[0;36mcall_flat\u001b[0;34m(self, *args)\u001b[0m\n\u001b[1;32m    249\u001b[0m         \u001b[0;32mwith\u001b[0m \u001b[0mrecord\u001b[0m\u001b[0;34m.\u001b[0m\u001b[0mstop_recording\u001b[0m\u001b[0;34m(\u001b[0m\u001b[0;34m)\u001b[0m\u001b[0;34m:\u001b[0m\u001b[0;34m\u001b[0m\u001b[0;34m\u001b[0m\u001b[0m\n\u001b[1;32m    250\u001b[0m           \u001b[0;32mif\u001b[0m \u001b[0mself\u001b[0m\u001b[0;34m.\u001b[0m\u001b[0m_bound_context\u001b[0m\u001b[0;34m.\u001b[0m\u001b[0mexecuting_eagerly\u001b[0m\u001b[0;34m(\u001b[0m\u001b[0;34m)\u001b[0m\u001b[0;34m:\u001b[0m\u001b[0;34m\u001b[0m\u001b[0;34m\u001b[0m\u001b[0m\n\u001b[0;32m--> 251\u001b[0;31m             outputs = self._bound_context.call_function(\n\u001b[0m\u001b[1;32m    252\u001b[0m                 \u001b[0mself\u001b[0m\u001b[0;34m.\u001b[0m\u001b[0mname\u001b[0m\u001b[0;34m,\u001b[0m\u001b[0;34m\u001b[0m\u001b[0;34m\u001b[0m\u001b[0m\n\u001b[1;32m    253\u001b[0m                 \u001b[0mlist\u001b[0m\u001b[0;34m(\u001b[0m\u001b[0margs\u001b[0m\u001b[0;34m)\u001b[0m\u001b[0;34m,\u001b[0m\u001b[0;34m\u001b[0m\u001b[0;34m\u001b[0m\u001b[0m\n",
            "\u001b[0;32m/usr/local/lib/python3.10/dist-packages/tensorflow/python/eager/context.py\u001b[0m in \u001b[0;36mcall_function\u001b[0;34m(self, name, tensor_inputs, num_outputs)\u001b[0m\n\u001b[1;32m   1484\u001b[0m     \u001b[0mcancellation_context\u001b[0m \u001b[0;34m=\u001b[0m \u001b[0mcancellation\u001b[0m\u001b[0;34m.\u001b[0m\u001b[0mcontext\u001b[0m\u001b[0;34m(\u001b[0m\u001b[0;34m)\u001b[0m\u001b[0;34m\u001b[0m\u001b[0;34m\u001b[0m\u001b[0m\n\u001b[1;32m   1485\u001b[0m     \u001b[0;32mif\u001b[0m \u001b[0mcancellation_context\u001b[0m \u001b[0;32mis\u001b[0m \u001b[0;32mNone\u001b[0m\u001b[0;34m:\u001b[0m\u001b[0;34m\u001b[0m\u001b[0;34m\u001b[0m\u001b[0m\n\u001b[0;32m-> 1486\u001b[0;31m       outputs = execute.execute(\n\u001b[0m\u001b[1;32m   1487\u001b[0m           \u001b[0mname\u001b[0m\u001b[0;34m.\u001b[0m\u001b[0mdecode\u001b[0m\u001b[0;34m(\u001b[0m\u001b[0;34m\"utf-8\"\u001b[0m\u001b[0;34m)\u001b[0m\u001b[0;34m,\u001b[0m\u001b[0;34m\u001b[0m\u001b[0;34m\u001b[0m\u001b[0m\n\u001b[1;32m   1488\u001b[0m           \u001b[0mnum_outputs\u001b[0m\u001b[0;34m=\u001b[0m\u001b[0mnum_outputs\u001b[0m\u001b[0;34m,\u001b[0m\u001b[0;34m\u001b[0m\u001b[0;34m\u001b[0m\u001b[0m\n",
            "\u001b[0;32m/usr/local/lib/python3.10/dist-packages/tensorflow/python/eager/execute.py\u001b[0m in \u001b[0;36mquick_execute\u001b[0;34m(op_name, num_outputs, inputs, attrs, ctx, name)\u001b[0m\n\u001b[1;32m     51\u001b[0m   \u001b[0;32mtry\u001b[0m\u001b[0;34m:\u001b[0m\u001b[0;34m\u001b[0m\u001b[0;34m\u001b[0m\u001b[0m\n\u001b[1;32m     52\u001b[0m     \u001b[0mctx\u001b[0m\u001b[0;34m.\u001b[0m\u001b[0mensure_initialized\u001b[0m\u001b[0;34m(\u001b[0m\u001b[0;34m)\u001b[0m\u001b[0;34m\u001b[0m\u001b[0;34m\u001b[0m\u001b[0m\n\u001b[0;32m---> 53\u001b[0;31m     tensors = pywrap_tfe.TFE_Py_Execute(ctx._handle, device_name, op_name,\n\u001b[0m\u001b[1;32m     54\u001b[0m                                         inputs, attrs, num_outputs)\n\u001b[1;32m     55\u001b[0m   \u001b[0;32mexcept\u001b[0m \u001b[0mcore\u001b[0m\u001b[0;34m.\u001b[0m\u001b[0m_NotOkStatusException\u001b[0m \u001b[0;32mas\u001b[0m \u001b[0me\u001b[0m\u001b[0;34m:\u001b[0m\u001b[0;34m\u001b[0m\u001b[0;34m\u001b[0m\u001b[0m\n",
            "\u001b[0;31mKeyboardInterrupt\u001b[0m: "
          ]
        }
      ],
      "source": [
        "import numpy as np\n",
        "from sklearn.model_selection import train_test_split\n",
        "from sklearn.preprocessing import OneHotEncoder\n",
        "from tensorflow.keras.models import Sequential\n",
        "from tensorflow.keras.layers import Conv2D, MaxPooling2D, Flatten, Dense, Dropout\n",
        "from tensorflow.keras.optimizers import Adam\n",
        "\n",
        "# Define file paths\n",
        "training_file_path = '/content/drive/MyDrive/FinalFilterOuput/PSD_combined_PSD-tfr.npz'\n",
        "testing_file_path = '/content/drive/MyDrive/FinalFilterOuput/Testing_PSD_combined_PSD-tfr.npz'\n",
        "\n",
        "# Load the training data\n",
        "training_data = np.load(training_file_path)\n",
        "psds_train = training_data['psds']\n",
        "freqs_train = training_data['freqs']\n",
        "labels_train = training_data['labels']\n",
        "\n",
        "# Load the testing data\n",
        "testing_data = np.load(testing_file_path)\n",
        "psds_test = testing_data['psds']\n",
        "freqs_test = testing_data['freqs']\n",
        "labels_test = testing_data['labels']\n",
        "\n",
        "# Print data shapes\n",
        "print(\"Training PSDs shape:\", psds_train.shape)\n",
        "print(\"Training labels shape:\", labels_train.shape)\n",
        "print(\"Testing PSDs shape:\", psds_test.shape)\n",
        "print(\"Testing labels shape:\", labels_test.shape)\n",
        "\n",
        "# Reshape PSD data for CNN input\n",
        "psds_train = psds_train[..., np.newaxis]\n",
        "psds_test = psds_test[..., np.newaxis]\n",
        "\n",
        "# One-hot encode labels (assuming labels are in the second column of the labels array)\n",
        "encoder = OneHotEncoder(sparse=False)\n",
        "labels_train_one_hot = encoder.fit_transform(labels_train[:, 1].reshape(-1, 1))\n",
        "labels_test_one_hot = encoder.transform(labels_test[:, 1].reshape(-1, 1))\n",
        "\n",
        "# Print reshaped data shapes\n",
        "print(\"Reshaped training PSDs shape:\", psds_train.shape)\n",
        "print(\"Reshaped testing PSDs shape:\", psds_test.shape)\n",
        "print(\"One-hot encoded training labels shape:\", labels_train_one_hot.shape)\n",
        "print(\"One-hot encoded testing labels shape:\", labels_test_one_hot.shape)\n",
        "\n",
        "# Split the training data into training and validation sets\n",
        "X_train, X_val, y_train, y_val = train_test_split(psds_train, labels_train_one_hot, test_size=0.2, random_state=42)\n",
        "\n",
        "# Print shapes\n",
        "print(\"Training data shape:\", X_train.shape)\n",
        "print(\"Validation data shape:\", X_val.shape)\n",
        "print(\"Training labels shape:\", y_train.shape)\n",
        "print(\"Validation labels shape:\", y_val.shape)\n",
        "\n",
        "# Define the CNN model\n",
        "model = Sequential([\n",
        "    Conv2D(32, (3, 3), activation='relu', input_shape=(128, 249, 1)),\n",
        "    MaxPooling2D((2, 2)),\n",
        "    Conv2D(64, (3, 3), activation='relu'),\n",
        "    MaxPooling2D((2, 2)),\n",
        "    Flatten(),\n",
        "    Dense(128, activation='relu'),\n",
        "    Dropout(0.5),\n",
        "    Dense(labels_train_one_hot.shape[1], activation='softmax')\n",
        "])\n",
        "\n",
        "# Compile the model\n",
        "model.compile(optimizer=Adam(), loss='categorical_crossentropy', metrics=['accuracy'])\n",
        "\n",
        "# Train the model\n",
        "history = model.fit(X_train, y_train, epochs=50, batch_size=32, validation_data=(X_val, y_val))\n",
        "\n",
        "\n",
        "\n",
        "# Print model summary\n",
        "model.summary()\n",
        "\n",
        "\n",
        "loss, accuracy = model.evaluate(X_test, y_test)\n",
        "print(f'Test Accuracy: {accuracy * 100:.2f}%')\n",
        "\n",
        "# Evaluate the model on the test data\n",
        "test_loss, test_accuracy = model.evaluate(psds_test, labels_test_one_hot)\n",
        "print(f\"Input Accuracy: {test_accuracy * 100:.2f}%\")\n"
      ]
    },
    {
      "cell_type": "markdown",
      "metadata": {
        "id": "oCpV3BuainUF"
      },
      "source": [
        "# **--------------------------- FOR CSP \\------------------------------------**\n",
        "\n"
      ]
    },
    {
      "cell_type": "markdown",
      "metadata": {
        "id": "ISrGxfbMqMQ9"
      },
      "source": [
        "### Extract CSP Function"
      ]
    },
    {
      "cell_type": "code",
      "execution_count": null,
      "metadata": {
        "id": "wxCG9pg4o5BS"
      },
      "outputs": [],
      "source": [
        "def extract_features_using_csp(root_dir, N_S, t_start, t_end, fs):\n",
        "    try:\n",
        "        # Load all trials for a single subject\n",
        "        X, Y = extract_data_from_subject(root_dir, N_S, datatype)\n",
        "\n",
        "        # Cut useful time. i.e action interval\n",
        "        X = select_time_window(X=X, t_start=t_start, t_end=t_end, fs=fs)\n",
        "\n",
        "        # Filter By condition i.e Inner\n",
        "        X, Y = filter_by_condition(X, Y, condition='Inner')\n",
        "\n",
        "        # Filter By class i.e ALL classes\n",
        "        X, Y = filter_by_class(X, Y, 'ALL')\n",
        "\n",
        "        # Define CSP parameters\n",
        "        n_components = 50  # Number of CSP components\n",
        "        reg_param = 0.01\n",
        "\n",
        "        # Initialize CSP with regularization\n",
        "        csp = CSP(n_components=n_components, reg=reg_param, log=True, norm_trace=False)\n",
        "\n",
        "        # Fit CSP on training data and transform data\n",
        "        X_csp = csp.fit_transform(X, Y[:, 1])  # Assuming class labels are in the second column of Y\n",
        "\n",
        "        return X_csp, Y\n",
        "    except Exception as e:\n",
        "        print(f\"Error processing subject {N_S}: {e}\")\n",
        "        return None, None\n"
      ]
    },
    {
      "cell_type": "markdown",
      "metadata": {
        "id": "q3v63A2NqHwQ"
      },
      "source": [
        "## Single File"
      ]
    },
    {
      "cell_type": "markdown",
      "metadata": {
        "id": "r-BULIGQxXDu"
      },
      "source": [
        "phly data extract hoga then CSP lagy ga"
      ]
    },
    {
      "cell_type": "code",
      "execution_count": null,
      "metadata": {
        "id": "4-7Jb4ZmxRJN"
      },
      "outputs": [],
      "source": [
        "from mne.decoding import CSP\n",
        "\n",
        "def extract_features_using_csp_single(file_path):\n",
        "    try:\n",
        "        # Load epoch data\n",
        "        epochs = mne.read_epochs(file_path)\n",
        "\n",
        "        # Define the range of parameters to try\n",
        "        n_components_values = [10, 20, 30,40,50]  # Adjust as needed\n",
        "        reg_param_values = [0.01, 0.1, 0.5]  # Adjust as needed\n",
        "\n",
        "        for n_components in n_components_values:\n",
        "            for reg_param in reg_param_values:\n",
        "                print(\"Trying n_components =\", n_components, \"and reg_param =\", reg_param)\n",
        "\n",
        "                # Initialize CSP with regularization\n",
        "                csp = CSP(n_components=n_components, reg=reg_param, log=True, norm_trace=False)\n",
        "\n",
        "                X = epochs.get_data()\n",
        "                y = epochs.events[:, -1]  # Event labels\n",
        "\n",
        "                try:\n",
        "                    # Fit CSP on training data and transform data\n",
        "                    X_csp = csp.fit_transform(X, y)\n",
        "                    print(\"SVD computation successful for n_components =\", n_components, \"and reg_param =\", reg_param)\n",
        "                    return X_csp, y\n",
        "                except Exception as e:\n",
        "                    print(\"Error during SVD computation:\", e)\n",
        "\n",
        "        print(\"Unable to find suitable n_components and reg_param values.\")\n",
        "        return None, None\n",
        "\n",
        "    except Exception as e:\n",
        "        print(\"Error:\", e)\n",
        "        return None, None\n",
        "\n",
        "file_name = '/content/drive/MyDrive/FYPD_Dataset/derivatives/sub-01/ses-01/sub-01_ses-01_baseline-epo.fif'\n",
        "extract_features_using_csp_single(file_name)\n"
      ]
    },
    {
      "cell_type": "markdown",
      "metadata": {
        "id": "SVyY2qAvqJuJ"
      },
      "source": [
        "## For Multiple Files"
      ]
    },
    {
      "cell_type": "markdown",
      "metadata": {
        "id": "2ehtoCsDyhD2"
      },
      "source": [
        "### Variables\n"
      ]
    },
    {
      "cell_type": "code",
      "execution_count": null,
      "metadata": {
        "id": "iK-qVOACzuTv"
      },
      "outputs": [],
      "source": [
        "### ---- Processing Variables ---- ###\n",
        "\n",
        "# Save options\n",
        "save_bool = True\n",
        "overwrite = True\n",
        "\n",
        "# Subjects list\n",
        "N_S_list = [1, 2,3, 4, 5, 6,7,8,9, 10]\n",
        "\n",
        "# Data filtering\n",
        "datatype = \"eeg\"\n",
        "Cond = \"Inner\"\n",
        "Classes = \"ALL\"\n",
        "\n",
        "# Time window\n",
        "t_start = 0.5\n",
        "t_end = 3\n",
        "fs = 256  # Sampling rate"
      ]
    },
    {
      "cell_type": "markdown",
      "metadata": {
        "id": "g1vJZew5ysDN"
      },
      "source": [
        "### Loop\n"
      ]
    },
    {
      "cell_type": "code",
      "execution_count": null,
      "metadata": {
        "id": "PS5nINHryuhv"
      },
      "outputs": [],
      "source": [
        "# Initialize lists to hold all features and labels\n",
        "all_features = []\n",
        "all_labels = []\n",
        "\n",
        "for N_S in N_S_list:\n",
        "    print(f\"Processing Subject: {N_S}\")\n",
        "\n",
        "    # Extract and process features for each subject\n",
        "    features, labels = extract_features_using_csp(root_dir, N_S, t_start, t_end, fs)\n",
        "\n",
        "    if features is not None and labels is not None:\n",
        "        # Append the data to the lists\n",
        "        all_features.append(features)\n",
        "        all_labels.append(labels)\n",
        "\n",
        "# Stack all the features and labels\n",
        "X_data = np.vstack(all_features)\n",
        "Y_data = np.vstack(all_labels)\n",
        "\n",
        "print(\"Combined Features shape:\", X_data.shape)\n",
        "print(\"Combined Labels shape:\", Y_data.shape)\n",
        "print(\"First few combined features:\\n\", X_data[:5])\n",
        "print(\"First few combined labels:\\n\", Y_data[:5])"
      ]
    },
    {
      "cell_type": "markdown",
      "metadata": {
        "id": "syQrx16qz8ro"
      },
      "source": [
        "### Save the Combined Data"
      ]
    },
    {
      "cell_type": "code",
      "execution_count": null,
      "metadata": {
        "id": "uBcjde1C0EjZ"
      },
      "outputs": [],
      "source": [
        "if save_bool:\n",
        "    save_dir = \"/content/drive/MyDrive/FinalFilterOuput\"\n",
        "    file_name = save_dir + \"/Combined_CSP_Features.npz\"\n",
        "    print(f\"Saving combined features and labels to: {file_name}\")\n",
        "    np.savez(file_name, features=X_data, labels=Y_data)\n",
        "    print(\"Saving completed.\")"
      ]
    },
    {
      "cell_type": "markdown",
      "metadata": {
        "id": "W4ebMc9_1nwq"
      },
      "source": [
        "## Full Code with 1 No. of component for training"
      ]
    },
    {
      "cell_type": "code",
      "execution_count": null,
      "metadata": {
        "colab": {
          "base_uri": "https://localhost:8080/"
        },
        "id": "gBSPWqyv1rAs",
        "outputId": "9d2f16be-eb39-4c72-963a-57197903b405"
      },
      "outputs": [
        {
          "name": "stdout",
          "output_type": "stream",
          "text": [
            "Processing Subject: 1\n",
            "Processing Subject: 3\n",
            "Processing Subject: 4\n",
            "Processing Subject: 5\n",
            "Processing Subject: 6\n",
            "Processing Subject: 10\n",
            "Combined Features shape: (1316, 50)\n",
            "Combined Labels shape: (1316, 4)\n",
            "First few combined features:\n",
            " [[-1.90870635 -0.29377429 -0.40836448 -0.2267316  -0.50043731 -0.5598425\n",
            "   0.41453452 -0.39024417  0.15503845 -0.20725864 -1.0588034  -0.23269074\n",
            "  -0.26497426 -0.24362033  0.20328119 -0.02223271 -0.51412494 -0.37015694\n",
            "  -0.8484754  -0.70703542 -0.4488009  -0.63509127 -0.31750319 -1.02792297\n",
            "   0.57429792 -0.2680613  -0.77331946 -1.36603082 -0.438682   -0.2472031\n",
            "  -0.67746059 -0.47736317 -1.19845151  0.08909977 -0.56152937 -0.41158024\n",
            "  -0.48903389 -0.75985811 -0.63188143 -0.81713089 -0.15550262 -0.41457061\n",
            "  -0.15903062 -0.81265968 -0.39583751 -1.04010894 -0.81081377 -0.86416276\n",
            "  -0.67967745 -0.87754483]]\n",
            "First few combined labels:\n",
            " [[351788      1      1      1]]\n"
          ]
        }
      ],
      "source": [
        "import numpy as np\n",
        "import mne\n",
        "from mne.decoding import CSP\n",
        "\n",
        "### ---- Processing Variables ---- ###\n",
        "\n",
        "# Save options\n",
        "save_bool = True\n",
        "overwrite = True\n",
        "\n",
        "# Subjects list for training\n",
        "N_S_list = [1,2,3,7]\n",
        "\n",
        "# Data filtering\n",
        "datatype = \"eeg\"\n",
        "Cond = \"Inner\"\n",
        "Classes = \"ALL\"\n",
        "\n",
        "# Time window\n",
        "t_start = 0.5\n",
        "t_end = 3\n",
        "fs = 256  # Sampling rate\n",
        "\n",
        "\n",
        "# Define CSP parameters\n",
        "n_components = 50  # Number of CSP components\n",
        "reg_param = 0.01\n",
        "\n",
        "\n",
        "### Define Functions ###\n",
        "\n",
        "def extract_features_using_csp(root_dir, N_S, t_start, t_end, fs):\n",
        "    try:\n",
        "        # Load all trials for a single subject\n",
        "        X, Y = extract_data_from_subject(root_dir, N_S, datatype)\n",
        "\n",
        "        # Cut useful time. i.e action interval\n",
        "        X = select_time_window(X=X, t_start=t_start, t_end=t_end, fs=fs)\n",
        "\n",
        "        # Filter By condition i.e Inner\n",
        "        X, Y = filter_by_condition(X, Y, condition='Inner')\n",
        "\n",
        "        # Filter By class i.e ALL classes\n",
        "        X, Y = filter_by_class(X, Y, 'ALL')\n",
        "\n",
        "        # Initialize CSP with regularization\n",
        "        csp = CSP(n_components=n_components, reg=reg_param, log=True, norm_trace=False)\n",
        "\n",
        "        # Fit CSP on training data and transform data\n",
        "        X_csp = csp.fit_transform(X, Y[:, 1])  # Assuming class labels are in the second column of Y\n",
        "\n",
        "        return X_csp, Y\n",
        "    except Exception as e:\n",
        "        print(f\"Error processing subject {N_S}: {e}\")\n",
        "        return None, None\n",
        "\n",
        "### ---- Main Processing Loop ---- ###\n",
        "\n",
        "# Initialize lists to hold all features and labels\n",
        "all_features = []\n",
        "all_labels = []\n",
        "\n",
        "for N_S in N_S_list:\n",
        "    print(f\"Processing Subject: {N_S}\")\n",
        "\n",
        "    # Extract and process features for each subject\n",
        "    features, labels = extract_features_using_csp(root_dir, N_S, t_start, t_end, fs)\n",
        "\n",
        "    if features is not None and labels is not None:\n",
        "        # Append the data to the lists\n",
        "        all_features.append(features)\n",
        "        all_labels.append(labels)\n",
        "\n",
        "# Stack all the features and labels\n",
        "X_data = np.vstack(all_features)\n",
        "Y_data = np.vstack(all_labels)\n",
        "\n",
        "print(\"Combined Features shape:\", X_data.shape)\n",
        "print(\"Combined Labels shape:\", Y_data.shape)\n",
        "print(\"First few combined features:\\n\", X_data[:1])\n",
        "print(\"First few combined labels:\\n\", Y_data[:1])\n",
        "\n",
        "\n",
        "### ---- Save the Combined Data ---- ###\n",
        "\n",
        "if save_bool:\n",
        "    save_dir = \"/content/drive/MyDrive/FinalFilterOuput/subjects\"\n",
        "    file_name = save_dir + \"/CombinedFile_6Subjects_50_testing_CSP_Features.npz\"\n",
        "    print(f\"Saving combined features and labels to: {file_name}\")\n",
        "    np.savez(file_name, features=X_data, labels=Y_data)\n",
        "    print(\"Saving completed.\")\n"
      ]
    },
    {
      "cell_type": "code",
      "execution_count": null,
      "metadata": {
        "colab": {
          "base_uri": "https://localhost:8080/"
        },
        "id": "HsTjsZSt46y2",
        "outputId": "60f6bf67-75d0-43f6-d8ac-2e9936ba5be8"
      },
      "outputs": [
        {
          "name": "stdout",
          "output_type": "stream",
          "text": [
            "Saving combined features and labels to: /content/drive/MyDrive/FinalFilterOuput/CombinedFile_6Subjects_50_testing_CSP_Features.npz\n",
            "Saving completed.\n"
          ]
        }
      ],
      "source": [
        "\n",
        "### ---- Save the Combined Data ---- ###\n",
        "\n",
        "if save_bool:\n",
        "    save_dir = \"/content/drive/MyDrive/FinalFilterOuput\"\n",
        "    file_name = save_dir + \"/CombinedFile_6Subjects_50_testing_CSP_Features.npz\"\n",
        "    print(f\"Saving combined features and labels to: {file_name}\")\n",
        "    np.savez(file_name, features=X_data, labels=Y_data)\n",
        "    print(\"Saving completed.\")"
      ]
    },
    {
      "cell_type": "markdown",
      "metadata": {
        "id": "TN0VodeeMOnA"
      },
      "source": [
        "## Full Code CSP Extraction for Subjects"
      ]
    },
    {
      "cell_type": "code",
      "execution_count": null,
      "metadata": {
        "colab": {
          "base_uri": "https://localhost:8080/"
        },
        "id": "nI0zHBA6MOnK",
        "outputId": "b6494150-6e8f-490d-c684-a617dcdfd28b"
      },
      "outputs": [
        {
          "name": "stdout",
          "output_type": "stream",
          "text": [
            "Processing Subject: 1\n",
            "Saving features and labels for subject 1 to: /content/drive/MyDrive/FinalFilterOuput/subjects/all_csp_50_subjects/Subject_1_50_CSP_Features.npz\n",
            "Saving completed for subject: 1\n",
            "Processing Subject: 2\n",
            "Saving features and labels for subject 2 to: /content/drive/MyDrive/FinalFilterOuput/subjects/all_csp_50_subjects/Subject_2_50_CSP_Features.npz\n",
            "Saving completed for subject: 2\n",
            "Processing Subject: 3\n",
            "Saving features and labels for subject 3 to: /content/drive/MyDrive/FinalFilterOuput/subjects/all_csp_50_subjects/Subject_3_50_CSP_Features.npz\n",
            "Saving completed for subject: 3\n",
            "Processing Subject: 4\n",
            "Saving features and labels for subject 4 to: /content/drive/MyDrive/FinalFilterOuput/subjects/all_csp_50_subjects/Subject_4_50_CSP_Features.npz\n",
            "Saving completed for subject: 4\n",
            "Processing Subject: 5\n",
            "Saving features and labels for subject 5 to: /content/drive/MyDrive/FinalFilterOuput/subjects/all_csp_50_subjects/Subject_5_50_CSP_Features.npz\n",
            "Saving completed for subject: 5\n",
            "Processing Subject: 6\n",
            "Saving features and labels for subject 6 to: /content/drive/MyDrive/FinalFilterOuput/subjects/all_csp_50_subjects/Subject_6_50_CSP_Features.npz\n",
            "Saving completed for subject: 6\n",
            "Processing Subject: 7\n",
            "Saving features and labels for subject 7 to: /content/drive/MyDrive/FinalFilterOuput/subjects/all_csp_50_subjects/Subject_7_50_CSP_Features.npz\n",
            "Saving completed for subject: 7\n",
            "Processing Subject: 8\n",
            "Saving features and labels for subject 8 to: /content/drive/MyDrive/FinalFilterOuput/subjects/all_csp_50_subjects/Subject_8_50_CSP_Features.npz\n",
            "Saving completed for subject: 8\n",
            "Processing Subject: 9\n",
            "Saving features and labels for subject 9 to: /content/drive/MyDrive/FinalFilterOuput/subjects/all_csp_50_subjects/Subject_9_50_CSP_Features.npz\n",
            "Saving completed for subject: 9\n",
            "Processing Subject: 10\n",
            "Saving features and labels for subject 10 to: /content/drive/MyDrive/FinalFilterOuput/subjects/all_csp_50_subjects/Subject_10_50_CSP_Features.npz\n",
            "Saving completed for subject: 10\n"
          ]
        }
      ],
      "source": [
        "import numpy as np\n",
        "import mne\n",
        "from mne.decoding import CSP\n",
        "\n",
        "### ---- Processing Variables ---- ###\n",
        "\n",
        "# Save options\n",
        "save_bool = True\n",
        "overwrite = True\n",
        "\n",
        "# Subjects list for training\n",
        "N_S_list = [1,2,3,4,5,6,7,8,9,10]\n",
        "\n",
        "# Data filtering\n",
        "datatype = \"eeg\"\n",
        "Cond = \"Inner\"\n",
        "Classes = \"ALL\"\n",
        "\n",
        "# Time window\n",
        "t_start = 0.5\n",
        "t_end = 3\n",
        "fs = 256  # Sampling rate\n",
        "\n",
        "# Define CSP parameters\n",
        "n_components = 50  # Number of CSP components\n",
        "reg_param = 0.01\n",
        "\n",
        "### Define Functions ###\n",
        "\n",
        "def extract_features_using_csp(root_dir, N_S, t_start, t_end, fs):\n",
        "    try:\n",
        "        # Load all trials for a single subject\n",
        "        X, Y = extract_data_from_subject(root_dir, N_S, datatype)\n",
        "\n",
        "        # Cut useful time. i.e action interval\n",
        "        X = select_time_window(X=X, t_start=t_start, t_end=t_end, fs=fs)\n",
        "\n",
        "        # Filter By condition i.e Inner\n",
        "        X, Y = filter_by_condition(X, Y, condition='Inner')\n",
        "\n",
        "        # Filter By class i.e ALL classes\n",
        "        X, Y = filter_by_class(X, Y, 'ALL')\n",
        "\n",
        "        # Initialize CSP with regularization\n",
        "        csp = CSP(n_components=n_components, reg=reg_param, log=True, norm_trace=False)\n",
        "\n",
        "        # Fit CSP on training data and transform data\n",
        "        X_csp = csp.fit_transform(X, Y[:, 1])  # Assuming class labels are in the second column of Y\n",
        "\n",
        "        return X_csp, Y\n",
        "    except Exception as e:\n",
        "        print(f\"Error processing subject {N_S}: {e}\")\n",
        "        return None, None\n",
        "\n",
        "### ---- Main Processing Loop ---- ###\n",
        "\n",
        "# Initialize lists to hold all features and labels\n",
        "all_features = []\n",
        "all_labels = []\n",
        "\n",
        "for N_S in N_S_list:\n",
        "    print(f\"Processing Subject: {N_S}\")\n",
        "\n",
        "    # Extract and process features for each subject\n",
        "    features, labels = extract_features_using_csp(root_dir, N_S, t_start, t_end, fs)\n",
        "\n",
        "    if features is not None and labels is not None:\n",
        "        # Save the data for the individual subject\n",
        "        save_dir = \"/content/drive/MyDrive/FinalFilterOuput/subjects/all_csp_50_subjects\"\n",
        "        file_name = save_dir + f\"/Subject_{N_S}_50_CSP_Features.npz\"\n",
        "        print(f\"Saving features and labels for subject {N_S} to: {file_name}\")\n",
        "        np.savez(file_name, features=features, labels=labels)\n",
        "        print(\"Saving completed for subject:\", N_S)\n"
      ]
    },
    {
      "cell_type": "code",
      "execution_count": null,
      "metadata": {
        "colab": {
          "base_uri": "https://localhost:8080/"
        },
        "id": "jYtlAV6TMOnL",
        "outputId": "60f6bf67-75d0-43f6-d8ac-2e9936ba5be8"
      },
      "outputs": [
        {
          "name": "stdout",
          "output_type": "stream",
          "text": [
            "Saving combined features and labels to: /content/drive/MyDrive/FinalFilterOuput/CombinedFile_6Subjects_50_testing_CSP_Features.npz\n",
            "Saving completed.\n"
          ]
        }
      ],
      "source": [
        "\n",
        "### ---- Save the Combined Data ---- ###\n",
        "\n",
        "if save_bool:\n",
        "    save_dir = \"/content/drive/MyDrive/FinalFilterOuput\"\n",
        "    file_name = save_dir + \"/CombinedFile_6Subjects_50_testing_CSP_Features.npz\"\n",
        "    print(f\"Saving combined features and labels to: {file_name}\")\n",
        "    np.savez(file_name, features=X_data, labels=Y_data)\n",
        "    print(\"Saving completed.\")"
      ]
    },
    {
      "cell_type": "markdown",
      "metadata": {
        "id": "4hlDvdNQyrwE"
      },
      "source": [
        "## Full Code with blocks"
      ]
    },
    {
      "cell_type": "code",
      "execution_count": null,
      "metadata": {
        "colab": {
          "base_uri": "https://localhost:8080/"
        },
        "id": "5resfjd_yrwO",
        "outputId": "aa01ce8c-d33c-44fa-dfab-3bf4bb280d16"
      },
      "outputs": [
        {
          "name": "stdout",
          "output_type": "stream",
          "text": [
            "Processing Subject: 1\n",
            "Extracted from block\n",
            "X shape: (200, 128, 1153)\n",
            "Y shape: (200, 4)\n",
            "startijg cut\n",
            "Cut useful time\n",
            "X shape: (200, 128, 640)\n",
            "Y shape: (200, 4)\n",
            "Filtered by condition\n",
            "X shape: (80, 128, 640)\n",
            "Y shape: (80, 4)\n",
            "Filtered by class\n",
            "X shape: (80, 128, 640)\n",
            "Y shape: (80, 4)\n",
            "Initialized CSP\n",
            "Combined Features shape: (80, 50)\n",
            "Combined Labels shape: (80, 4)\n",
            "First few combined features:\n",
            " [[-5.42692749e-01 -7.52381089e-01 -9.10612063e-01 -6.52884440e-01\n",
            "  -9.39154304e-01 -9.53509329e-01 -6.36207460e-01 -3.69657630e-01\n",
            "  -4.18298506e-01 -5.01737032e-01 -5.40887299e-01 -2.83785063e-01\n",
            "  -5.69273779e-01 -8.70913827e-01 -1.02417583e+00 -7.62334466e-01\n",
            "  -3.49904629e-01 -1.16002869e+00 -6.27291811e-01 -8.15261020e-01\n",
            "  -1.37893901e+00 -6.65562991e-01 -7.65423783e-01 -3.21321987e-02\n",
            "   1.58032142e-03 -9.13613087e-01 -2.91678251e-01 -3.93717748e-01\n",
            "  -5.03211218e-01  1.55279582e-01 -5.75695112e-02 -1.54053315e+01\n",
            "  -9.13320841e-01 -4.54077800e-01 -1.51879995e+00  2.07898379e-01\n",
            "  -9.89275773e-01 -1.78667058e+00  2.59326222e-01 -1.68545468e+00\n",
            "  -1.20293221e+00 -1.14412033e+00 -1.76930799e+00 -1.65720708e+00\n",
            "  -1.64134589e+00 -4.04259756e-02 -1.83964556e+00 -1.73396529e+00\n",
            "  -1.80249191e+00 -1.77603532e+00]]\n",
            "First few combined labels:\n",
            " [[351788      1      1      1]]\n",
            "/content/drive/MyDrive/FinalFilterOuput/blocks/testing_blocks/subject_1_block_1_testing_50_CSP_Features.npz\n",
            "Saving combined features and labels to: /content/drive/MyDrive/FinalFilterOuput/blocks/testing_blocks/subject_1_block_1_testing_50_CSP_Features.npz\n",
            "Saving completed.\n",
            "Extracted from block\n",
            "X shape: (200, 128, 1153)\n",
            "Y shape: (200, 4)\n",
            "startijg cut\n",
            "Cut useful time\n",
            "X shape: (200, 128, 640)\n",
            "Y shape: (200, 4)\n",
            "Filtered by condition\n",
            "X shape: (80, 128, 640)\n",
            "Y shape: (80, 4)\n",
            "Filtered by class\n",
            "X shape: (80, 128, 640)\n",
            "Y shape: (80, 4)\n",
            "Initialized CSP\n",
            "Combined Features shape: (160, 50)\n",
            "Combined Labels shape: (160, 4)\n",
            "First few combined features:\n",
            " [[-5.42692749e-01 -7.52381089e-01 -9.10612063e-01 -6.52884440e-01\n",
            "  -9.39154304e-01 -9.53509329e-01 -6.36207460e-01 -3.69657630e-01\n",
            "  -4.18298506e-01 -5.01737032e-01 -5.40887299e-01 -2.83785063e-01\n",
            "  -5.69273779e-01 -8.70913827e-01 -1.02417583e+00 -7.62334466e-01\n",
            "  -3.49904629e-01 -1.16002869e+00 -6.27291811e-01 -8.15261020e-01\n",
            "  -1.37893901e+00 -6.65562991e-01 -7.65423783e-01 -3.21321987e-02\n",
            "   1.58032142e-03 -9.13613087e-01 -2.91678251e-01 -3.93717748e-01\n",
            "  -5.03211218e-01  1.55279582e-01 -5.75695112e-02 -1.54053315e+01\n",
            "  -9.13320841e-01 -4.54077800e-01 -1.51879995e+00  2.07898379e-01\n",
            "  -9.89275773e-01 -1.78667058e+00  2.59326222e-01 -1.68545468e+00\n",
            "  -1.20293221e+00 -1.14412033e+00 -1.76930799e+00 -1.65720708e+00\n",
            "  -1.64134589e+00 -4.04259756e-02 -1.83964556e+00 -1.73396529e+00\n",
            "  -1.80249191e+00 -1.77603532e+00]]\n",
            "First few combined labels:\n",
            " [[351788      1      1      1]]\n",
            "/content/drive/MyDrive/FinalFilterOuput/blocks/testing_blocks/subject_1_block_2_testing_50_CSP_Features.npz\n",
            "Saving combined features and labels to: /content/drive/MyDrive/FinalFilterOuput/blocks/testing_blocks/subject_1_block_2_testing_50_CSP_Features.npz\n",
            "Saving completed.\n",
            "Extracted from block\n",
            "X shape: (100, 128, 1153)\n",
            "Y shape: (100, 4)\n",
            "startijg cut\n",
            "Cut useful time\n",
            "X shape: (100, 128, 640)\n",
            "Y shape: (100, 4)\n",
            "Filtered by condition\n",
            "X shape: (40, 128, 640)\n",
            "Y shape: (40, 4)\n",
            "Filtered by class\n",
            "X shape: (40, 128, 640)\n",
            "Y shape: (40, 4)\n",
            "Initialized CSP\n",
            "Combined Features shape: (200, 50)\n",
            "Combined Labels shape: (200, 4)\n",
            "First few combined features:\n",
            " [[-5.42692749e-01 -7.52381089e-01 -9.10612063e-01 -6.52884440e-01\n",
            "  -9.39154304e-01 -9.53509329e-01 -6.36207460e-01 -3.69657630e-01\n",
            "  -4.18298506e-01 -5.01737032e-01 -5.40887299e-01 -2.83785063e-01\n",
            "  -5.69273779e-01 -8.70913827e-01 -1.02417583e+00 -7.62334466e-01\n",
            "  -3.49904629e-01 -1.16002869e+00 -6.27291811e-01 -8.15261020e-01\n",
            "  -1.37893901e+00 -6.65562991e-01 -7.65423783e-01 -3.21321987e-02\n",
            "   1.58032142e-03 -9.13613087e-01 -2.91678251e-01 -3.93717748e-01\n",
            "  -5.03211218e-01  1.55279582e-01 -5.75695112e-02 -1.54053315e+01\n",
            "  -9.13320841e-01 -4.54077800e-01 -1.51879995e+00  2.07898379e-01\n",
            "  -9.89275773e-01 -1.78667058e+00  2.59326222e-01 -1.68545468e+00\n",
            "  -1.20293221e+00 -1.14412033e+00 -1.76930799e+00 -1.65720708e+00\n",
            "  -1.64134589e+00 -4.04259756e-02 -1.83964556e+00 -1.73396529e+00\n",
            "  -1.80249191e+00 -1.77603532e+00]]\n",
            "First few combined labels:\n",
            " [[351788      1      1      1]]\n",
            "/content/drive/MyDrive/FinalFilterOuput/blocks/testing_blocks/subject_1_block_3_testing_50_CSP_Features.npz\n",
            "Saving combined features and labels to: /content/drive/MyDrive/FinalFilterOuput/blocks/testing_blocks/subject_1_block_3_testing_50_CSP_Features.npz\n",
            "Saving completed.\n",
            "Processing Subject: 2\n",
            "Extracted from block\n",
            "X shape: (200, 128, 1153)\n",
            "Y shape: (200, 4)\n",
            "startijg cut\n",
            "Cut useful time\n",
            "X shape: (200, 128, 640)\n",
            "Y shape: (200, 4)\n",
            "Filtered by condition\n",
            "X shape: (80, 128, 640)\n",
            "Y shape: (80, 4)\n",
            "Filtered by class\n",
            "X shape: (80, 128, 640)\n",
            "Y shape: (80, 4)\n",
            "Initialized CSP\n",
            "Combined Features shape: (280, 50)\n",
            "Combined Labels shape: (280, 4)\n",
            "First few combined features:\n",
            " [[-5.42692749e-01 -7.52381089e-01 -9.10612063e-01 -6.52884440e-01\n",
            "  -9.39154304e-01 -9.53509329e-01 -6.36207460e-01 -3.69657630e-01\n",
            "  -4.18298506e-01 -5.01737032e-01 -5.40887299e-01 -2.83785063e-01\n",
            "  -5.69273779e-01 -8.70913827e-01 -1.02417583e+00 -7.62334466e-01\n",
            "  -3.49904629e-01 -1.16002869e+00 -6.27291811e-01 -8.15261020e-01\n",
            "  -1.37893901e+00 -6.65562991e-01 -7.65423783e-01 -3.21321987e-02\n",
            "   1.58032142e-03 -9.13613087e-01 -2.91678251e-01 -3.93717748e-01\n",
            "  -5.03211218e-01  1.55279582e-01 -5.75695112e-02 -1.54053315e+01\n",
            "  -9.13320841e-01 -4.54077800e-01 -1.51879995e+00  2.07898379e-01\n",
            "  -9.89275773e-01 -1.78667058e+00  2.59326222e-01 -1.68545468e+00\n",
            "  -1.20293221e+00 -1.14412033e+00 -1.76930799e+00 -1.65720708e+00\n",
            "  -1.64134589e+00 -4.04259756e-02 -1.83964556e+00 -1.73396529e+00\n",
            "  -1.80249191e+00 -1.77603532e+00]]\n",
            "First few combined labels:\n",
            " [[351788      1      1      1]]\n",
            "/content/drive/MyDrive/FinalFilterOuput/blocks/testing_blocks/subject_2_block_1_testing_50_CSP_Features.npz\n",
            "Saving combined features and labels to: /content/drive/MyDrive/FinalFilterOuput/blocks/testing_blocks/subject_2_block_1_testing_50_CSP_Features.npz\n",
            "Saving completed.\n",
            "Extracted from block\n",
            "X shape: (200, 128, 1153)\n",
            "Y shape: (200, 4)\n",
            "startijg cut\n",
            "Cut useful time\n",
            "X shape: (200, 128, 640)\n",
            "Y shape: (200, 4)\n",
            "Filtered by condition\n",
            "X shape: (80, 128, 640)\n",
            "Y shape: (80, 4)\n",
            "Filtered by class\n",
            "X shape: (80, 128, 640)\n",
            "Y shape: (80, 4)\n",
            "Initialized CSP\n",
            "Combined Features shape: (360, 50)\n",
            "Combined Labels shape: (360, 4)\n",
            "First few combined features:\n",
            " [[-5.42692749e-01 -7.52381089e-01 -9.10612063e-01 -6.52884440e-01\n",
            "  -9.39154304e-01 -9.53509329e-01 -6.36207460e-01 -3.69657630e-01\n",
            "  -4.18298506e-01 -5.01737032e-01 -5.40887299e-01 -2.83785063e-01\n",
            "  -5.69273779e-01 -8.70913827e-01 -1.02417583e+00 -7.62334466e-01\n",
            "  -3.49904629e-01 -1.16002869e+00 -6.27291811e-01 -8.15261020e-01\n",
            "  -1.37893901e+00 -6.65562991e-01 -7.65423783e-01 -3.21321987e-02\n",
            "   1.58032142e-03 -9.13613087e-01 -2.91678251e-01 -3.93717748e-01\n",
            "  -5.03211218e-01  1.55279582e-01 -5.75695112e-02 -1.54053315e+01\n",
            "  -9.13320841e-01 -4.54077800e-01 -1.51879995e+00  2.07898379e-01\n",
            "  -9.89275773e-01 -1.78667058e+00  2.59326222e-01 -1.68545468e+00\n",
            "  -1.20293221e+00 -1.14412033e+00 -1.76930799e+00 -1.65720708e+00\n",
            "  -1.64134589e+00 -4.04259756e-02 -1.83964556e+00 -1.73396529e+00\n",
            "  -1.80249191e+00 -1.77603532e+00]]\n",
            "First few combined labels:\n",
            " [[351788      1      1      1]]\n",
            "/content/drive/MyDrive/FinalFilterOuput/blocks/testing_blocks/subject_2_block_2_testing_50_CSP_Features.npz\n",
            "Saving combined features and labels to: /content/drive/MyDrive/FinalFilterOuput/blocks/testing_blocks/subject_2_block_2_testing_50_CSP_Features.npz\n",
            "Saving completed.\n",
            "Extracted from block\n",
            "X shape: (200, 128, 1153)\n",
            "Y shape: (200, 4)\n",
            "startijg cut\n",
            "Cut useful time\n",
            "X shape: (200, 128, 640)\n",
            "Y shape: (200, 4)\n",
            "Filtered by condition\n",
            "X shape: (80, 128, 640)\n",
            "Y shape: (80, 4)\n",
            "Filtered by class\n",
            "X shape: (80, 128, 640)\n",
            "Y shape: (80, 4)\n",
            "Initialized CSP\n",
            "Combined Features shape: (440, 50)\n",
            "Combined Labels shape: (440, 4)\n",
            "First few combined features:\n",
            " [[-5.42692749e-01 -7.52381089e-01 -9.10612063e-01 -6.52884440e-01\n",
            "  -9.39154304e-01 -9.53509329e-01 -6.36207460e-01 -3.69657630e-01\n",
            "  -4.18298506e-01 -5.01737032e-01 -5.40887299e-01 -2.83785063e-01\n",
            "  -5.69273779e-01 -8.70913827e-01 -1.02417583e+00 -7.62334466e-01\n",
            "  -3.49904629e-01 -1.16002869e+00 -6.27291811e-01 -8.15261020e-01\n",
            "  -1.37893901e+00 -6.65562991e-01 -7.65423783e-01 -3.21321987e-02\n",
            "   1.58032142e-03 -9.13613087e-01 -2.91678251e-01 -3.93717748e-01\n",
            "  -5.03211218e-01  1.55279582e-01 -5.75695112e-02 -1.54053315e+01\n",
            "  -9.13320841e-01 -4.54077800e-01 -1.51879995e+00  2.07898379e-01\n",
            "  -9.89275773e-01 -1.78667058e+00  2.59326222e-01 -1.68545468e+00\n",
            "  -1.20293221e+00 -1.14412033e+00 -1.76930799e+00 -1.65720708e+00\n",
            "  -1.64134589e+00 -4.04259756e-02 -1.83964556e+00 -1.73396529e+00\n",
            "  -1.80249191e+00 -1.77603532e+00]]\n",
            "First few combined labels:\n",
            " [[351788      1      1      1]]\n",
            "/content/drive/MyDrive/FinalFilterOuput/blocks/testing_blocks/subject_2_block_3_testing_50_CSP_Features.npz\n",
            "Saving combined features and labels to: /content/drive/MyDrive/FinalFilterOuput/blocks/testing_blocks/subject_2_block_3_testing_50_CSP_Features.npz\n",
            "Saving completed.\n",
            "Processing Subject: 3\n",
            "Extracted from block\n",
            "X shape: (200, 128, 1153)\n",
            "Y shape: (200, 4)\n",
            "startijg cut\n",
            "Cut useful time\n",
            "X shape: (200, 128, 640)\n",
            "Y shape: (200, 4)\n",
            "Filtered by condition\n",
            "X shape: (40, 128, 640)\n",
            "Y shape: (40, 4)\n",
            "Filtered by class\n",
            "X shape: (40, 128, 640)\n",
            "Y shape: (40, 4)\n",
            "Initialized CSP\n",
            "Combined Features shape: (480, 50)\n",
            "Combined Labels shape: (480, 4)\n",
            "First few combined features:\n",
            " [[-5.42692749e-01 -7.52381089e-01 -9.10612063e-01 -6.52884440e-01\n",
            "  -9.39154304e-01 -9.53509329e-01 -6.36207460e-01 -3.69657630e-01\n",
            "  -4.18298506e-01 -5.01737032e-01 -5.40887299e-01 -2.83785063e-01\n",
            "  -5.69273779e-01 -8.70913827e-01 -1.02417583e+00 -7.62334466e-01\n",
            "  -3.49904629e-01 -1.16002869e+00 -6.27291811e-01 -8.15261020e-01\n",
            "  -1.37893901e+00 -6.65562991e-01 -7.65423783e-01 -3.21321987e-02\n",
            "   1.58032142e-03 -9.13613087e-01 -2.91678251e-01 -3.93717748e-01\n",
            "  -5.03211218e-01  1.55279582e-01 -5.75695112e-02 -1.54053315e+01\n",
            "  -9.13320841e-01 -4.54077800e-01 -1.51879995e+00  2.07898379e-01\n",
            "  -9.89275773e-01 -1.78667058e+00  2.59326222e-01 -1.68545468e+00\n",
            "  -1.20293221e+00 -1.14412033e+00 -1.76930799e+00 -1.65720708e+00\n",
            "  -1.64134589e+00 -4.04259756e-02 -1.83964556e+00 -1.73396529e+00\n",
            "  -1.80249191e+00 -1.77603532e+00]]\n",
            "First few combined labels:\n",
            " [[351788      1      1      1]]\n",
            "/content/drive/MyDrive/FinalFilterOuput/blocks/testing_blocks/subject_3_block_1_testing_50_CSP_Features.npz\n",
            "Saving combined features and labels to: /content/drive/MyDrive/FinalFilterOuput/blocks/testing_blocks/subject_3_block_1_testing_50_CSP_Features.npz\n",
            "Saving completed.\n",
            "Extracted from block\n",
            "X shape: (200, 128, 1153)\n",
            "Y shape: (200, 4)\n",
            "startijg cut\n",
            "Cut useful time\n",
            "X shape: (200, 128, 640)\n",
            "Y shape: (200, 4)\n",
            "Filtered by condition\n",
            "X shape: (80, 128, 640)\n",
            "Y shape: (80, 4)\n",
            "Filtered by class\n",
            "X shape: (80, 128, 640)\n",
            "Y shape: (80, 4)\n",
            "Initialized CSP\n",
            "Combined Features shape: (560, 50)\n",
            "Combined Labels shape: (560, 4)\n",
            "First few combined features:\n",
            " [[-5.42692749e-01 -7.52381089e-01 -9.10612063e-01 -6.52884440e-01\n",
            "  -9.39154304e-01 -9.53509329e-01 -6.36207460e-01 -3.69657630e-01\n",
            "  -4.18298506e-01 -5.01737032e-01 -5.40887299e-01 -2.83785063e-01\n",
            "  -5.69273779e-01 -8.70913827e-01 -1.02417583e+00 -7.62334466e-01\n",
            "  -3.49904629e-01 -1.16002869e+00 -6.27291811e-01 -8.15261020e-01\n",
            "  -1.37893901e+00 -6.65562991e-01 -7.65423783e-01 -3.21321987e-02\n",
            "   1.58032142e-03 -9.13613087e-01 -2.91678251e-01 -3.93717748e-01\n",
            "  -5.03211218e-01  1.55279582e-01 -5.75695112e-02 -1.54053315e+01\n",
            "  -9.13320841e-01 -4.54077800e-01 -1.51879995e+00  2.07898379e-01\n",
            "  -9.89275773e-01 -1.78667058e+00  2.59326222e-01 -1.68545468e+00\n",
            "  -1.20293221e+00 -1.14412033e+00 -1.76930799e+00 -1.65720708e+00\n",
            "  -1.64134589e+00 -4.04259756e-02 -1.83964556e+00 -1.73396529e+00\n",
            "  -1.80249191e+00 -1.77603532e+00]]\n",
            "First few combined labels:\n",
            " [[351788      1      1      1]]\n",
            "/content/drive/MyDrive/FinalFilterOuput/blocks/testing_blocks/subject_3_block_2_testing_50_CSP_Features.npz\n",
            "Saving combined features and labels to: /content/drive/MyDrive/FinalFilterOuput/blocks/testing_blocks/subject_3_block_2_testing_50_CSP_Features.npz\n",
            "Saving completed.\n",
            "Extracted from block\n",
            "X shape: (100, 128, 1153)\n",
            "Y shape: (100, 4)\n",
            "startijg cut\n",
            "Cut useful time\n",
            "X shape: (100, 128, 640)\n",
            "Y shape: (100, 4)\n",
            "Filtered by condition\n",
            "X shape: (60, 128, 640)\n",
            "Y shape: (60, 4)\n",
            "Filtered by class\n",
            "X shape: (60, 128, 640)\n",
            "Y shape: (60, 4)\n",
            "Initialized CSP\n",
            "Combined Features shape: (620, 50)\n",
            "Combined Labels shape: (620, 4)\n",
            "First few combined features:\n",
            " [[-5.42692749e-01 -7.52381089e-01 -9.10612063e-01 -6.52884440e-01\n",
            "  -9.39154304e-01 -9.53509329e-01 -6.36207460e-01 -3.69657630e-01\n",
            "  -4.18298506e-01 -5.01737032e-01 -5.40887299e-01 -2.83785063e-01\n",
            "  -5.69273779e-01 -8.70913827e-01 -1.02417583e+00 -7.62334466e-01\n",
            "  -3.49904629e-01 -1.16002869e+00 -6.27291811e-01 -8.15261020e-01\n",
            "  -1.37893901e+00 -6.65562991e-01 -7.65423783e-01 -3.21321987e-02\n",
            "   1.58032142e-03 -9.13613087e-01 -2.91678251e-01 -3.93717748e-01\n",
            "  -5.03211218e-01  1.55279582e-01 -5.75695112e-02 -1.54053315e+01\n",
            "  -9.13320841e-01 -4.54077800e-01 -1.51879995e+00  2.07898379e-01\n",
            "  -9.89275773e-01 -1.78667058e+00  2.59326222e-01 -1.68545468e+00\n",
            "  -1.20293221e+00 -1.14412033e+00 -1.76930799e+00 -1.65720708e+00\n",
            "  -1.64134589e+00 -4.04259756e-02 -1.83964556e+00 -1.73396529e+00\n",
            "  -1.80249191e+00 -1.77603532e+00]]\n",
            "First few combined labels:\n",
            " [[351788      1      1      1]]\n",
            "/content/drive/MyDrive/FinalFilterOuput/blocks/testing_blocks/subject_3_block_3_testing_50_CSP_Features.npz\n",
            "Saving combined features and labels to: /content/drive/MyDrive/FinalFilterOuput/blocks/testing_blocks/subject_3_block_3_testing_50_CSP_Features.npz\n",
            "Saving completed.\n",
            "Processing Subject: 7\n",
            "Extracted from block\n",
            "X shape: (200, 128, 1153)\n",
            "Y shape: (200, 4)\n",
            "startijg cut\n",
            "Cut useful time\n",
            "X shape: (200, 128, 640)\n",
            "Y shape: (200, 4)\n",
            "Filtered by condition\n",
            "X shape: (80, 128, 640)\n",
            "Y shape: (80, 4)\n",
            "Filtered by class\n",
            "X shape: (80, 128, 640)\n",
            "Y shape: (80, 4)\n",
            "Initialized CSP\n",
            "Combined Features shape: (700, 50)\n",
            "Combined Labels shape: (700, 4)\n",
            "First few combined features:\n",
            " [[-5.42692749e-01 -7.52381089e-01 -9.10612063e-01 -6.52884440e-01\n",
            "  -9.39154304e-01 -9.53509329e-01 -6.36207460e-01 -3.69657630e-01\n",
            "  -4.18298506e-01 -5.01737032e-01 -5.40887299e-01 -2.83785063e-01\n",
            "  -5.69273779e-01 -8.70913827e-01 -1.02417583e+00 -7.62334466e-01\n",
            "  -3.49904629e-01 -1.16002869e+00 -6.27291811e-01 -8.15261020e-01\n",
            "  -1.37893901e+00 -6.65562991e-01 -7.65423783e-01 -3.21321987e-02\n",
            "   1.58032142e-03 -9.13613087e-01 -2.91678251e-01 -3.93717748e-01\n",
            "  -5.03211218e-01  1.55279582e-01 -5.75695112e-02 -1.54053315e+01\n",
            "  -9.13320841e-01 -4.54077800e-01 -1.51879995e+00  2.07898379e-01\n",
            "  -9.89275773e-01 -1.78667058e+00  2.59326222e-01 -1.68545468e+00\n",
            "  -1.20293221e+00 -1.14412033e+00 -1.76930799e+00 -1.65720708e+00\n",
            "  -1.64134589e+00 -4.04259756e-02 -1.83964556e+00 -1.73396529e+00\n",
            "  -1.80249191e+00 -1.77603532e+00]]\n",
            "First few combined labels:\n",
            " [[351788      1      1      1]]\n",
            "/content/drive/MyDrive/FinalFilterOuput/blocks/testing_blocks/subject_7_block_1_testing_50_CSP_Features.npz\n",
            "Saving combined features and labels to: /content/drive/MyDrive/FinalFilterOuput/blocks/testing_blocks/subject_7_block_1_testing_50_CSP_Features.npz\n",
            "Saving completed.\n",
            "Extracted from block\n",
            "X shape: (200, 128, 1153)\n",
            "Y shape: (200, 4)\n",
            "startijg cut\n",
            "Cut useful time\n",
            "X shape: (200, 128, 640)\n",
            "Y shape: (200, 4)\n",
            "Filtered by condition\n",
            "X shape: (80, 128, 640)\n",
            "Y shape: (80, 4)\n",
            "Filtered by class\n",
            "X shape: (80, 128, 640)\n",
            "Y shape: (80, 4)\n",
            "Initialized CSP\n",
            "Combined Features shape: (780, 50)\n",
            "Combined Labels shape: (780, 4)\n",
            "First few combined features:\n",
            " [[-5.42692749e-01 -7.52381089e-01 -9.10612063e-01 -6.52884440e-01\n",
            "  -9.39154304e-01 -9.53509329e-01 -6.36207460e-01 -3.69657630e-01\n",
            "  -4.18298506e-01 -5.01737032e-01 -5.40887299e-01 -2.83785063e-01\n",
            "  -5.69273779e-01 -8.70913827e-01 -1.02417583e+00 -7.62334466e-01\n",
            "  -3.49904629e-01 -1.16002869e+00 -6.27291811e-01 -8.15261020e-01\n",
            "  -1.37893901e+00 -6.65562991e-01 -7.65423783e-01 -3.21321987e-02\n",
            "   1.58032142e-03 -9.13613087e-01 -2.91678251e-01 -3.93717748e-01\n",
            "  -5.03211218e-01  1.55279582e-01 -5.75695112e-02 -1.54053315e+01\n",
            "  -9.13320841e-01 -4.54077800e-01 -1.51879995e+00  2.07898379e-01\n",
            "  -9.89275773e-01 -1.78667058e+00  2.59326222e-01 -1.68545468e+00\n",
            "  -1.20293221e+00 -1.14412033e+00 -1.76930799e+00 -1.65720708e+00\n",
            "  -1.64134589e+00 -4.04259756e-02 -1.83964556e+00 -1.73396529e+00\n",
            "  -1.80249191e+00 -1.77603532e+00]]\n",
            "First few combined labels:\n",
            " [[351788      1      1      1]]\n",
            "/content/drive/MyDrive/FinalFilterOuput/blocks/testing_blocks/subject_7_block_2_testing_50_CSP_Features.npz\n",
            "Saving combined features and labels to: /content/drive/MyDrive/FinalFilterOuput/blocks/testing_blocks/subject_7_block_2_testing_50_CSP_Features.npz\n",
            "Saving completed.\n",
            "Extracted from block\n",
            "X shape: (200, 128, 1153)\n",
            "Y shape: (200, 4)\n",
            "startijg cut\n",
            "Cut useful time\n",
            "X shape: (200, 128, 640)\n",
            "Y shape: (200, 4)\n",
            "Filtered by condition\n",
            "X shape: (80, 128, 640)\n",
            "Y shape: (80, 4)\n",
            "Filtered by class\n",
            "X shape: (80, 128, 640)\n",
            "Y shape: (80, 4)\n",
            "Initialized CSP\n",
            "Combined Features shape: (860, 50)\n",
            "Combined Labels shape: (860, 4)\n",
            "First few combined features:\n",
            " [[-5.42692749e-01 -7.52381089e-01 -9.10612063e-01 -6.52884440e-01\n",
            "  -9.39154304e-01 -9.53509329e-01 -6.36207460e-01 -3.69657630e-01\n",
            "  -4.18298506e-01 -5.01737032e-01 -5.40887299e-01 -2.83785063e-01\n",
            "  -5.69273779e-01 -8.70913827e-01 -1.02417583e+00 -7.62334466e-01\n",
            "  -3.49904629e-01 -1.16002869e+00 -6.27291811e-01 -8.15261020e-01\n",
            "  -1.37893901e+00 -6.65562991e-01 -7.65423783e-01 -3.21321987e-02\n",
            "   1.58032142e-03 -9.13613087e-01 -2.91678251e-01 -3.93717748e-01\n",
            "  -5.03211218e-01  1.55279582e-01 -5.75695112e-02 -1.54053315e+01\n",
            "  -9.13320841e-01 -4.54077800e-01 -1.51879995e+00  2.07898379e-01\n",
            "  -9.89275773e-01 -1.78667058e+00  2.59326222e-01 -1.68545468e+00\n",
            "  -1.20293221e+00 -1.14412033e+00 -1.76930799e+00 -1.65720708e+00\n",
            "  -1.64134589e+00 -4.04259756e-02 -1.83964556e+00 -1.73396529e+00\n",
            "  -1.80249191e+00 -1.77603532e+00]]\n",
            "First few combined labels:\n",
            " [[351788      1      1      1]]\n",
            "/content/drive/MyDrive/FinalFilterOuput/blocks/testing_blocks/subject_7_block_3_testing_50_CSP_Features.npz\n",
            "Saving combined features and labels to: /content/drive/MyDrive/FinalFilterOuput/blocks/testing_blocks/subject_7_block_3_testing_50_CSP_Features.npz\n",
            "Saving completed.\n"
          ]
        }
      ],
      "source": [
        "import numpy as np\n",
        "import mne\n",
        "from mne.decoding import CSP\n",
        "\n",
        "### ---- Processing Variables ---- ###\n",
        "\n",
        "# Save options\n",
        "save_bool = True\n",
        "overwrite = True\n",
        "\n",
        "# Subjects list for training\n",
        "N_S_list = [1,2,3,7]\n",
        "\n",
        "# Data filtering\n",
        "datatype = \"eeg\"\n",
        "Cond = \"Inner\"\n",
        "Classes = \"ALL\"\n",
        "\n",
        "# Time window\n",
        "t_start = 0.5\n",
        "t_end = 3\n",
        "fs = 256  # Sampling rate\n",
        "\n",
        "\n",
        "# Define CSP parameters\n",
        "n_components = 50  # Number of CSP components\n",
        "reg_param = 0.01\n",
        "\n",
        "\n",
        "### Define Functions ###\n",
        "\n",
        "data = dict()\n",
        "y = dict()\n",
        "n_b_arr = [1, 2, 3]\n",
        "datatype = datatype.lower()\n",
        "\n",
        "def extract_features_using_csp(root_dir, N_S, N_B):\n",
        "    try:\n",
        "        # .fif\n",
        "        # Load all trials for a single subject\n",
        "        X, Y = extract_block_data_from_subject(root_dir, N_S, datatype, N_B)\n",
        "        print(\"Extracted from block\")\n",
        "\n",
        "        X = X.get_data()  # Convert EpochsFIF object to numpy array\n",
        "        print(\"X shape:\", X.shape)\n",
        "        print(\"Y shape:\", Y.shape)\n",
        "\n",
        "\n",
        "        # Cut useful time. i.e action interval\n",
        "        print(\"startijg cut\")\n",
        "        X = select_time_window(X, t_start, t_end, fs)\n",
        "        print(\"Cut useful time\")\n",
        "        print(\"X shape:\", X.shape)\n",
        "        print(\"Y shape:\", Y.shape)\n",
        "\n",
        "\n",
        "        # # Filter By condition i.e Inner\n",
        "        X, Y = filter_by_condition(X, Y, condition='Inner')\n",
        "        print(\"Filtered by condition\")\n",
        "        print(\"X shape:\", X.shape)\n",
        "        print(\"Y shape:\", Y.shape)\n",
        "\n",
        "        # # Filter By class i.e ALL classes\n",
        "        X, Y = filter_by_class(X, Y, 'ALL')\n",
        "        print(\"Filtered by class\")\n",
        "        print(\"X shape:\", X.shape)\n",
        "        print(\"Y shape:\", Y.shape)\n",
        "\n",
        "\n",
        "        # Initialize CSP with regularization\n",
        "        csp = CSP(n_components=n_components, reg=reg_param, log=True, norm_trace=False)\n",
        "        print(\"Initialized CSP\")\n",
        "\n",
        "        # Fit CSP on training data and transform data\n",
        "        X_csp = csp.fit_transform(X, Y[:, 1])  # Assuming class labels are in the second column of Y\n",
        "\n",
        "        return X_csp, Y\n",
        "    except Exception as e:\n",
        "        print(f\"Error processing subject {N_S}: {e}\")\n",
        "        return None, None\n",
        "\n",
        "\n",
        "\n",
        "### ---- Main Processing Loop ---- ###\n",
        "\n",
        "# Initialize lists to hold all features and labels\n",
        "all_features = []\n",
        "all_labels = []\n",
        "\n",
        "for N_S in N_S_list:\n",
        "    print(f\"Processing Subject: {N_S}\")\n",
        "    for N_B in n_b_arr:\n",
        "        # Extract and process features for each subject\n",
        "        features, labels = extract_features_using_csp(root_dir, N_S, N_B)\n",
        "        if features is not None and labels is not None:\n",
        "            # Append the data to the lists\n",
        "            all_features.append(features)\n",
        "            all_labels.append(labels)\n",
        "\n",
        "        # Stack all the features and labels\n",
        "        X_data = np.vstack(all_features)\n",
        "        Y_data = np.vstack(all_labels)\n",
        "        print(\"Combined Features shape:\", X_data.shape)\n",
        "        print(\"Combined Labels shape:\", Y_data.shape)\n",
        "        print(\"First few combined features:\\n\", X_data[:1])\n",
        "        print(\"First few combined labels:\\n\", Y_data[:1])\n",
        "\n",
        "        ### ---- Save the Combined Data ---- ###\n",
        "\n",
        "        if save_bool:\n",
        "            save_dir = \"/content/drive/MyDrive/FinalFilterOuput/blocks/testing_blocks\"\n",
        "            # subject_dir = os.path.join(save_dir, f\"subject_{N_S}_block_{N_B}\")\n",
        "            file_name = os.path.join(save_dir, f\"subject_{N_S}_block_{N_B}_testing_50_CSP_Features.npz\")\n",
        "            print(file_name)\n",
        "            print(f\"Saving combined features and labels to: {file_name}\")\n",
        "            np.savez(file_name, features=X_data, labels=Y_data)\n",
        "            print(\"Saving completed.\")\n",
        "\n",
        "\n",
        "\n",
        "\n",
        "\n",
        "\n",
        "\n",
        "\n"
      ]
    },
    {
      "cell_type": "code",
      "execution_count": null,
      "metadata": {
        "colab": {
          "base_uri": "https://localhost:8080/"
        },
        "id": "XODzjaCiyrwP",
        "outputId": "60f6bf67-75d0-43f6-d8ac-2e9936ba5be8"
      },
      "outputs": [
        {
          "name": "stdout",
          "output_type": "stream",
          "text": [
            "Saving combined features and labels to: /content/drive/MyDrive/FinalFilterOuput/CombinedFile_6Subjects_50_testing_CSP_Features.npz\n",
            "Saving completed.\n"
          ]
        }
      ],
      "source": [
        "\n"
      ]
    },
    {
      "cell_type": "markdown",
      "metadata": {
        "id": "-wiIkgaX1xBZ"
      },
      "source": [
        "## Full Code with multiple no. of components"
      ]
    },
    {
      "cell_type": "code",
      "execution_count": null,
      "metadata": {
        "colab": {
          "base_uri": "https://localhost:8080/",
          "height": 782
        },
        "id": "q9kT6p5J11Ph",
        "outputId": "93333e4e-d211-46f3-abbc-20eef18ee405"
      },
      "outputs": [
        {
          "name": "stdout",
          "output_type": "stream",
          "text": [
            "Subject: 1\n",
            "Trying n_components = 10 and reg_param = 0.01\n",
            "Error during SVD computation: boolean index did not match indexed array along dimension 1; dimension is 128 but corresponding boolean dimension is 4\n",
            "Trying n_components = 20 and reg_param = 0.01\n",
            "Error during SVD computation: boolean index did not match indexed array along dimension 1; dimension is 128 but corresponding boolean dimension is 4\n",
            "Trying n_components = 30 and reg_param = 0.01\n",
            "Error during SVD computation: boolean index did not match indexed array along dimension 1; dimension is 128 but corresponding boolean dimension is 4\n",
            "Trying n_components = 40 and reg_param = 0.01\n",
            "Error during SVD computation: boolean index did not match indexed array along dimension 1; dimension is 128 but corresponding boolean dimension is 4\n",
            "Trying n_components = 50 and reg_param = 0.01\n",
            "Error during SVD computation: boolean index did not match indexed array along dimension 1; dimension is 128 but corresponding boolean dimension is 4\n",
            "Subject: 3\n",
            "Trying n_components = 10 and reg_param = 0.01\n",
            "Error during SVD computation: boolean index did not match indexed array along dimension 1; dimension is 128 but corresponding boolean dimension is 4\n",
            "Trying n_components = 20 and reg_param = 0.01\n",
            "Error during SVD computation: boolean index did not match indexed array along dimension 1; dimension is 128 but corresponding boolean dimension is 4\n",
            "Trying n_components = 30 and reg_param = 0.01\n",
            "Error during SVD computation: boolean index did not match indexed array along dimension 1; dimension is 128 but corresponding boolean dimension is 4\n",
            "Trying n_components = 40 and reg_param = 0.01\n",
            "Error during SVD computation: boolean index did not match indexed array along dimension 1; dimension is 128 but corresponding boolean dimension is 4\n",
            "Trying n_components = 50 and reg_param = 0.01\n",
            "Error during SVD computation: boolean index did not match indexed array along dimension 1; dimension is 128 but corresponding boolean dimension is 4\n",
            "Subject: 4\n"
          ]
        },
        {
          "ename": "KeyboardInterrupt",
          "evalue": "",
          "output_type": "error",
          "traceback": [
            "\u001b[0;31m---------------------------------------------------------------------------\u001b[0m",
            "\u001b[0;31mKeyboardInterrupt\u001b[0m                         Traceback (most recent call last)",
            "\u001b[0;32m<ipython-input-8-caacd93a963a>\u001b[0m in \u001b[0;36m<cell line: 58>\u001b[0;34m()\u001b[0m\n\u001b[1;32m     56\u001b[0m \u001b[0;34m\u001b[0m\u001b[0m\n\u001b[1;32m     57\u001b[0m \u001b[0;31m# Call the function to extract features\u001b[0m\u001b[0;34m\u001b[0m\u001b[0;34m\u001b[0m\u001b[0m\n\u001b[0;32m---> 58\u001b[0;31m \u001b[0mextract_features_using_csp\u001b[0m\u001b[0;34m(\u001b[0m\u001b[0mroot_dir\u001b[0m\u001b[0;34m,\u001b[0m \u001b[0mN_S_list\u001b[0m\u001b[0;34m,\u001b[0m \u001b[0mt_start\u001b[0m\u001b[0;34m,\u001b[0m \u001b[0mt_end\u001b[0m\u001b[0;34m,\u001b[0m \u001b[0mfs\u001b[0m\u001b[0;34m)\u001b[0m\u001b[0;34m\u001b[0m\u001b[0;34m\u001b[0m\u001b[0m\n\u001b[0m",
            "\u001b[0;32m<ipython-input-8-caacd93a963a>\u001b[0m in \u001b[0;36mextract_features_using_csp\u001b[0;34m(root_dir, N_S_list, t_start, t_end, fs)\u001b[0m\n\u001b[1;32m     21\u001b[0m \u001b[0;34m\u001b[0m\u001b[0m\n\u001b[1;32m     22\u001b[0m             \u001b[0;31m# Load all trials for a single subject\u001b[0m\u001b[0;34m\u001b[0m\u001b[0;34m\u001b[0m\u001b[0m\n\u001b[0;32m---> 23\u001b[0;31m             \u001b[0mX\u001b[0m\u001b[0;34m,\u001b[0m \u001b[0mY\u001b[0m \u001b[0;34m=\u001b[0m \u001b[0mextract_data_from_subject\u001b[0m\u001b[0;34m(\u001b[0m\u001b[0mroot_dir\u001b[0m\u001b[0;34m,\u001b[0m \u001b[0mN_S\u001b[0m\u001b[0;34m,\u001b[0m \u001b[0mdatatype\u001b[0m\u001b[0;34m)\u001b[0m\u001b[0;34m\u001b[0m\u001b[0;34m\u001b[0m\u001b[0m\n\u001b[0m\u001b[1;32m     24\u001b[0m \u001b[0;34m\u001b[0m\u001b[0m\n\u001b[1;32m     25\u001b[0m             \u001b[0;31m# Cut useful time. i.e action interval\u001b[0m\u001b[0;34m\u001b[0m\u001b[0;34m\u001b[0m\u001b[0m\n",
            "\u001b[0;32m/content/Inner_Speech_Dataset/Python_Processing/Data_extractions.py\u001b[0m in \u001b[0;36mextract_data_from_subject\u001b[0;34m(root_dir, n_s, datatype)\u001b[0m\n\u001b[1;32m     64\u001b[0m         \u001b[0mnum_s\u001b[0m \u001b[0;34m=\u001b[0m \u001b[0msub_name\u001b[0m\u001b[0;34m(\u001b[0m\u001b[0mn_s\u001b[0m\u001b[0;34m)\u001b[0m\u001b[0;34m\u001b[0m\u001b[0;34m\u001b[0m\u001b[0m\n\u001b[1;32m     65\u001b[0m \u001b[0;34m\u001b[0m\u001b[0m\n\u001b[0;32m---> 66\u001b[0;31m         \u001b[0my\u001b[0m\u001b[0;34m[\u001b[0m\u001b[0mn_b\u001b[0m\u001b[0;34m]\u001b[0m \u001b[0;34m=\u001b[0m \u001b[0mload_events\u001b[0m\u001b[0;34m(\u001b[0m\u001b[0mroot_dir\u001b[0m\u001b[0;34m,\u001b[0m \u001b[0mn_s\u001b[0m\u001b[0;34m,\u001b[0m \u001b[0mn_b\u001b[0m\u001b[0;34m)\u001b[0m\u001b[0;34m\u001b[0m\u001b[0;34m\u001b[0m\u001b[0m\n\u001b[0m\u001b[1;32m     67\u001b[0m \u001b[0;34m\u001b[0m\u001b[0m\n\u001b[1;32m     68\u001b[0m         \u001b[0;32mif\u001b[0m \u001b[0mdatatype\u001b[0m \u001b[0;34m==\u001b[0m \u001b[0;34m\"eeg\"\u001b[0m\u001b[0;34m:\u001b[0m\u001b[0;34m\u001b[0m\u001b[0;34m\u001b[0m\u001b[0m\n",
            "\u001b[0;32m/content/Inner_Speech_Dataset/Python_Processing/Data_extractions.py\u001b[0m in \u001b[0;36mload_events\u001b[0;34m(root_dir, n_s, n_b)\u001b[0m\n\u001b[1;32m    300\u001b[0m \u001b[0;34m\u001b[0m\u001b[0m\n\u001b[1;32m    301\u001b[0m     \u001b[0;31m# Load events\u001b[0m\u001b[0;34m\u001b[0m\u001b[0;34m\u001b[0m\u001b[0m\n\u001b[0;32m--> 302\u001b[0;31m     \u001b[0mevents\u001b[0m \u001b[0;34m=\u001b[0m \u001b[0mnp\u001b[0m\u001b[0;34m.\u001b[0m\u001b[0mload\u001b[0m\u001b[0;34m(\u001b[0m\u001b[0mfile_name\u001b[0m\u001b[0;34m,\u001b[0m \u001b[0mallow_pickle\u001b[0m\u001b[0;34m=\u001b[0m\u001b[0;32mTrue\u001b[0m\u001b[0;34m)\u001b[0m\u001b[0;34m\u001b[0m\u001b[0;34m\u001b[0m\u001b[0m\n\u001b[0m\u001b[1;32m    303\u001b[0m \u001b[0;34m\u001b[0m\u001b[0m\n\u001b[1;32m    304\u001b[0m     \u001b[0;32mreturn\u001b[0m \u001b[0mevents\u001b[0m\u001b[0;34m\u001b[0m\u001b[0;34m\u001b[0m\u001b[0m\n",
            "\u001b[0;32m/usr/local/lib/python3.10/dist-packages/numpy/lib/npyio.py\u001b[0m in \u001b[0;36mload\u001b[0;34m(file, mmap_mode, allow_pickle, fix_imports, encoding, max_header_size)\u001b[0m\n\u001b[1;32m    425\u001b[0m             \u001b[0mown_fid\u001b[0m \u001b[0;34m=\u001b[0m \u001b[0;32mFalse\u001b[0m\u001b[0;34m\u001b[0m\u001b[0;34m\u001b[0m\u001b[0m\n\u001b[1;32m    426\u001b[0m         \u001b[0;32melse\u001b[0m\u001b[0;34m:\u001b[0m\u001b[0;34m\u001b[0m\u001b[0;34m\u001b[0m\u001b[0m\n\u001b[0;32m--> 427\u001b[0;31m             \u001b[0mfid\u001b[0m \u001b[0;34m=\u001b[0m \u001b[0mstack\u001b[0m\u001b[0;34m.\u001b[0m\u001b[0menter_context\u001b[0m\u001b[0;34m(\u001b[0m\u001b[0mopen\u001b[0m\u001b[0;34m(\u001b[0m\u001b[0mos_fspath\u001b[0m\u001b[0;34m(\u001b[0m\u001b[0mfile\u001b[0m\u001b[0;34m)\u001b[0m\u001b[0;34m,\u001b[0m \u001b[0;34m\"rb\"\u001b[0m\u001b[0;34m)\u001b[0m\u001b[0;34m)\u001b[0m\u001b[0;34m\u001b[0m\u001b[0;34m\u001b[0m\u001b[0m\n\u001b[0m\u001b[1;32m    428\u001b[0m             \u001b[0mown_fid\u001b[0m \u001b[0;34m=\u001b[0m \u001b[0;32mTrue\u001b[0m\u001b[0;34m\u001b[0m\u001b[0;34m\u001b[0m\u001b[0m\n\u001b[1;32m    429\u001b[0m \u001b[0;34m\u001b[0m\u001b[0m\n",
            "\u001b[0;31mKeyboardInterrupt\u001b[0m: "
          ]
        }
      ],
      "source": [
        "from mne.decoding import CSP\n",
        "import numpy as np\n",
        "\n",
        "# Define the processing variables\n",
        "root_dir = \"/content/drive/MyDrive/FYPD_Dataset\"\n",
        "save_dir = \"/content/drive/MyDrive/FinalFilterOuput\"\n",
        "N_S_list = [1, 3, 4, 5, 6, 10]\n",
        "t_start = 0.5\n",
        "t_end = 3\n",
        "fs = 256\n",
        "datatype = \"eeg\"\n",
        "\n",
        "def extract_features_using_csp(root_dir, N_S_list, t_start, t_end, fs):\n",
        "    try:\n",
        "        # Define the range of parameters to try\n",
        "        n_components_values = [10, 20, 30, 40, 50]  # Adjust as needed\n",
        "        reg_param_values = [0.01]  # Adjust as needed\n",
        "\n",
        "        for N_S in N_S_list:\n",
        "            print(\"Subject:\", N_S)\n",
        "\n",
        "            # Load all trials for a single subject\n",
        "            X, Y = extract_data_from_subject(root_dir, N_S, datatype)\n",
        "\n",
        "            # Cut useful time. i.e action interval\n",
        "            X = select_time_window(X=X, t_start=t_start, t_end=t_end, fs=fs)\n",
        "\n",
        "            # Filter By condition i.e Inner\n",
        "            X, Y = filter_by_condition(X, Y, condition='Inner')\n",
        "\n",
        "            # Filter By class i.e ALL classes\n",
        "            X, Y = filter_by_class(X, Y, 'ALL')\n",
        "\n",
        "            for n_components in n_components_values:\n",
        "                for reg_param in reg_param_values:\n",
        "                    print(\"Trying n_components =\", n_components, \"and reg_param =\", reg_param)\n",
        "\n",
        "                    # Initialize CSP with regularization\n",
        "                    csp = CSP(n_components=n_components, reg=reg_param, log=True, norm_trace=False)\n",
        "\n",
        "                    try:\n",
        "                        # Fit CSP on training data and transform data\n",
        "                        X_csp = csp.fit_transform(X, Y)\n",
        "                        print(\"SVD computation successful for n_components =\", n_components, \"and reg_param =\", reg_param)\n",
        "\n",
        "                        # Save the extracted features and labels\n",
        "                        file_name = f\"{save_dir}/CSP_Features_Subject_{N_S}_ncomp_{n_components}_reg_{reg_param}.npz\"\n",
        "                        np.savez(file_name, features=X_csp, labels=Y)\n",
        "                        print(f\"Saved CSP features to: {file_name}\")\n",
        "\n",
        "                    except Exception as e:\n",
        "                        print(\"Error during SVD computation:\", e)\n",
        "\n",
        "    except Exception as e:\n",
        "        print(\"Error:\", e)\n",
        "\n",
        "# Call the function to extract features\n",
        "extract_features_using_csp(root_dir, N_S_list, t_start, t_end, fs)\n"
      ]
    },
    {
      "cell_type": "markdown",
      "metadata": {
        "id": "4mz5kvQu7WA_"
      },
      "source": [
        "# **--------------------------- Model Training \\------------------------------------**\n",
        "\n"
      ]
    },
    {
      "cell_type": "markdown",
      "metadata": {
        "id": "Uzg73qRQFgqv"
      },
      "source": [
        "### Load and Inspect the numpy File"
      ]
    },
    {
      "cell_type": "code",
      "execution_count": null,
      "metadata": {
        "colab": {
          "base_uri": "https://localhost:8080/"
        },
        "collapsed": true,
        "id": "LXBGU4lKD7zs",
        "outputId": "c1c95243-9189-481a-9a18-e5e38bd0ec42"
      },
      "outputs": [
        {
          "name": "stdout",
          "output_type": "stream",
          "text": [
            "['features', 'labels']\n"
          ]
        }
      ],
      "source": [
        "import pandas as pd\n",
        "import numpy as np\n",
        "\n",
        "# file_name_csp='/content/drive/MyDrive/FinalFilterOuput/50_Combined_CSP_Features.npz'\n",
        "file_name_csp=\"/content/drive/MyDrive/FinalFilterOuput/CombinedFile_6Subjects_50_testing_CSP_Features.npz\"\n",
        "# Load the .npz file\n",
        "data = np.load(file_name_csp)\n",
        "\n",
        "# List all arrays in the .npz file\n",
        "print(data.files)"
      ]
    },
    {
      "cell_type": "code",
      "execution_count": null,
      "metadata": {
        "colab": {
          "base_uri": "https://localhost:8080/"
        },
        "id": "6SarxxSdxXIh",
        "outputId": "5f8a6c4f-40d6-4630-fa8a-0a774c5a7986"
      },
      "outputs": [
        {
          "data": {
            "text/plain": [
              "(1316, 4)"
            ]
          },
          "execution_count": 9,
          "metadata": {},
          "output_type": "execute_result"
        }
      ],
      "source": [
        "data['labels'].shape"
      ]
    },
    {
      "cell_type": "code",
      "execution_count": null,
      "metadata": {
        "colab": {
          "base_uri": "https://localhost:8080/"
        },
        "id": "lmHbl4wT2Pkk",
        "outputId": "b9b1243f-739e-4db4-b0a6-af13e8687f2d"
      },
      "outputs": [
        {
          "data": {
            "text/plain": [
              "(1316,)"
            ]
          },
          "execution_count": 10,
          "metadata": {},
          "output_type": "execute_result"
        }
      ],
      "source": [
        "\n",
        "labels= data['labels']\n",
        "labels= labels[:, 1]\n",
        "labels.shape"
      ]
    },
    {
      "cell_type": "code",
      "execution_count": null,
      "metadata": {
        "colab": {
          "base_uri": "https://localhost:8080/"
        },
        "id": "btqxzOiAwm4F",
        "outputId": "77df02c3-2779-4dab-b1f1-9e824c5552b0"
      },
      "outputs": [
        {
          "name": "stdout",
          "output_type": "stream",
          "text": [
            "The values and their frequency are:\n",
            " [[  0   1   2   3]\n",
            " [329 329 329 329]]\n"
          ]
        }
      ],
      "source": [
        "unique, frequency = np.unique(labels,\n",
        "                              return_counts = True)\n",
        "\n",
        "# convert both into one numpy array\n",
        "count = np.asarray((unique, frequency ))\n",
        "\n",
        "print(\"The values and their frequency are:\\n\",\n",
        "     count)"
      ]
    },
    {
      "cell_type": "markdown",
      "metadata": {
        "id": "Zffe_bbxFYML"
      },
      "source": [
        "\n",
        "### Data Cleaning and preparation for numpy files"
      ]
    },
    {
      "cell_type": "code",
      "execution_count": null,
      "metadata": {
        "colab": {
          "base_uri": "https://localhost:8080/"
        },
        "id": "jKCTMd457yj2",
        "outputId": "dddd07af-8268-45ed-b484-3dfc1e64bc60"
      },
      "outputs": [
        {
          "data": {
            "application/vnd.google.colaboratory.intrinsic+json": {
              "type": "string"
            },
            "text/plain": [
              "'\\nX_train, X_test, y_train, y_test = train_test_split(X, y, test_size=0.2, random_state=42)\\n\\n# Convert labels to categorical (if using TensorFlow/Keras)\\nnum_classes = len(np.unique(y))\\ny_train = tf.keras.utils.to_categorical(y_train, num_classes=num_classes)\\ny_test = tf.keras.utils.to_categorical(y_test, num_classes=num_classes)\\n\\nprint(\"First few rows of scaled features:\")\\nprint(X_train[:5])\\nprint(\"First few labels (one-hot encoded):\")\\nprint(y_train[:5])\\n\\nprint(\"Data cleaning and preparation complete.\")\\n'"
            ]
          },
          "execution_count": 12,
          "metadata": {},
          "output_type": "execute_result"
        }
      ],
      "source": [
        "import numpy as np\n",
        "import pandas as pd\n",
        "from sklearn.preprocessing import StandardScaler\n",
        "from sklearn.model_selection import train_test_split\n",
        "import tensorflow as tf\n",
        "import joblib\n",
        "\n",
        "\n",
        "# Assuming 'Feature' and 'Label' are keys in the npz file\n",
        "features = data['features']\n",
        "\n",
        "# Function to clean feature strings\n",
        "def clean_feature_string(feature_str):\n",
        "    if isinstance(feature_str, str):\n",
        "        cleaned = feature_str.strip('[]').replace(' ', ',').replace('\\n', '')\n",
        "        return cleaned.split(',') if cleaned else []\n",
        "    return feature_str  # If it's already a list or array, return as is\n",
        "\n",
        "# Convert the feature strings to lists of floats\n",
        "cleaned_features = []\n",
        "for feature in features:\n",
        "    cleaned_feature = clean_feature_string(feature)\n",
        "    if len(cleaned_feature) == 0:\n",
        "        cleaned_feature = [0.0] * 10  # Handle empty features by filling with placeholder\n",
        "    cleaned_features.append([float(i) for i in cleaned_feature])\n",
        "\n",
        "# Convert cleaned_features to a numpy array\n",
        "X = np.array(cleaned_features)\n",
        "y = labels\n",
        "\n",
        "# Optional: Split the data into training and testing sets\n",
        "\n",
        "'''\n",
        "X_train, X_test, y_train, y_test = train_test_split(X, y, test_size=0.2, random_state=42)\n",
        "\n",
        "# Convert labels to categorical (if using TensorFlow/Keras)\n",
        "num_classes = len(np.unique(y))\n",
        "y_train = tf.keras.utils.to_categorical(y_train, num_classes=num_classes)\n",
        "y_test = tf.keras.utils.to_categorical(y_test, num_classes=num_classes)\n",
        "\n",
        "print(\"First few rows of scaled features:\")\n",
        "print(X_train[:5])\n",
        "print(\"First few labels (one-hot encoded):\")\n",
        "print(y_train[:5])\n",
        "\n",
        "print(\"Data cleaning and preparation complete.\")\n",
        "'''\n"
      ]
    },
    {
      "cell_type": "code",
      "execution_count": null,
      "metadata": {
        "colab": {
          "base_uri": "https://localhost:8080/"
        },
        "id": "ESrwXL32FsjA",
        "outputId": "bb2f7a39-4912-4559-c8fe-a8a1a536276a"
      },
      "outputs": [
        {
          "data": {
            "text/plain": [
              "(1316, 4)"
            ]
          },
          "execution_count": 13,
          "metadata": {},
          "output_type": "execute_result"
        }
      ],
      "source": [
        "num_classes = len(np.unique(y))\n",
        "y = tf.keras.utils.to_categorical(y, num_classes=num_classes)\n",
        "y.shape"
      ]
    },
    {
      "cell_type": "code",
      "execution_count": null,
      "metadata": {
        "id": "nC4CaRz-llMs"
      },
      "outputs": [],
      "source": [
        "\n",
        "X_train, X_test, y_train, y_test = train_test_split(X, y, test_size=0.2, random_state=42)"
      ]
    },
    {
      "cell_type": "code",
      "execution_count": null,
      "metadata": {
        "id": "7NvdfbTyg3mk"
      },
      "outputs": [],
      "source": [
        "scaler = StandardScaler()\n",
        "X_train = scaler.fit_transform(X_train)\n",
        "X_test= scaler.transform(X_test)"
      ]
    },
    {
      "cell_type": "code",
      "execution_count": null,
      "metadata": {
        "colab": {
          "base_uri": "https://localhost:8080/"
        },
        "id": "aSuEFtI-le98",
        "outputId": "be687d04-847c-4c2e-d07e-25d0b914ea05"
      },
      "outputs": [
        {
          "data": {
            "text/plain": [
              "['/content/drive/MyDrive/MyOutput/Maham_final_final_training_scaler.pkl']"
            ]
          },
          "execution_count": 16,
          "metadata": {},
          "output_type": "execute_result"
        }
      ],
      "source": [
        "\n",
        "# Save the scaler to disk for later use\n",
        "scaler_path = '/content/drive/MyDrive/MyOutput/Maham_final_final_training_scaler.pkl'  # Adjust the path as needed\n",
        "joblib.dump(scaler, scaler_path)"
      ]
    },
    {
      "cell_type": "code",
      "execution_count": null,
      "metadata": {
        "colab": {
          "base_uri": "https://localhost:8080/"
        },
        "id": "ipG_lnaZiFF7",
        "outputId": "75fa27e2-7e04-49f4-c845-03988f0db671"
      },
      "outputs": [
        {
          "data": {
            "text/plain": [
              "array([0., 1.], dtype=float32)"
            ]
          },
          "execution_count": 17,
          "metadata": {},
          "output_type": "execute_result"
        }
      ],
      "source": [
        "np.unique(y)"
      ]
    },
    {
      "cell_type": "markdown",
      "metadata": {
        "id": "Fr41ZIDqcmVI"
      },
      "source": [
        "### CNN MODEL"
      ]
    },
    {
      "cell_type": "code",
      "execution_count": null,
      "metadata": {
        "colab": {
          "base_uri": "https://localhost:8080/"
        },
        "id": "hSYh-DG8XtOZ",
        "outputId": "39fb47e0-aa71-477a-d4f7-d1abc36cad00"
      },
      "outputs": [
        {
          "name": "stdout",
          "output_type": "stream",
          "text": [
            "Model: \"sequential\"\n",
            "_________________________________________________________________\n",
            " Layer (type)                Output Shape              Param #   \n",
            "=================================================================\n",
            " conv1d (Conv1D)             (None, 48, 128)           512       \n",
            "                                                                 \n",
            " batch_normalization (Batch  (None, 48, 128)           512       \n",
            " Normalization)                                                  \n",
            "                                                                 \n",
            " max_pooling1d (MaxPooling1  (None, 24, 128)           0         \n",
            " D)                                                              \n",
            "                                                                 \n",
            " dropout (Dropout)           (None, 24, 128)           0         \n",
            "                                                                 \n",
            " flatten (Flatten)           (None, 3072)              0         \n",
            "                                                                 \n",
            " dense (Dense)               (None, 128)               393344    \n",
            "                                                                 \n",
            " dropout_1 (Dropout)         (None, 128)               0         \n",
            "                                                                 \n",
            " dense_1 (Dense)             (None, 4)                 516       \n",
            "                                                                 \n",
            "=================================================================\n",
            "Total params: 394884 (1.51 MB)\n",
            "Trainable params: 394628 (1.51 MB)\n",
            "Non-trainable params: 256 (1.00 KB)\n",
            "_________________________________________________________________\n",
            "Epoch 1/100\n",
            "66/66 - 2s - loss: 2.8398 - accuracy: 0.3489 - val_loss: 1.2974 - val_accuracy: 0.5038 - 2s/epoch - 33ms/step\n",
            "Epoch 2/100\n",
            "66/66 - 1s - loss: 1.4989 - accuracy: 0.4848 - val_loss: 1.3085 - val_accuracy: 0.5265 - 677ms/epoch - 10ms/step\n",
            "Epoch 3/100\n",
            "66/66 - 1s - loss: 1.1315 - accuracy: 0.5589 - val_loss: 1.2509 - val_accuracy: 0.6023 - 672ms/epoch - 10ms/step\n",
            "Epoch 4/100\n",
            "66/66 - 1s - loss: 1.0144 - accuracy: 0.5817 - val_loss: 1.1611 - val_accuracy: 0.6250 - 632ms/epoch - 10ms/step\n",
            "Epoch 5/100\n",
            "66/66 - 1s - loss: 0.9146 - accuracy: 0.6084 - val_loss: 1.0510 - val_accuracy: 0.6705 - 609ms/epoch - 9ms/step\n",
            "Epoch 6/100\n",
            "66/66 - 1s - loss: 0.8643 - accuracy: 0.6616 - val_loss: 0.9758 - val_accuracy: 0.7045 - 647ms/epoch - 10ms/step\n",
            "Epoch 7/100\n",
            "66/66 - 1s - loss: 0.8453 - accuracy: 0.6464 - val_loss: 0.8975 - val_accuracy: 0.6856 - 636ms/epoch - 10ms/step\n",
            "Epoch 8/100\n",
            "66/66 - 1s - loss: 0.7835 - accuracy: 0.6749 - val_loss: 0.8407 - val_accuracy: 0.7045 - 966ms/epoch - 15ms/step\n",
            "Epoch 9/100\n",
            "66/66 - 1s - loss: 0.7682 - accuracy: 0.6644 - val_loss: 0.7697 - val_accuracy: 0.7159 - 906ms/epoch - 14ms/step\n",
            "Epoch 10/100\n",
            "66/66 - 1s - loss: 0.6986 - accuracy: 0.7025 - val_loss: 0.6990 - val_accuracy: 0.7235 - 915ms/epoch - 14ms/step\n",
            "Epoch 11/100\n",
            "66/66 - 1s - loss: 0.7109 - accuracy: 0.7006 - val_loss: 0.6986 - val_accuracy: 0.7424 - 938ms/epoch - 14ms/step\n",
            "Epoch 12/100\n",
            "66/66 - 1s - loss: 0.6350 - accuracy: 0.7395 - val_loss: 0.6706 - val_accuracy: 0.7424 - 935ms/epoch - 14ms/step\n",
            "Epoch 13/100\n",
            "66/66 - 1s - loss: 0.6802 - accuracy: 0.7281 - val_loss: 0.6759 - val_accuracy: 0.7235 - 663ms/epoch - 10ms/step\n",
            "Epoch 14/100\n",
            "66/66 - 1s - loss: 0.6301 - accuracy: 0.7376 - val_loss: 0.6654 - val_accuracy: 0.7348 - 630ms/epoch - 10ms/step\n",
            "Epoch 15/100\n",
            "66/66 - 1s - loss: 0.6095 - accuracy: 0.7462 - val_loss: 0.6910 - val_accuracy: 0.7273 - 622ms/epoch - 9ms/step\n",
            "Epoch 16/100\n",
            "66/66 - 1s - loss: 0.6109 - accuracy: 0.7196 - val_loss: 0.6400 - val_accuracy: 0.7652 - 581ms/epoch - 9ms/step\n",
            "Epoch 17/100\n",
            "66/66 - 1s - loss: 0.5518 - accuracy: 0.7728 - val_loss: 0.6067 - val_accuracy: 0.7689 - 638ms/epoch - 10ms/step\n",
            "Epoch 18/100\n",
            "66/66 - 1s - loss: 0.5894 - accuracy: 0.7567 - val_loss: 0.6108 - val_accuracy: 0.7689 - 642ms/epoch - 10ms/step\n",
            "Epoch 19/100\n",
            "66/66 - 1s - loss: 0.5483 - accuracy: 0.7757 - val_loss: 0.6247 - val_accuracy: 0.7462 - 625ms/epoch - 9ms/step\n",
            "Epoch 20/100\n",
            "66/66 - 1s - loss: 0.5189 - accuracy: 0.7700 - val_loss: 0.5983 - val_accuracy: 0.7689 - 657ms/epoch - 10ms/step\n",
            "Epoch 21/100\n",
            "66/66 - 1s - loss: 0.5561 - accuracy: 0.7747 - val_loss: 0.6373 - val_accuracy: 0.7235 - 596ms/epoch - 9ms/step\n",
            "Epoch 22/100\n",
            "66/66 - 1s - loss: 0.5344 - accuracy: 0.7871 - val_loss: 0.6022 - val_accuracy: 0.7841 - 626ms/epoch - 9ms/step\n",
            "Epoch 23/100\n",
            "66/66 - 1s - loss: 0.5316 - accuracy: 0.7833 - val_loss: 0.6065 - val_accuracy: 0.7652 - 652ms/epoch - 10ms/step\n",
            "Epoch 24/100\n",
            "66/66 - 1s - loss: 0.4763 - accuracy: 0.8080 - val_loss: 0.6449 - val_accuracy: 0.7500 - 644ms/epoch - 10ms/step\n",
            "Epoch 25/100\n",
            "66/66 - 1s - loss: 0.4620 - accuracy: 0.8089 - val_loss: 0.5879 - val_accuracy: 0.7727 - 674ms/epoch - 10ms/step\n",
            "Epoch 26/100\n",
            "66/66 - 1s - loss: 0.4483 - accuracy: 0.8194 - val_loss: 0.5656 - val_accuracy: 0.7955 - 632ms/epoch - 10ms/step\n",
            "Epoch 27/100\n",
            "66/66 - 1s - loss: 0.4554 - accuracy: 0.8175 - val_loss: 0.5862 - val_accuracy: 0.7689 - 655ms/epoch - 10ms/step\n",
            "Epoch 28/100\n",
            "66/66 - 1s - loss: 0.4318 - accuracy: 0.8289 - val_loss: 0.5827 - val_accuracy: 0.7879 - 836ms/epoch - 13ms/step\n",
            "Epoch 29/100\n",
            "66/66 - 1s - loss: 0.4518 - accuracy: 0.8270 - val_loss: 0.5829 - val_accuracy: 0.7879 - 960ms/epoch - 15ms/step\n",
            "Epoch 30/100\n",
            "66/66 - 1s - loss: 0.4566 - accuracy: 0.8289 - val_loss: 0.5500 - val_accuracy: 0.7917 - 891ms/epoch - 13ms/step\n",
            "Epoch 31/100\n",
            "66/66 - 1s - loss: 0.4333 - accuracy: 0.8175 - val_loss: 0.5637 - val_accuracy: 0.7765 - 999ms/epoch - 15ms/step\n",
            "Epoch 32/100\n",
            "66/66 - 1s - loss: 0.4429 - accuracy: 0.8146 - val_loss: 0.5907 - val_accuracy: 0.8030 - 935ms/epoch - 14ms/step\n",
            "Epoch 33/100\n",
            "66/66 - 1s - loss: 0.4003 - accuracy: 0.8470 - val_loss: 0.5841 - val_accuracy: 0.8068 - 814ms/epoch - 12ms/step\n",
            "Epoch 34/100\n",
            "66/66 - 1s - loss: 0.4156 - accuracy: 0.8251 - val_loss: 0.5958 - val_accuracy: 0.7955 - 660ms/epoch - 10ms/step\n",
            "Epoch 35/100\n",
            "66/66 - 1s - loss: 0.4212 - accuracy: 0.8222 - val_loss: 0.5809 - val_accuracy: 0.7765 - 613ms/epoch - 9ms/step\n",
            "Epoch 36/100\n",
            "66/66 - 1s - loss: 0.4287 - accuracy: 0.8346 - val_loss: 0.5797 - val_accuracy: 0.8068 - 629ms/epoch - 10ms/step\n",
            "Epoch 37/100\n",
            "66/66 - 1s - loss: 0.4425 - accuracy: 0.8346 - val_loss: 0.5451 - val_accuracy: 0.8144 - 626ms/epoch - 9ms/step\n",
            "Epoch 38/100\n",
            "66/66 - 1s - loss: 0.3909 - accuracy: 0.8517 - val_loss: 0.5579 - val_accuracy: 0.7841 - 654ms/epoch - 10ms/step\n",
            "Epoch 39/100\n",
            "66/66 - 1s - loss: 0.4017 - accuracy: 0.8489 - val_loss: 0.5753 - val_accuracy: 0.7841 - 646ms/epoch - 10ms/step\n",
            "Epoch 40/100\n",
            "66/66 - 1s - loss: 0.3776 - accuracy: 0.8555 - val_loss: 0.6080 - val_accuracy: 0.7879 - 668ms/epoch - 10ms/step\n",
            "Epoch 41/100\n",
            "66/66 - 1s - loss: 0.3652 - accuracy: 0.8508 - val_loss: 0.5847 - val_accuracy: 0.8068 - 662ms/epoch - 10ms/step\n",
            "Epoch 42/100\n",
            "66/66 - 1s - loss: 0.3747 - accuracy: 0.8546 - val_loss: 0.5307 - val_accuracy: 0.8068 - 632ms/epoch - 10ms/step\n",
            "Epoch 43/100\n",
            "66/66 - 1s - loss: 0.3862 - accuracy: 0.8603 - val_loss: 0.5326 - val_accuracy: 0.7992 - 620ms/epoch - 9ms/step\n",
            "Epoch 44/100\n",
            "66/66 - 1s - loss: 0.3654 - accuracy: 0.8546 - val_loss: 0.5938 - val_accuracy: 0.7917 - 635ms/epoch - 10ms/step\n",
            "Epoch 45/100\n",
            "66/66 - 1s - loss: 0.3690 - accuracy: 0.8527 - val_loss: 0.5572 - val_accuracy: 0.7841 - 613ms/epoch - 9ms/step\n",
            "Epoch 46/100\n",
            "66/66 - 1s - loss: 0.3494 - accuracy: 0.8622 - val_loss: 0.5382 - val_accuracy: 0.8068 - 589ms/epoch - 9ms/step\n",
            "Epoch 47/100\n",
            "66/66 - 1s - loss: 0.3831 - accuracy: 0.8565 - val_loss: 0.5610 - val_accuracy: 0.8068 - 599ms/epoch - 9ms/step\n",
            "Epoch 48/100\n",
            "66/66 - 1s - loss: 0.3798 - accuracy: 0.8669 - val_loss: 0.5088 - val_accuracy: 0.8030 - 637ms/epoch - 10ms/step\n",
            "Epoch 49/100\n",
            "66/66 - 1s - loss: 0.3635 - accuracy: 0.8565 - val_loss: 0.5389 - val_accuracy: 0.7992 - 932ms/epoch - 14ms/step\n",
            "Epoch 50/100\n",
            "66/66 - 1s - loss: 0.3662 - accuracy: 0.8498 - val_loss: 0.5112 - val_accuracy: 0.8068 - 914ms/epoch - 14ms/step\n",
            "Epoch 51/100\n",
            "66/66 - 1s - loss: 0.3788 - accuracy: 0.8479 - val_loss: 0.5190 - val_accuracy: 0.8068 - 915ms/epoch - 14ms/step\n",
            "Epoch 52/100\n",
            "66/66 - 1s - loss: 0.3762 - accuracy: 0.8565 - val_loss: 0.5138 - val_accuracy: 0.7955 - 936ms/epoch - 14ms/step\n",
            "Epoch 53/100\n",
            "66/66 - 1s - loss: 0.3420 - accuracy: 0.8631 - val_loss: 0.5039 - val_accuracy: 0.8030 - 921ms/epoch - 14ms/step\n",
            "Epoch 54/100\n",
            "66/66 - 1s - loss: 0.3444 - accuracy: 0.8593 - val_loss: 0.5195 - val_accuracy: 0.8182 - 746ms/epoch - 11ms/step\n",
            "Epoch 55/100\n",
            "66/66 - 1s - loss: 0.3663 - accuracy: 0.8498 - val_loss: 0.5191 - val_accuracy: 0.8220 - 565ms/epoch - 9ms/step\n",
            "Epoch 56/100\n",
            "66/66 - 1s - loss: 0.3383 - accuracy: 0.8631 - val_loss: 0.5629 - val_accuracy: 0.8030 - 600ms/epoch - 9ms/step\n",
            "Epoch 57/100\n",
            "66/66 - 1s - loss: 0.3456 - accuracy: 0.8707 - val_loss: 0.4654 - val_accuracy: 0.7955 - 580ms/epoch - 9ms/step\n",
            "Epoch 58/100\n",
            "66/66 - 1s - loss: 0.3437 - accuracy: 0.8660 - val_loss: 0.5276 - val_accuracy: 0.7955 - 596ms/epoch - 9ms/step\n",
            "Epoch 59/100\n",
            "66/66 - 1s - loss: 0.3553 - accuracy: 0.8641 - val_loss: 0.5470 - val_accuracy: 0.7917 - 587ms/epoch - 9ms/step\n",
            "Epoch 60/100\n",
            "66/66 - 1s - loss: 0.3545 - accuracy: 0.8688 - val_loss: 0.5246 - val_accuracy: 0.7955 - 604ms/epoch - 9ms/step\n",
            "Epoch 61/100\n",
            "66/66 - 1s - loss: 0.3269 - accuracy: 0.8793 - val_loss: 0.5085 - val_accuracy: 0.8068 - 604ms/epoch - 9ms/step\n",
            "Epoch 62/100\n",
            "66/66 - 1s - loss: 0.3656 - accuracy: 0.8622 - val_loss: 0.5516 - val_accuracy: 0.7689 - 596ms/epoch - 9ms/step\n",
            "Epoch 63/100\n",
            "66/66 - 1s - loss: 0.3320 - accuracy: 0.8546 - val_loss: 0.5525 - val_accuracy: 0.7992 - 602ms/epoch - 9ms/step\n",
            "Epoch 64/100\n",
            "66/66 - 1s - loss: 0.3470 - accuracy: 0.8707 - val_loss: 0.5034 - val_accuracy: 0.8068 - 592ms/epoch - 9ms/step\n",
            "Epoch 65/100\n",
            "66/66 - 1s - loss: 0.3599 - accuracy: 0.8574 - val_loss: 0.4812 - val_accuracy: 0.8182 - 631ms/epoch - 10ms/step\n",
            "Epoch 66/100\n",
            "66/66 - 1s - loss: 0.3353 - accuracy: 0.8736 - val_loss: 0.4760 - val_accuracy: 0.8182 - 613ms/epoch - 9ms/step\n",
            "Epoch 67/100\n",
            "66/66 - 1s - loss: 0.3295 - accuracy: 0.8698 - val_loss: 0.5007 - val_accuracy: 0.8068 - 635ms/epoch - 10ms/step\n",
            "Model saved to /content/drive/MyDrive/MyOutput/maham_final_cnn_model.h5\n"
          ]
        },
        {
          "name": "stderr",
          "output_type": "stream",
          "text": [
            "/usr/local/lib/python3.10/dist-packages/keras/src/engine/training.py:3103: UserWarning: You are saving your model as an HDF5 file via `model.save()`. This file format is considered legacy. We recommend using instead the native Keras format, e.g. `model.save('my_model.keras')`.\n",
            "  saving_api.save_model(\n"
          ]
        },
        {
          "name": "stdout",
          "output_type": "stream",
          "text": [
            "CNN Model Accuracy: 79.55%\n",
            "9/9 [==============================] - 0s 3ms/step\n",
            "CNN Model Classification Report:\n",
            "              precision    recall  f1-score   support\n",
            "\n",
            "           0       0.70      0.83      0.76        71\n",
            "           1       0.82      0.80      0.81        70\n",
            "           2       0.84      0.77      0.80        61\n",
            "           3       0.86      0.77      0.81        62\n",
            "\n",
            "    accuracy                           0.80       264\n",
            "   macro avg       0.81      0.79      0.80       264\n",
            "weighted avg       0.80      0.80      0.80       264\n",
            "\n"
          ]
        }
      ],
      "source": [
        "import os\n",
        "import numpy as np\n",
        "import tensorflow as tf\n",
        "from tensorflow.keras.callbacks import EarlyStopping\n",
        "from tensorflow.keras.models import Sequential\n",
        "from tensorflow.keras.layers import Conv1D, MaxPooling1D, Flatten, Dense, Dropout, BatchNormalization\n",
        "\n",
        "# Reshape the features for CNN input\n",
        "X_train_reshaped = X_train.reshape(X_train.shape[0], X_train.shape[1], 1)\n",
        "X_test_reshaped = X_test.reshape(X_test.shape[0], X_test.shape[1], 1)\n",
        "\n",
        "# Define the CNN model\n",
        "model = Sequential([\n",
        "    Conv1D(128, 3, activation='relu', input_shape=(X_train.shape[1], 1)),\n",
        "    BatchNormalization(),\n",
        "    MaxPooling1D(pool_size=2),\n",
        "    Dropout(0.7),\n",
        "    Flatten(),\n",
        "    Dense(128, activation='relu'),\n",
        "    Dropout(0.5),\n",
        "    Dense(num_classes, activation='softmax')  # Adjust the output layer based on the number of classes\n",
        "])\n",
        "\n",
        "# Compile the model\n",
        "model.compile(optimizer='adam', loss='categorical_crossentropy', metrics=['accuracy'])\n",
        "\n",
        "# Model summary\n",
        "model.summary()\n",
        "\n",
        "# Early stopping to prevent overfitting\n",
        "early_stopping = EarlyStopping(monitor='val_loss', patience=10, restore_best_weights=True)\n",
        "\n",
        "# Train the model\n",
        "history = model.fit(X_train_reshaped, y_train, validation_data=(X_test_reshaped, y_test),\n",
        "                    epochs=100, batch_size=16, callbacks=[early_stopping], verbose=2)\n",
        "\n",
        "# Define the folder path and ensure it exists\n",
        "folder_path = '/content/drive/MyDrive/MyOutput'\n",
        "if not os.path.exists(folder_path):\n",
        "    os.makedirs(folder_path)\n",
        "\n",
        "# Define the file path where the model will be saved\n",
        "model_file_path = os.path.join(folder_path, 'maham_final_cnn_model.h5')\n",
        "\n",
        "# Save the model\n",
        "model.save(model_file_path)\n",
        "print(f'Model saved to {model_file_path}')\n",
        "\n",
        "# Evaluate the model\n",
        "loss, accuracy = model.evaluate(X_test_reshaped, y_test, verbose=0)\n",
        "print(f'CNN Model Accuracy: {accuracy:.2%}')\n",
        "\n",
        "# Make predictions and evaluate\n",
        "y_pred = model.predict(X_test_reshaped)\n",
        "y_pred_classes = np.argmax(y_pred, axis=1)\n",
        "y_test_classes = np.argmax(y_test, axis=1)\n",
        "\n",
        "# Generate a classification report\n",
        "from sklearn.metrics import classification_report\n",
        "report = classification_report(y_test_classes, y_pred_classes)\n",
        "print('CNN Model Classification Report:')\n",
        "print(report)\n"
      ]
    },
    {
      "cell_type": "markdown",
      "metadata": {
        "id": "GhzJpZQ-zC5G"
      },
      "source": [
        "# **------------------------- Test on Single file ----------------------**"
      ]
    },
    {
      "cell_type": "markdown",
      "metadata": {
        "id": "14X0DLl85elg"
      },
      "source": [
        "## Code Divided Into Sub Section"
      ]
    },
    {
      "cell_type": "markdown",
      "metadata": {
        "id": "Z8eFPj9YMdlC"
      },
      "source": [
        "### Import File"
      ]
    },
    {
      "cell_type": "code",
      "execution_count": null,
      "metadata": {
        "colab": {
          "base_uri": "https://localhost:8080/"
        },
        "collapsed": true,
        "id": "2FHPDvVVIqJm",
        "outputId": "6f6ed03f-8959-4080-c5a4-bf89ca6ff3fe"
      },
      "outputs": [
        {
          "name": "stdout",
          "output_type": "stream",
          "text": [
            "['features', 'labels']\n",
            "features\n",
            "[[ 0.48875392 -0.89840649 -0.48407872 ... -0.16432919 -0.17102698\n",
            "   0.11350036]\n",
            " [ 1.13073145 -1.44320754 -0.21878282 ... -0.23054738 -0.40618273\n",
            "  -0.37264044]\n",
            " [ 0.26438056 -0.41610298 -0.79332694 ... -0.31707106 -0.22925015\n",
            "  -0.56608851]\n",
            " ...\n",
            " [-1.17984716  2.27510656 -1.74413519 ... -0.54509026  0.3974988\n",
            "   0.02167963]\n",
            " [-0.31935724 -0.45102983 -1.63847935 ... -0.6322905  -0.70416679\n",
            "   0.14844681]\n",
            " [ 2.37727176 -0.07471929 -1.5697056  ... -0.61594439 -0.04792564\n",
            "   0.86505093]]\n",
            "labels\n",
            "[[356714      1      1      1]\n",
            " [363523      1      1      1]\n",
            " [369991      0      1      1]\n",
            " [376408      1      1      1]\n",
            " [382825      1      1      1]\n",
            " [389293      2      1      1]\n",
            " [395813      1      1      1]\n",
            " [402332      2      1      1]\n",
            " [408715      0      1      1]\n",
            " [415370      0      1      1]\n",
            " [421804      3      1      1]\n",
            " [428238      0      1      1]\n",
            " [434945      2      1      1]\n",
            " [441755      0      1      1]\n",
            " [456671      3      1      1]\n",
            " [463548      2      1      1]\n",
            " [470204      0      1      1]\n",
            " [476826      3      1      1]\n",
            " [483396      2      1      1]\n",
            " [489984      2      1      1]\n",
            " [496639      3      1      1]\n",
            " [503056      1      1      1]\n",
            " [509900      0      1      1]\n",
            " [516317      2      1      1]\n",
            " [522904      3      1      1]\n",
            " [529663      0      1      1]\n",
            " [536250      2      1      1]\n",
            " [549886      3      1      1]\n",
            " [556747      0      1      1]\n",
            " [563590      3      1      1]\n",
            " [570058      0      1      1]\n",
            " [576560      1      1      1]\n",
            " [583370      1      1      1]\n",
            " [590043      1      1      1]\n",
            " [596664      2      1      1]\n",
            " [603371      1      1      1]\n",
            " [610181      3      1      1]\n",
            " [616837      2      1      1]\n",
            " [623305      3      1      1]\n",
            " [629909      3      1      1]\n",
            " [683395      0      1      1]\n",
            " [689794      3      1      1]\n",
            " [696177      1      1      1]\n",
            " [702628      2      1      1]\n",
            " [709011      2      1      1]\n",
            " [715599      2      1      1]\n",
            " [722374      1      1      1]\n",
            " [729064      0      1      1]\n",
            " [735702      1      1      1]\n",
            " [742546      0      1      1]\n",
            " [748963      2      1      1]\n",
            " [755789      3      1      1]\n",
            " [762223      3      1      1]\n",
            " [768828      2      1      1]\n",
            " [782174      3      1      1]\n",
            " [788539      2      1      1]\n",
            " [795332      2      1      1]\n",
            " [802124      2      1      1]\n",
            " [808968      1      1      1]\n",
            " [815828      0      1      1]\n",
            " [822467      3      1      1]\n",
            " [828952      0      1      1]\n",
            " [835352      3      1      1]\n",
            " [841991      1      1      1]\n",
            " [848646      1      1      1]\n",
            " [855388      3      1      1]\n",
            " [861788      2      1      1]\n",
            " [875218      0      1      1]\n",
            " [881704      0      1      1]\n",
            " [888581      0      1      1]\n",
            " [895254      1      1      1]\n",
            " [901842      2      1      1]\n",
            " [908719      3      1      1]\n",
            " [915427      0      1      1]\n",
            " [922031      1      1      1]\n",
            " [928806      3      1      1]\n",
            " [935462      0      1      1]\n",
            " [942101      1      1      1]\n",
            " [948842      3      1      1]\n",
            " [955429      1      1      1]\n",
            " [356997      0      1      2]\n",
            " [363891      0      1      2]\n",
            " [370769      3      1      2]\n",
            " [377425      1      1      2]\n",
            " [384303      3      1      2]\n",
            " [390737      1      1      2]\n",
            " [397119      1      1      2]\n",
            " [403656      2      1      2]\n",
            " [410329      1      1      2]\n",
            " [423981      3      1      2]\n",
            " [430620      3      1      2]\n",
            " [437242      2      1      2]\n",
            " [443881      0      1      2]\n",
            " [450622      1      1      2]\n",
            " [456987      2      1      2]\n",
            " [463746      1      1      2]\n",
            " [470197      1      1      2]\n",
            " [476801      3      1      2]\n",
            " [483320      0      1      2]\n",
            " [496769      2      1      2]\n",
            " [503254      3      1      2]\n",
            " [509790      3      1      2]\n",
            " [516275      0      1      2]\n",
            " [522760      2      1      2]\n",
            " [529314      0      1      2]\n",
            " [536123      1      1      2]\n",
            " [542745      0      1      2]\n",
            " [549315      3      1      2]\n",
            " [562456      2      1      2]\n",
            " [569027      0      1      2]\n",
            " [575819      0      1      2]\n",
            " [582492      2      1      2]\n",
            " [589045      2      1      2]\n",
            " [595872      1      1      2]\n",
            " [602647      0      1      2]\n",
            " [609269      3      1      2]\n",
            " [616061      2      1      2]\n",
            " [622922      3      1      2]\n",
            " [636353      1      1      2]\n",
            " [643009      2      1      2]\n",
            " [696494      2      1      2]\n",
            " [703201      2      1      2]\n",
            " [710045      2      1      2]\n",
            " [716496      1      1      2]\n",
            " [723237      1      1      2]\n",
            " [729910      0      1      2]\n",
            " [736514      2      1      2]\n",
            " [743341      3      1      2]\n",
            " [749945      3      1      2]\n",
            " [763189      0      1      2]\n",
            " [769862      1      1      2]\n",
            " [776415      1      1      2]\n",
            " [783190      0      1      2]\n",
            " [790068      3      1      2]\n",
            " [796928      0      1      2]\n",
            " [803362      1      1      2]\n",
            " [809865      1      1      2]\n",
            " [816230      3      1      2]\n",
            " [829798      0      1      2]\n",
            " [836368      0      1      2]\n",
            " [843195      2      1      2]\n",
            " [849851      3      1      2]\n",
            " [856387      2      1      2]\n",
            " [862855      3      1      2]\n",
            " [869460      1      1      2]\n",
            " [876303      2      1      2]\n",
            " [889222      1      1      2]\n",
            " [895998      3      1      2]\n",
            " [902398      2      1      2]\n",
            " [909139      1      1      2]\n",
            " [916016      0      1      2]\n",
            " [922536      3      1      2]\n",
            " [928969      3      1      2]\n",
            " [935676      3      1      2]\n",
            " [942486      0      1      2]\n",
            " [955695      0      1      2]\n",
            " [962146      2      1      2]\n",
            " [968904      0      1      2]\n",
            " [975441      1      1      2]\n",
            " [982045      2      1      2]\n",
            " [362575      3      1      3]\n",
            " [369401      2      1      3]\n",
            " [375818      2      1      3]\n",
            " [382474      3      1      3]\n",
            " [389198      3      1      3]\n",
            " [395922      0      1      3]\n",
            " [402766      3      1      3]\n",
            " [409148      0      1      3]\n",
            " [415958      3      1      3]\n",
            " [429440      2      1      3]\n",
            " [435942      0      1      3]\n",
            " [442598      3      1      3]\n",
            " [449356      1      1      3]\n",
            " [456217      1      1      3]\n",
            " [462804      1      1      3]\n",
            " [469221      1      1      3]\n",
            " [475604      0      1      3]\n",
            " [482311      1      1      3]\n",
            " [495827      2      1      3]\n",
            " [502381      0      1      3]\n",
            " [509241      3      1      3]\n",
            " [515897      1      1      3]\n",
            " [522758      1      1      3]\n",
            " [529158      1      1      3]\n",
            " [535643      3      1      3]\n",
            " [542435      1      1      3]\n",
            " [549262      0      1      3]\n",
            " [562795      2      1      3]\n",
            " [569246      0      1      3]\n",
            " [576038      0      1      3]\n",
            " [582797      1      1      3]\n",
            " [589316      2      1      3]\n",
            " [595784      2      1      3]\n",
            " [602337      3      1      3]\n",
            " [609147      2      1      3]\n",
            " [615939      0      1      3]\n",
            " [629200      0      1      3]\n",
            " [635702      2      1      3]\n",
            " [642426      3      1      3]\n",
            " [649184      2      1      3]\n",
            " [702618      3      1      3]\n",
            " [709001      3      1      3]\n",
            " [715810      1      1      3]\n",
            " [722330      0      1      3]\n",
            " [729105      0      1      3]\n",
            " [735590      2      1      3]\n",
            " [742263      2      1      3]\n",
            " [749107      1      1      3]\n",
            " [755506      3      1      3]\n",
            " [768494      0      1      3]\n",
            " [775218      2      1      3]\n",
            " [781891      1      1      3]\n",
            " [788325      0      1      3]\n",
            " [795117      1      1      3]\n",
            " [801790      2      1      3]\n",
            " [808190      2      1      3]\n",
            " [814606      3      1      3]\n",
            " [827321      2      1      3]\n",
            " [833721      2      1      3]\n",
            " [840206      2      1      3]\n",
            " [846708      2      1      3]\n",
            " [853142      1      1      3]\n",
            " [859968      0      1      3]\n",
            " [866709      1      1      3]\n",
            " [873468      0      1      3]\n",
            " [880175      0      1      3]\n",
            " [886813      3      1      3]\n",
            " [899579      3      1      3]\n",
            " [906013      2      1      3]\n",
            " [912464      0      1      3]\n",
            " [918830      3      1      3]\n",
            " [925707      1      1      3]\n",
            " [932568      3      1      3]\n",
            " [939002      3      1      3]\n",
            " [945623      3      1      3]\n",
            " [952330      0      1      3]\n",
            " [965540      1      1      3]\n",
            " [972213      1      1      3]\n",
            " [978817      0      1      3]\n",
            " [985320      1      1      3]]\n"
          ]
        },
        {
          "data": {
            "text/plain": [
              "(240, 50)"
            ]
          },
          "execution_count": 19,
          "metadata": {},
          "output_type": "execute_result"
        }
      ],
      "source": [
        "import pandas as pd\n",
        "import numpy as np\n",
        "\n",
        "# csp_file_name='/content/drive/MyDrive/FinalFilterOuput/Subject8_50_testing_CSP_Features.npz' # 77.50%\n",
        "# csp_file_name='/content/drive/MyDrive/FinalFilterOuput/Subject7_50_testing_CSP_Features.npz' # 77.50%\n",
        "# csp_file_name='/content/drive/MyDrive/FinalFilterOuput/Subject9_50_testing_CSP_Features.npz' #97.08%\n",
        "# csp_file_name='/content/drive/MyDrive/FinalFilterOuput/Subject2_50_testing_CSP_Features.npz' # 95.00%\n",
        "\n",
        "csp_file_name='/content/drive/MyDrive/FinalFilterOuput/blocks/subject_2_block_3_testing_50_CSP_Features.npz' #35.42%\n",
        "# Load the .npz file\n",
        "new_data = np.load(csp_file_name)\n",
        "# List all arrays in the .npz file\n",
        "print(new_data.files)\n",
        "\n",
        "# Access and print each array\n",
        "\n",
        "for array_name in new_data.files:\n",
        "    print(array_name)\n",
        "    print(new_data[array_name])\n",
        "\n",
        "new_data['features'].shape\n",
        "\n",
        "\n",
        "\n",
        "\n"
      ]
    },
    {
      "cell_type": "markdown",
      "metadata": {
        "id": "UzAjaSsBNGVr"
      },
      "source": [
        "### Displaying Features and Labels"
      ]
    },
    {
      "cell_type": "code",
      "execution_count": null,
      "metadata": {
        "colab": {
          "base_uri": "https://localhost:8080/"
        },
        "id": "tlW3MyArJOT_",
        "outputId": "3e56ffc7-a163-4ebd-ccc9-5806a1ca5777"
      },
      "outputs": [
        {
          "name": "stdout",
          "output_type": "stream",
          "text": [
            "Labels Shape ---->  (240,)\n",
            "The values and their frequency are:\n",
            " [[ 0  1  2  3]\n",
            " [60 60 60 60]]\n"
          ]
        }
      ],
      "source": [
        "labels= new_data['labels']\n",
        "labels= labels[:, 1]\n",
        "print(\"Labels Shape ----> \", labels.shape)\n",
        "\n",
        "unique, frequency = np.unique(labels,\n",
        "                              return_counts = True)\n",
        "\n",
        "# convert both into one numpy array\n",
        "count = np.asarray((unique, frequency ))\n",
        "\n",
        "print(\"The values and their frequency are:\\n\",count)"
      ]
    },
    {
      "cell_type": "markdown",
      "metadata": {
        "id": "IJKJrM5QMkkd"
      },
      "source": [
        "### Preprocess and clean npz"
      ]
    },
    {
      "cell_type": "code",
      "execution_count": null,
      "metadata": {
        "collapsed": true,
        "id": "QPZbwcgUJLNk"
      },
      "outputs": [],
      "source": [
        "import numpy as np\n",
        "import pandas as pd\n",
        "from sklearn.preprocessing import StandardScaler\n",
        "from sklearn.model_selection import train_test_split\n",
        "import tensorflow as tf\n",
        "import joblib\n",
        "\n",
        "\n",
        "\n",
        "# Load the .npz file\n",
        "\n",
        "# Assuming 'Feature' and 'Label' are keys in the npz file\n",
        "features = new_data['features']\n",
        "\n",
        "# Function to clean feature strings\n",
        "def clean_feature_string(feature_str):\n",
        "    if isinstance(feature_str, str):\n",
        "        cleaned = feature_str.strip('[]').replace(' ', ',').replace('\\n', '')\n",
        "        return cleaned.split(',') if cleaned else []\n",
        "    return feature_str  # If it's already a list or array, return as is\n",
        "\n",
        "# Convert the feature strings to lists of floats\n",
        "cleaned_features = []\n",
        "for feature in features:\n",
        "    cleaned_feature = clean_feature_string(feature)\n",
        "    if len(cleaned_feature) == 0:\n",
        "        cleaned_feature = [0.0] * 10  # Handle empty features by filling with placeholder\n",
        "    cleaned_features.append([float(i) for i in cleaned_feature])\n",
        "\n",
        "# Convert cleaned_features to a numpy array\n",
        "X_new = np.array(cleaned_features)\n",
        "y_new = labels\n",
        "\n",
        "\n"
      ]
    },
    {
      "cell_type": "markdown",
      "metadata": {
        "id": "tpysSTQkNL2E"
      },
      "source": [
        "###  Standardize features\n"
      ]
    },
    {
      "cell_type": "code",
      "execution_count": null,
      "metadata": {
        "colab": {
          "base_uri": "https://localhost:8080/"
        },
        "id": "PegN8rV32sTG",
        "outputId": "5ee1a64d-826e-4392-b16b-c2719b5a32f9"
      },
      "outputs": [
        {
          "name": "stdout",
          "output_type": "stream",
          "text": [
            "(240, 50)\n",
            "(240, 50, 1)\n"
          ]
        }
      ],
      "source": [
        "# Standardize features\n",
        "scaler_path = '/content/drive/MyDrive/MyOutput/Maham_final_final_training_scaler.pkl'\n",
        "scaler = joblib.load(scaler_path)\n",
        "\n",
        "X_new = scaler.transform(X_new)\n",
        "print(X_new.shape)\n",
        "\n",
        "# Reshape the data for the model if necessary (e.g., CNN input)\n",
        "X_new_transformed = X_new.reshape(X_new.shape[0], X_new.shape[1], 1)\n",
        "print(X_new_transformed.shape)"
      ]
    },
    {
      "cell_type": "markdown",
      "metadata": {
        "id": "5Pt-5AvgNWDT"
      },
      "source": [
        "### Import Model"
      ]
    },
    {
      "cell_type": "code",
      "execution_count": null,
      "metadata": {
        "colab": {
          "base_uri": "https://localhost:8080/"
        },
        "id": "a9_cpcRpAEb-",
        "outputId": "db9a9ac2-05bf-4601-c88b-d65caee8c5ca"
      },
      "outputs": [
        {
          "name": "stdout",
          "output_type": "stream",
          "text": [
            "Model loaded from /content/drive/MyDrive/MyOutput/maham_final_cnn_model.h5\n"
          ]
        }
      ],
      "source": [
        "from tensorflow.keras.models import load_model\n",
        "\n",
        "\n",
        "# Load the trained model\n",
        "model_path ='/content/drive/MyDrive/MyOutput/maham_final_cnn_model.h5'\n",
        "\n",
        "\n",
        "model = load_model(model_path)\n",
        "print(f\"Model loaded from {model_path}\")\n"
      ]
    },
    {
      "cell_type": "markdown",
      "metadata": {
        "id": "-vsbR-yBNYvE"
      },
      "source": [
        "### Test Model"
      ]
    },
    {
      "cell_type": "code",
      "execution_count": null,
      "metadata": {
        "colab": {
          "base_uri": "https://localhost:8080/"
        },
        "collapsed": true,
        "id": "ZFgt03TJLLgb",
        "outputId": "2da6b984-dbf6-411d-ba1e-c0b23c8a0a5e"
      },
      "outputs": [
        {
          "name": "stdout",
          "output_type": "stream",
          "text": [
            "8/8 [==============================] - 0s 8ms/step\n",
            "Overall accuracy on test data: 31.67%\n"
          ]
        }
      ],
      "source": [
        "\n",
        "# Assuming model and data are already loaded and prepared\n",
        "from sklearn.metrics import accuracy_score\n",
        "predictions = model.predict(X_new_transformed)\n",
        "predicted_classes = np.argmax(predictions, axis=1)\n",
        "accuracy = accuracy_score(y_new, predicted_classes)\n",
        "print(\"Overall accuracy on test data: {:.2%}\".format(accuracy))\n",
        "\n",
        "\n"
      ]
    },
    {
      "cell_type": "markdown",
      "metadata": {
        "id": "5ddUiKcgNjEs"
      },
      "source": [
        "## Statistical Analysis"
      ]
    },
    {
      "cell_type": "markdown",
      "metadata": {
        "id": "geehVuCXNk4O"
      },
      "source": [
        "### Classification Report:"
      ]
    },
    {
      "cell_type": "code",
      "execution_count": null,
      "metadata": {
        "id": "wDUd6hNbNp70"
      },
      "outputs": [],
      "source": [
        "from sklearn.metrics import classification_report\n",
        "report = classification_report(y_new, predicted_classes)\n",
        "print('CNN Model Classification Report:')\n",
        "print(report)\n"
      ]
    },
    {
      "cell_type": "markdown",
      "metadata": {
        "id": "BA5VoafrN3x_"
      },
      "source": [
        "### Confusion Matrix:"
      ]
    },
    {
      "cell_type": "code",
      "execution_count": null,
      "metadata": {
        "colab": {
          "base_uri": "https://localhost:8080/",
          "height": 641
        },
        "id": "K8Z7WmEVN3Mj",
        "outputId": "2d6ceac1-dcf4-464e-8e4b-61f477d24e7b"
      },
      "outputs": [
        {
          "data": {
            "image/png": "[encoded data removed]",
            "text/plain": [
              "<Figure size 1000x700 with 2 Axes>"
            ]
          },
          "metadata": {},
          "output_type": "display_data"
        }
      ],
      "source": [
        "from sklearn.metrics import confusion_matrix\n",
        "import seaborn as sns\n",
        "import matplotlib.pyplot as plt\n",
        "\n",
        "# Generate the confusion matrix\n",
        "conf_matrix = confusion_matrix(y_new, predicted_classes)\n",
        "\n",
        "# Plot the confusion matrix\n",
        "plt.figure(figsize=(10, 7))\n",
        "sns.heatmap(conf_matrix, annot=True, fmt='d', cmap='Blues', xticklabels=np.unique(y_new), yticklabels=np.unique(y_new))\n",
        "plt.xlabel('Predicted')\n",
        "plt.ylabel('True')\n",
        "plt.title('Confusion Matrix')\n",
        "plt.show()\n"
      ]
    },
    {
      "cell_type": "markdown",
      "metadata": {
        "id": "TmeWZiUeQQgQ"
      },
      "source": [
        "### Precision, Recall, F1-Score:"
      ]
    },
    {
      "cell_type": "code",
      "execution_count": null,
      "metadata": {
        "colab": {
          "base_uri": "https://localhost:8080/"
        },
        "id": "864FQ9ufQSBe",
        "outputId": "b3553e84-d805-467d-9674-395925619581"
      },
      "outputs": [
        {
          "name": "stdout",
          "output_type": "stream",
          "text": [
            "Precision: 34.45%\n",
            "Recall: 35.42%\n",
            "F1-Score: 34.59%\n"
          ]
        }
      ],
      "source": [
        "from sklearn.metrics import precision_score, recall_score, f1_score\n",
        "\n",
        "# Calculate precision, recall, f1-score\n",
        "precision = precision_score(y_new, predicted_classes, average='weighted')\n",
        "recall = recall_score(y_new, predicted_classes, average='weighted')\n",
        "f1 = f1_score(y_new, predicted_classes, average='weighted')\n",
        "\n",
        "print(f\"Precision: {precision:.2%}\")\n",
        "print(f\"Recall: {recall:.2%}\")\n",
        "print(f\"F1-Score: {f1:.2%}\")\n"
      ]
    },
    {
      "cell_type": "markdown",
      "metadata": {
        "id": "8joJ4H32QVWR"
      },
      "source": [
        "### ROC Curve and AUC:\n"
      ]
    },
    {
      "cell_type": "code",
      "execution_count": null,
      "metadata": {
        "colab": {
          "base_uri": "https://localhost:8080/",
          "height": 641
        },
        "id": "T82g5k-5QX3C",
        "outputId": "c5c8896d-7ef7-49d1-bed3-a14ae7f24319"
      },
      "outputs": [
        {
          "data": {
            "image/png": "[encoded data removed]",
            "text/plain": [
              "<Figure size 1000x700 with 1 Axes>"
            ]
          },
          "metadata": {},
          "output_type": "display_data"
        }
      ],
      "source": [
        "from sklearn.metrics import roc_curve, auc\n",
        "from sklearn.preprocessing import label_binarize\n",
        "\n",
        "# Binarize the labels for multi-class ROC AUC\n",
        "y_new_binarized = label_binarize(y_new, classes=np.unique(y_new))\n",
        "n_classes = y_new_binarized.shape[1]\n",
        "\n",
        "# Compute ROC curve and ROC area for each class\n",
        "fpr = dict()\n",
        "tpr = dict()\n",
        "roc_auc = dict()\n",
        "\n",
        "for i in range(n_classes):\n",
        "    fpr[i], tpr[i], _ = roc_curve(y_new_binarized[:, i], predictions[:, i])\n",
        "    roc_auc[i] = auc(fpr[i], tpr[i])\n",
        "\n",
        "# Plot all ROC curves\n",
        "plt.figure(figsize=(10, 7))\n",
        "colors = plt.cm.get_cmap('tab10', n_classes)\n",
        "for i, color in zip(range(n_classes), colors(range(n_classes))):\n",
        "    plt.plot(fpr[i], tpr[i], color=color, lw=2, label=f'ROC curve of class {i} (area = {roc_auc[i]:.2f})')\n",
        "plt.plot([0, 1], [0, 1], 'k--', lw=2)\n",
        "plt.xlim([0.0, 1.0])\n",
        "plt.ylim([0.0, 1.05])\n",
        "plt.xlabel('False Positive Rate')\n",
        "plt.ylabel('True Positive Rate')\n",
        "plt.title('ROC Curves')\n",
        "plt.legend(loc='lower right')\n",
        "plt.show()\n"
      ]
    },
    {
      "cell_type": "markdown",
      "metadata": {
        "id": "K83uTbweQgjQ"
      },
      "source": [
        "### Class Distribution:"
      ]
    },
    {
      "cell_type": "code",
      "execution_count": null,
      "metadata": {
        "colab": {
          "base_uri": "https://localhost:8080/"
        },
        "id": "nF-m4pbHQiP_",
        "outputId": "0f1808f7-1962-4426-eaf8-ce3bbad5d589"
      },
      "outputs": [
        {
          "name": "stdout",
          "output_type": "stream",
          "text": [
            "Class Distribution in Predictions:\n",
            "Class 0: 81 samples\n",
            "Class 1: 48 samples\n",
            "Class 2: 55 samples\n",
            "Class 3: 56 samples\n"
          ]
        }
      ],
      "source": [
        "# Checking the distribution of the predicted classes\n",
        "unique, counts = np.unique(predicted_classes, return_counts=True)\n",
        "class_distribution = dict(zip(unique, counts))\n",
        "\n",
        "print(\"Class Distribution in Predictions:\")\n",
        "for key, value in class_distribution.items():\n",
        "    print(f\"Class {key}: {value} samples\")\n"
      ]
    },
    {
      "cell_type": "markdown",
      "metadata": {
        "id": "XOvdJrotQ0rA"
      },
      "source": [
        "### Statistical Analysis Report:"
      ]
    },
    {
      "cell_type": "code",
      "execution_count": null,
      "metadata": {
        "colab": {
          "base_uri": "https://localhost:8080/"
        },
        "id": "G220sEiRQ2fI",
        "outputId": "4791d09f-106f-459a-cdf8-4322be2f89a7"
      },
      "outputs": [
        {
          "name": "stdout",
          "output_type": "stream",
          "text": [
            "Statistical Analysis Summary Report:\n",
            "   accuracy  precision    recall  f1_score  class_distribution\n",
            "0  0.354167   0.344518  0.354167  0.345903                  81\n"
          ]
        }
      ],
      "source": [
        "# Create a summary report\n",
        "summary_report = {\n",
        "    \"accuracy\": accuracy,\n",
        "    \"precision\": precision,\n",
        "    \"recall\": recall,\n",
        "    \"f1_score\": f1,\n",
        "    \"class_distribution\": class_distribution\n",
        "}\n",
        "\n",
        "# Convert to DataFrame for better visualization\n",
        "summary_df = pd.DataFrame(summary_report, index=[0])\n",
        "print(\"Statistical Analysis Summary Report:\")\n",
        "print(summary_df)\n"
      ]
    },
    {
      "cell_type": "markdown",
      "metadata": {
        "id": "qaHouLue5Uf6"
      },
      "source": [
        "## Full Code to Test a Single File on Model"
      ]
    },
    {
      "cell_type": "code",
      "execution_count": null,
      "metadata": {
        "colab": {
          "base_uri": "https://localhost:8080/"
        },
        "id": "gGCkkHjg4YTb",
        "outputId": "1be8a38c-3cbe-4859-89eb-6cbf00e30347"
      },
      "outputs": [
        {
          "name": "stdout",
          "output_type": "stream",
          "text": [
            "The values and their frequency are:\n",
            " [[ 0  1  2  3]\n",
            " [60 60 60 60]]\n",
            "Shape:  (240, 50)\n",
            "X_new_transformed.shape (240, 50, 1)\n",
            "Model loaded from /content/drive/MyDrive/MyOutput/final_cnn_model.h5\n",
            "8/8 [==============================] - 0s 7ms/step\n",
            "Overall accuracy on test data: 32.92%\n",
            "CNN Model Classification Report:\n",
            "              precision    recall  f1-score   support\n",
            "\n",
            "           0       0.33      0.32      0.32        60\n",
            "           1       0.28      0.32      0.30        60\n",
            "           2       0.30      0.32      0.31        60\n",
            "           3       0.42      0.37      0.39        60\n",
            "\n",
            "    accuracy                           0.33       240\n",
            "   macro avg       0.33      0.33      0.33       240\n",
            "weighted avg       0.33      0.33      0.33       240\n",
            "\n"
          ]
        }
      ],
      "source": [
        "import numpy as np\n",
        "import pandas as pd\n",
        "from sklearn.preprocessing import StandardScaler\n",
        "from sklearn.model_selection import train_test_split\n",
        "import tensorflow as tf\n",
        "import joblib\n",
        "from tensorflow.keras.models import load_model\n",
        "\n",
        "csp_file_name='/content/drive/MyDrive/FinalFilterOuput/blocks/subject_2_block_3_testing_50_CSP_Features.npz' #35.42%\n",
        "\n",
        "# Load the .npz file\n",
        "new_data = np.load(csp_file_name)\n",
        "\n",
        "\n",
        "new_data['features'].shape\n",
        "\n",
        "\n",
        "# Preprocess and clean numpy file\n",
        "labels= new_data['labels']\n",
        "labels= labels[:, 1]\n",
        "labels.shape\n",
        "\n",
        "\n",
        "unique, frequency = np.unique(labels,\n",
        "                              return_counts = True)\n",
        "\n",
        "# convert both into one numpy array\n",
        "count = np.asarray((unique, frequency ))\n",
        "\n",
        "print(\"The values and their frequency are:\\n\",count)\n",
        "\n",
        "\n",
        "\n",
        "\n",
        "# Load the .npz file\n",
        "\n",
        "# Assuming 'Feature' and 'Label' are keys in the npz file\n",
        "features = new_data['features']\n",
        "\n",
        "# Function to clean feature strings\n",
        "def clean_feature_string(feature_str):\n",
        "    if isinstance(feature_str, str):\n",
        "        cleaned = feature_str.strip('[]').replace(' ', ',').replace('\\n', '')\n",
        "        return cleaned.split(',') if cleaned else []\n",
        "    return feature_str  # If it's already a list or array, return as is\n",
        "\n",
        "# Convert the feature strings to lists of floats\n",
        "cleaned_features = []\n",
        "for feature in features:\n",
        "    cleaned_feature = clean_feature_string(feature)\n",
        "    if len(cleaned_feature) == 0:\n",
        "        cleaned_feature = [0.0] * 10  # Handle empty features by filling with placeholder\n",
        "    cleaned_features.append([float(i) for i in cleaned_feature])\n",
        "\n",
        "# Convert cleaned_features to a numpy array\n",
        "X_new = np.array(cleaned_features)\n",
        "y_new = labels\n",
        "\n",
        "\n",
        "# Standardize features\n",
        "scaler_path = '/content/drive/MyDrive/MyOutput/final_training_scaler.pkl'\n",
        "scaler = joblib.load(scaler_path)\n",
        "\n",
        "X_new = scaler.transform(X_new)\n",
        "\n",
        "\n",
        "print(\"Shape: \", X_new.shape)\n",
        "\n",
        "# Reshape the data for the model if necessary (e.g., CNN input)\n",
        "X_new_transformed = X_new.reshape(X_new.shape[0], X_new.shape[1], 1)\n",
        "\n",
        "print(\"X_new_transformed.shape\", X_new_transformed.shape)\n",
        "\n",
        "\n",
        "# Load the trained model\n",
        "model_path ='/content/drive/MyDrive/MyOutput/final_cnn_model.h5'\n",
        "\n",
        "\n",
        "model = load_model(model_path)\n",
        "print(f\"Model loaded from {model_path}\")\n",
        "\n",
        "\n",
        "# Assuming model and data are already loaded and prepared\n",
        "from sklearn.metrics import accuracy_score\n",
        "predictions = model.predict(X_new_transformed)\n",
        "predicted_classes = np.argmax(predictions, axis=1)\n",
        "accuracy = accuracy_score(y_new, predicted_classes)\n",
        "print(\"Overall accuracy on test data: {:.2%}\".format(accuracy))\n",
        "\n",
        "from sklearn.metrics import classification_report\n",
        "report = classification_report(y_new, predicted_classes)\n",
        "print('CNN Model Classification Report:')\n",
        "print(report)\n",
        "\n"
      ]
    },
    {
      "cell_type": "markdown",
      "metadata": {
        "id": "h1242IbKCttB"
      },
      "source": [
        "# **------------------------- Test multiple files ----------------------**"
      ]
    },
    {
      "cell_type": "code",
      "execution_count": null,
      "metadata": {
        "colab": {
          "base_uri": "https://localhost:8080/"
        },
        "id": "Vxei5pJDCxds",
        "outputId": "ead7b841-545e-4728-b18a-fb2b8092ccec"
      },
      "outputs": [
        {
          "name": "stdout",
          "output_type": "stream",
          "text": [
            "Model loaded from /content/drive/MyDrive/MyOutput/all_subjects_training_file_cnn_model.h5\n",
            "Scaler loaded from /content/drive/MyDrive/MyOutput/all_subjects_training_scaler.pkl\n",
            "Processing file: /content/drive/MyDrive/FinalFilterOuput/subjects/all_csp_50_subjects/Subject_1_50_CSP_Features.npz\n",
            "7/7 [==============================] - 0s 3ms/step\n",
            "Accuracy for Subject_1_50_CSP_Features.npz: 97.00%\n",
            "Processing file: /content/drive/MyDrive/FinalFilterOuput/subjects/all_csp_50_subjects/Subject_2_50_CSP_Features.npz\n",
            "8/8 [==============================] - 0s 5ms/step\n",
            "Accuracy for Subject_2_50_CSP_Features.npz: 95.00%\n",
            "Processing file: /content/drive/MyDrive/FinalFilterOuput/subjects/all_csp_50_subjects/Subject_3_50_CSP_Features.npz\n",
            "6/6 [==============================] - 0s 4ms/step\n",
            "Accuracy for Subject_3_50_CSP_Features.npz: 96.67%\n",
            "Processing file: /content/drive/MyDrive/FinalFilterOuput/subjects/all_csp_50_subjects/Subject_4_50_CSP_Features.npz\n",
            "8/8 [==============================] - 0s 3ms/step\n",
            "Accuracy for Subject_4_50_CSP_Features.npz: 98.33%\n",
            "Processing file: /content/drive/MyDrive/FinalFilterOuput/subjects/all_csp_50_subjects/Subject_5_50_CSP_Features.npz\n",
            "8/8 [==============================] - 0s 3ms/step\n",
            "Accuracy for Subject_5_50_CSP_Features.npz: 60.42%\n",
            "Processing file: /content/drive/MyDrive/FinalFilterOuput/subjects/all_csp_50_subjects/Subject_6_50_CSP_Features.npz\n",
            "7/7 [==============================] - 0s 3ms/step\n",
            "Accuracy for Subject_6_50_CSP_Features.npz: 98.15%\n",
            "Processing file: /content/drive/MyDrive/FinalFilterOuput/subjects/all_csp_50_subjects/Subject_7_50_CSP_Features.npz\n",
            "8/8 [==============================] - 0s 3ms/step\n",
            "Accuracy for Subject_7_50_CSP_Features.npz: 98.33%\n",
            "Processing file: /content/drive/MyDrive/FinalFilterOuput/subjects/all_csp_50_subjects/Subject_8_50_CSP_Features.npz\n",
            "7/7 [==============================] - 0s 4ms/step\n",
            "Accuracy for Subject_8_50_CSP_Features.npz: 77.50%\n",
            "Processing file: /content/drive/MyDrive/FinalFilterOuput/subjects/all_csp_50_subjects/Subject_9_50_CSP_Features.npz\n",
            "8/8 [==============================] - 0s 3ms/step\n",
            "Accuracy for Subject_9_50_CSP_Features.npz: 97.08%\n",
            "Processing file: /content/drive/MyDrive/FinalFilterOuput/subjects/all_csp_50_subjects/Subject_10_50_CSP_Features.npz\n",
            "8/8 [==============================] - 0s 4ms/step\n",
            "Accuracy for Subject_10_50_CSP_Features.npz: 93.33%\n",
            "Results saved to /content/drive/MyDrive/FinalFilterOuput/subjects/all_csp_50_subjects/all_subjects_model_results.txt\n"
          ]
        }
      ],
      "source": [
        "import os\n",
        "import numpy as np\n",
        "import joblib\n",
        "import tensorflow as tf\n",
        "from sklearn.metrics import accuracy_score, classification_report\n",
        "\n",
        "# Paths\n",
        "blocks_folder_path = '/content/drive/MyDrive/FinalFilterOuput/subjects/all_csp_50_subjects'\n",
        "scaler_path = '/content/drive/MyDrive/MyOutput/all_subjects_training_scaler.pkl'\n",
        "model_path = '/content/drive/MyDrive/MyOutput/all_subjects_training_file_cnn_model.h5'\n",
        "output_txt_path = '/content/drive/MyDrive/FinalFilterOuput/subjects/all_csp_50_subjects/all_subjects_model_results.txt'\n",
        "\n",
        "# Load the trained model\n",
        "model = tf.keras.models.load_model(model_path)\n",
        "print(f\"Model loaded from {model_path}\")\n",
        "\n",
        "# Load the scaler\n",
        "scaler = joblib.load(scaler_path)\n",
        "print(f\"Scaler loaded from {scaler_path}\")\n",
        "\n",
        "# Function to clean feature strings\n",
        "def clean_feature_string(feature_str):\n",
        "    if isinstance(feature_str, str):\n",
        "        cleaned = feature_str.strip('[]').replace(' ', ',').replace('\\n', '')\n",
        "        return cleaned.split(',') if cleaned else []\n",
        "    return feature_str  # If it's already a list or array, return as is\n",
        "\n",
        "# Initialize a list to hold results\n",
        "results = []\n",
        "\n",
        "# Iterate through all files in the blocks folder\n",
        "for root, dirs, files in os.walk(blocks_folder_path):\n",
        "    for file in files:\n",
        "        if file.endswith('.npz'):\n",
        "            file_path = os.path.join(root, file)\n",
        "            print(f\"Processing file: {file_path}\")\n",
        "\n",
        "            # Load the .npz file\n",
        "            new_data = np.load(file_path)\n",
        "\n",
        "            # Extract features and labels\n",
        "            features = new_data['features']\n",
        "            labels = new_data['labels'][:, 1]  # Assuming the second column is the class label\n",
        "\n",
        "            # Convert the feature strings to lists of floats\n",
        "            cleaned_features = []\n",
        "            for feature in features:\n",
        "                cleaned_feature = clean_feature_string(feature)\n",
        "                if len(cleaned_feature) == 0:\n",
        "                    cleaned_feature = [0.0] * 10  # Handle empty features by filling with placeholder\n",
        "                cleaned_features.append([float(i) for i in cleaned_feature])\n",
        "\n",
        "            # Convert cleaned_features to a numpy array\n",
        "            X_new = np.array(cleaned_features)\n",
        "            y_new = labels\n",
        "\n",
        "            # Standardize features\n",
        "            X_new = scaler.transform(X_new)\n",
        "\n",
        "            # Reshape the data for the model if necessary (e.g., CNN input)\n",
        "            X_new_transformed = X_new.reshape(X_new.shape[0], X_new.shape[1], 1)\n",
        "\n",
        "            # Make predictions and evaluate\n",
        "            predictions = model.predict(X_new_transformed)\n",
        "            predicted_classes = np.argmax(predictions, axis=1)\n",
        "            accuracy = accuracy_score(y_new, predicted_classes)\n",
        "            report = classification_report(y_new, predicted_classes)\n",
        "\n",
        "            # Print the accuracy\n",
        "            print(f\"Accuracy for {file}: {accuracy:.2%}\")\n",
        "\n",
        "            # Save the result\n",
        "            results.append(f\"File: {file}\\nAccuracy: {accuracy:.2%}\\nClassification Report:\\n{report}\\n\\n\")\n",
        "\n",
        "# Write all results to the output text file\n",
        "with open(output_txt_path, 'w') as f:\n",
        "    for result in results:\n",
        "        f.write(result)\n",
        "\n",
        "print(f\"Results saved to {output_txt_path}\")\n"
      ]
    },
    {
      "cell_type": "markdown",
      "metadata": {
        "id": "Yjxns5o2FMDW"
      },
      "source": [
        "# **------------------------- EEG FILE CLEANING ----------------------**"
      ]
    },
    {
      "cell_type": "code",
      "execution_count": null,
      "metadata": {
        "id": "Gs5VaYtqFQlX"
      },
      "outputs": [],
      "source": [
        "import mne\n",
        "import pickle\n",
        "import numpy as np\n",
        "\n",
        "from Inner_Speech_Dataset.Python_Processing.Events_analysis import Event_correction, add_condition_tag, add_block_tag\n",
        "from Inner_Speech_Dataset.Python_Processing.Events_analysis import check_baseline_tags, delete_trigger\n",
        "from Inner_Speech_Dataset.Python_Processing.Events_analysis import cognitive_control_check, standardize_labels\n",
        "# from Inner_Speech_Dataset.Python_Processing.Data_extractions import extract_subject_from_bdf\n",
        "from Inner_Speech_Dataset.Python_Processing.Utilitys import ensure_dir,sub_name, unify_names\n",
        "# from utils.Utilitys import sub_name, unify_names       # noqa\n",
        "\n",
        "\n",
        "\n",
        "\n",
        "# Processing Variables\n",
        "\n",
        "# Root where the raw data are stored\n",
        "root_dir = '/content/drive/MyDrive/'\n",
        "\n",
        "# Root where the structured data will be saved\n",
        "# It can be changed and saved in other direction\n",
        "save_dir = root_dir + \"derivatives/\"\n",
        "\n",
        "# #################### Filtering\n",
        "# Cut-off frequencies\n",
        "Low_cut = 0.5\n",
        "High_cut = 100\n",
        "\n",
        "# Notch filter in 50Hz\n",
        "Notch_bool = True\n",
        "\n",
        "# Downsampling rate\n",
        "DS_rate = 4\n",
        "\n",
        "# #################### ICA\n",
        "# If False, ICA is not applied\n",
        "ICA_bool = True\n",
        "ICA_Components = None\n",
        "ica_random_state = 23\n",
        "ica_method = 'infomax'\n",
        "max_pca_components = None\n",
        "fit_params = dict(extended=True)\n",
        "\n",
        "# #################### EMG Control\n",
        "low_f = 1\n",
        "high_f = 20\n",
        "# Slide window design\n",
        "# Window len (time in sec)\n",
        "window_len = 0.5\n",
        "# slide window step (time in sec)\n",
        "window_step = 0.05\n",
        "\n",
        "# Threshold for EMG control\n",
        "std_times = 3\n",
        "\n",
        "# Baseline\n",
        "t_min_baseline = 0\n",
        "t_max_baseline = 15\n",
        "\n",
        "# Trial time\n",
        "t_min = 1\n",
        "t_max = 3.5\n",
        "\n",
        "# Events ID\n",
        "# Trials tag for each class.\n",
        "# 31 = Arriba / Up\n",
        "# 32 = Abajo / Down\n",
        "# 33 = Derecha / Right\n",
        "# 34 = Izquierda / Left\n",
        "event_id = dict(Arriba=31, Abajo=32, Derecha=33, Izquierda=34)\n",
        "\n",
        "# Baseline id\n",
        "baseline_id = dict(Baseline=13)\n",
        "\n",
        "# Report initialization\n",
        "report = dict(Age=0, Gender=0, Recording_time=0, Ans_R=0, Ans_W=0)\n",
        "\n",
        "# Montage\n",
        "Adquisition_eq = \"biosemi128\"\n",
        "# Get montage\n",
        "montage = mne.channels.make_standard_montage(Adquisition_eq)\n",
        "\n",
        "# Extern channels\n",
        "Ref_channels = ['EXG1', 'EXG2']\n",
        "\n",
        "# Gaze detection\n",
        "Gaze_channels = ['EXG3', 'EXG4']\n",
        "\n",
        "# Blinks detection\n",
        "Blinks_channels = ['EXG5', 'EXG6']\n",
        "\n",
        "# Mouth Moving detection\n",
        "Mouth_channels = ['EXG7', 'EXG8']\n",
        "\n",
        "# Demographic information\n",
        "Subject_age = [56, 50, 34, 24, 31, 29, 26, 28, 35, 31]\n",
        "Subject_gender = ['F', 'M', 'M', 'F', 'F', 'M', 'M', 'F', 'M', 'M']"
      ]
    },
    {
      "cell_type": "code",
      "execution_count": null,
      "metadata": {
        "id": "5tSqmNc_MgQG"
      },
      "outputs": [],
      "source": [
        "def extract_subject_from_bdf(local_file_path,N_S, N_B):\n",
        "    # Name correction if N_Subj is less than 10\n",
        "    num_s = sub_name(N_S)\n",
        "\n",
        "\n",
        "    file_name=local_file_path\n",
        "    print(\"this is the file name from data extraction\",file_name)\n",
        "\n",
        "    raw_data = mne.io.read_raw_bdf(input_fname=file_name, preload=True,\n",
        "                                   verbose='WARNING')\n",
        "    print(\"this is the raw data\",raw_data)\n",
        "    return raw_data, num_s"
      ]
    },
    {
      "cell_type": "code",
      "execution_count": null,
      "metadata": {
        "colab": {
          "background_save": true,
          "base_uri": "https://localhost:8080/"
        },
        "id": "h2kDJBowJr3N",
        "outputId": "d4b9c60b-a5aa-4c3d-c4b6-9a434d2795ac"
      },
      "outputs": [
        {
          "name": "stdout",
          "output_type": "stream",
          "text": [
            "<class 'int'>\n",
            "<class 'int'>\n",
            "Subject: 2\n",
            "Session: 1\n",
            "this is the file name from data extraction /content/drive/MyDrive/FYPD_Dataset/sub-02/ses-02/eeg/sub-02_ses-02_task-innerspeech_eeg.bdf\n",
            "this is the raw data <RawEDF | sub-02_ses-02_task-innerspeech_eeg.bdf, 137 x 1692672 (1653.0 s), ~1.73 GB, data loaded>\n",
            "Data loaded\n",
            "Referencing\n",
            "Montage\n",
            "<Info | 9 non-empty values\n",
            " bads: []\n",
            " ch_names: A1, A2, A3, A4, A5, A6, A7, A8, A9, A10, A11, A12, A13, A14, ...\n",
            " chs: 136 EEG, 1 Stimulus\n",
            " custom_ref_applied: True\n",
            " highpass: 0.0 Hz\n",
            " lowpass: 208.0 Hz\n",
            " meas_date: 2019-08-20 13:50:49 UTC\n",
            " nchan: 137\n",
            " projs: []\n",
            " sfreq: 1024.0 Hz\n",
            " subject_info: 1 item (dict)\n",
            ">\n",
            "Filtering\n",
            "No Warnings, no corrections of events\n",
            "Start OK\n",
            "Blocks OK\n",
            "Tags OK\n",
            "Marks OK\n",
            "Cognitive control OK\n",
            "Warning, 1 of [16] Answers are wrong\n"
          ]
        },
        {
          "name": "stderr",
          "output_type": "stream",
          "text": [
            "<ipython-input-31-5e61e970f335>:72: RuntimeWarning: The measurement information indicates a low-pass frequency of 100.0 Hz. The decim=4 parameter will result in a sampling frequency of 256.0 Hz, which can cause aliasing artifacts.\n",
            "  epochsEOG = mne.Epochs(rawdata, events, event_id=event_id, tmin=-0.5,\n",
            "<ipython-input-31-5e61e970f335>:84: RuntimeWarning: The measurement information indicates a low-pass frequency of 100.0 Hz. The decim=4 parameter will result in a sampling frequency of 256.0 Hz, which can cause aliasing artifacts.\n",
            "  Baseline = mne.Epochs(rawdata, events, event_id=baseline_id, tmin=0,\n",
            "<ipython-input-31-5e61e970f335>:100: RuntimeWarning: The measurement information indicates a low-pass frequency of 100.0 Hz. The decim=4 parameter will result in a sampling frequency of 256.0 Hz, which can cause aliasing artifacts.\n",
            "  epochsEEG = mne.Epochs(rawdata, events, event_id=event_id, tmin=-0.5,\n",
            "<ipython-input-31-5e61e970f335>:112: RuntimeWarning: The measurement information indicates a low-pass frequency of 100.0 Hz. The decim=4 parameter will result in a sampling frequency of 256.0 Hz, which can cause aliasing artifacts.\n",
            "  epochsEEG_full = mne.Epochs(rawdata, events, event_id=event_id,\n"
          ]
        },
        {
          "name": "stdout",
          "output_type": "stream",
          "text": [
            "Applying ICA\n"
          ]
        },
        {
          "ename": "ValueError",
          "evalue": "all the input array dimensions except for the concatenation axis must match exactly, but along dimension 0, the array at index 0 has size 1055 and the array at index 1 has size 1054",
          "output_type": "error",
          "traceback": [
            "\u001b[0;31m---------------------------------------------------------------------------\u001b[0m",
            "\u001b[0;31mValueError\u001b[0m                                Traceback (most recent call last)",
            "\u001b[0;32m<ipython-input-31-5e61e970f335>\u001b[0m in \u001b[0;36m<cell line: 189>\u001b[0;34m()\u001b[0m\n\u001b[1;32m    187\u001b[0m \u001b[0;31m# Example call\u001b[0m\u001b[0;34m\u001b[0m\u001b[0;34m\u001b[0m\u001b[0m\n\u001b[1;32m    188\u001b[0m \u001b[0mlocal_file\u001b[0m \u001b[0;34m=\u001b[0m \u001b[0;34m'/content/drive/MyDrive/FYPD_Dataset/sub-02/ses-02/eeg/sub-02_ses-02_task-innerspeech_eeg.bdf'\u001b[0m\u001b[0;34m\u001b[0m\u001b[0;34m\u001b[0m\u001b[0m\n\u001b[0;32m--> 189\u001b[0;31m \u001b[0mfile_paths\u001b[0m \u001b[0;34m=\u001b[0m \u001b[0mprocess_subject_session\u001b[0m\u001b[0;34m(\u001b[0m\u001b[0mlocal_file\u001b[0m\u001b[0;34m,\u001b[0m \u001b[0;36m2\u001b[0m\u001b[0;34m,\u001b[0m \u001b[0;36m1\u001b[0m\u001b[0;34m)\u001b[0m\u001b[0;34m\u001b[0m\u001b[0;34m\u001b[0m\u001b[0m\n\u001b[0m\u001b[1;32m    190\u001b[0m \u001b[0mprint\u001b[0m\u001b[0;34m(\u001b[0m\u001b[0mfile_paths\u001b[0m\u001b[0;34m)\u001b[0m\u001b[0;34m\u001b[0m\u001b[0;34m\u001b[0m\u001b[0m\n",
            "\u001b[0;32m<ipython-input-31-5e61e970f335>\u001b[0m in \u001b[0;36mprocess_subject_session\u001b[0;34m(local_file_path, subject_no, session_no)\u001b[0m\n\u001b[1;32m    168\u001b[0m \u001b[0;34m\u001b[0m\u001b[0m\n\u001b[1;32m    169\u001b[0m     \u001b[0;31m# Standardize and save events\u001b[0m\u001b[0;34m\u001b[0m\u001b[0;34m\u001b[0m\u001b[0m\n\u001b[0;32m--> 170\u001b[0;31m     \u001b[0mevents\u001b[0m \u001b[0;34m=\u001b[0m \u001b[0madd_condition_tag\u001b[0m\u001b[0;34m(\u001b[0m\u001b[0mevents\u001b[0m\u001b[0;34m)\u001b[0m\u001b[0;34m\u001b[0m\u001b[0;34m\u001b[0m\u001b[0m\n\u001b[0m\u001b[1;32m    171\u001b[0m     \u001b[0mevents\u001b[0m \u001b[0;34m=\u001b[0m \u001b[0madd_block_tag\u001b[0m\u001b[0;34m(\u001b[0m\u001b[0mevents\u001b[0m\u001b[0;34m,\u001b[0m \u001b[0mN_B\u001b[0m\u001b[0;34m=\u001b[0m\u001b[0mN_B\u001b[0m\u001b[0;34m)\u001b[0m\u001b[0;34m\u001b[0m\u001b[0;34m\u001b[0m\u001b[0m\n\u001b[1;32m    172\u001b[0m     \u001b[0mevents\u001b[0m \u001b[0;34m=\u001b[0m \u001b[0mdelete_trigger\u001b[0m\u001b[0;34m(\u001b[0m\u001b[0mevents\u001b[0m\u001b[0;34m)\u001b[0m\u001b[0;34m\u001b[0m\u001b[0;34m\u001b[0m\u001b[0m\n",
            "\u001b[0;32m/content/Inner_Speech_Dataset/Python_Processing/Events_analysis.py\u001b[0m in \u001b[0;36madd_condition_tag\u001b[0;34m(events)\u001b[0m\n\u001b[1;32m    491\u001b[0m     \u001b[0mmod_tag\u001b[0m \u001b[0;34m=\u001b[0m \u001b[0mnp\u001b[0m\u001b[0;34m.\u001b[0m\u001b[0mdelete\u001b[0m\u001b[0;34m(\u001b[0m\u001b[0mmod_tag\u001b[0m\u001b[0;34m,\u001b[0m \u001b[0;36m0\u001b[0m\u001b[0;34m)\u001b[0m\u001b[0;34m\u001b[0m\u001b[0;34m\u001b[0m\u001b[0m\n\u001b[1;32m    492\u001b[0m     \u001b[0;31m# Stack with the event matrix\u001b[0m\u001b[0;34m\u001b[0m\u001b[0;34m\u001b[0m\u001b[0m\n\u001b[0;32m--> 493\u001b[0;31m     \u001b[0mevents_tagged\u001b[0m \u001b[0;34m=\u001b[0m \u001b[0mnp\u001b[0m\u001b[0;34m.\u001b[0m\u001b[0mhstack\u001b[0m\u001b[0;34m(\u001b[0m\u001b[0;34m(\u001b[0m\u001b[0mevents\u001b[0m\u001b[0;34m,\u001b[0m \u001b[0mmod_tag\u001b[0m\u001b[0;34m[\u001b[0m\u001b[0;34m:\u001b[0m\u001b[0;34m,\u001b[0m \u001b[0;32mNone\u001b[0m\u001b[0;34m]\u001b[0m\u001b[0;34m)\u001b[0m\u001b[0;34m)\u001b[0m\u001b[0;34m\u001b[0m\u001b[0;34m\u001b[0m\u001b[0m\n\u001b[0m\u001b[1;32m    494\u001b[0m \u001b[0;34m\u001b[0m\u001b[0m\n\u001b[1;32m    495\u001b[0m     \u001b[0;31m# Assuming mne is used for pick_events\u001b[0m\u001b[0;34m\u001b[0m\u001b[0;34m\u001b[0m\u001b[0m\n",
            "\u001b[0;32m/usr/local/lib/python3.10/dist-packages/numpy/core/shape_base.py\u001b[0m in \u001b[0;36mhstack\u001b[0;34m(tup, dtype, casting)\u001b[0m\n\u001b[1;32m    357\u001b[0m         \u001b[0;32mreturn\u001b[0m \u001b[0m_nx\u001b[0m\u001b[0;34m.\u001b[0m\u001b[0mconcatenate\u001b[0m\u001b[0;34m(\u001b[0m\u001b[0marrs\u001b[0m\u001b[0;34m,\u001b[0m \u001b[0;36m0\u001b[0m\u001b[0;34m,\u001b[0m \u001b[0mdtype\u001b[0m\u001b[0;34m=\u001b[0m\u001b[0mdtype\u001b[0m\u001b[0;34m,\u001b[0m \u001b[0mcasting\u001b[0m\u001b[0;34m=\u001b[0m\u001b[0mcasting\u001b[0m\u001b[0;34m)\u001b[0m\u001b[0;34m\u001b[0m\u001b[0;34m\u001b[0m\u001b[0m\n\u001b[1;32m    358\u001b[0m     \u001b[0;32melse\u001b[0m\u001b[0;34m:\u001b[0m\u001b[0;34m\u001b[0m\u001b[0;34m\u001b[0m\u001b[0m\n\u001b[0;32m--> 359\u001b[0;31m         \u001b[0;32mreturn\u001b[0m \u001b[0m_nx\u001b[0m\u001b[0;34m.\u001b[0m\u001b[0mconcatenate\u001b[0m\u001b[0;34m(\u001b[0m\u001b[0marrs\u001b[0m\u001b[0;34m,\u001b[0m \u001b[0;36m1\u001b[0m\u001b[0;34m,\u001b[0m \u001b[0mdtype\u001b[0m\u001b[0;34m=\u001b[0m\u001b[0mdtype\u001b[0m\u001b[0;34m,\u001b[0m \u001b[0mcasting\u001b[0m\u001b[0;34m=\u001b[0m\u001b[0mcasting\u001b[0m\u001b[0;34m)\u001b[0m\u001b[0;34m\u001b[0m\u001b[0;34m\u001b[0m\u001b[0m\n\u001b[0m\u001b[1;32m    360\u001b[0m \u001b[0;34m\u001b[0m\u001b[0m\n\u001b[1;32m    361\u001b[0m \u001b[0;34m\u001b[0m\u001b[0m\n",
            "\u001b[0;31mValueError\u001b[0m: all the input array dimensions except for the concatenation axis must match exactly, but along dimension 0, the array at index 0 has size 1055 and the array at index 1 has size 1054"
          ]
        }
      ],
      "source": [
        "def process_subject_session(local_file_path, subject_no, session_no):\n",
        "\n",
        "    N_S = subject_no\n",
        "    N_B = session_no\n",
        "\n",
        "    print(type(N_S))\n",
        "    print(type(N_B))\n",
        "\n",
        "    # Initialize report\n",
        "    report = dict()\n",
        "\n",
        "    # Get Age and Gender\n",
        "    report['Age'] = Subject_age[N_S-1]\n",
        "    report['Gender'] = Subject_gender[N_S-1]\n",
        "\n",
        "    print('Subject: ' + str(N_S))\n",
        "    print('Session: ' + str(N_B))\n",
        "\n",
        "    # Load data from BDF file\n",
        "    rawdata, Num_s = extract_subject_from_bdf(local_file_path, N_S, N_B)\n",
        "\n",
        "    print('Data loaded')\n",
        "    print('Referencing')\n",
        "\n",
        "    # Referencing\n",
        "    rawdata.set_eeg_reference(ref_channels=Ref_channels)\n",
        "\n",
        "    print('Montage')\n",
        "    if Notch_bool:\n",
        "        # Notch filter\n",
        "        rawdata = mne.io.Raw.notch_filter(rawdata, freqs=50)\n",
        "\n",
        "    print(rawdata.info)\n",
        "\n",
        "    # Filtering raw data\n",
        "    print('Filtering')\n",
        "    rawdata.filter(Low_cut, High_cut)\n",
        "\n",
        "    # Get events\n",
        "    # Subject 10 on Block 1 have a spurious trigger\n",
        "    if (N_S == 10 and N_B == 1):\n",
        "        events = mne.find_events(rawdata, initial_event=True,\n",
        "                                 consecutive=True, min_duration=0.002)\n",
        "    else:\n",
        "        events = mne.find_events(rawdata, initial_event=True,\n",
        "                                 consecutive=True)\n",
        "\n",
        "    events = check_baseline_tags(events)\n",
        "\n",
        "    # Check and Correct event\n",
        "    events = Event_correction(events=events)\n",
        "\n",
        "    # Replace the raw events with the new corrected events\n",
        "    rawdata.event = events\n",
        "\n",
        "    report['Recording_time'] = int(np.round(rawdata.last_samp/rawdata.info['sfreq']))\n",
        "\n",
        "    # Cognitive Control\n",
        "    report['Ans_R'], report['Ans_W'] = cognitive_control_check(events)\n",
        "\n",
        "    # Save report\n",
        "    file_path = save_dir + Num_s + '/ses-0' + str(N_B)\n",
        "    ensure_dir(file_path)\n",
        "\n",
        "    pickle_file_name = file_path + '/' + Num_s + '_ses-0'+str(N_B)+'_report.pkl'\n",
        "    with open(pickle_file_name, 'wb') as output:\n",
        "        pickle.dump(report, output, pickle.HIGHEST_PROTOCOL)\n",
        "\n",
        "    # EXG\n",
        "    picks_eog = mne.pick_types(rawdata.info, eeg=False, stim=False, include=['EXG1', 'EXG2', 'EXG3', 'EXG4','EXG5', 'EXG6', 'EXG7', 'EXG8'])\n",
        "\n",
        "    epochsEOG = mne.Epochs(rawdata, events, event_id=event_id, tmin=-0.5,\n",
        "                               tmax=4, picks=picks_eog, preload=True,\n",
        "                               detrend=0, decim=DS_rate)\n",
        "\n",
        "    # Save EOG\n",
        "    eog_file_name = file_path + '/' + Num_s + '_ses-0' + str(N_B) + '_exg-epo.fif'\n",
        "    epochsEOG.save(eog_file_name, fmt='double',\n",
        "                       split_size='2GB', overwrite=True)\n",
        "\n",
        "    # Baseline\n",
        "    t_baseline = (events[events[:, 2] == 14, 0]-events[events[:, 2] == 13, 0]) / rawdata.info['sfreq']\n",
        "    t_baseline = t_baseline[0]\n",
        "    Baseline = mne.Epochs(rawdata, events, event_id=baseline_id, tmin=0,\n",
        "                              tmax=round(t_baseline), picks='all',\n",
        "                              preload=True, detrend=0, decim=DS_rate,\n",
        "                              baseline=None)\n",
        "\n",
        "    # Save Baseline\n",
        "    baseline_file_name = file_path + '/' + Num_s + '_ses-0' + str(N_B) + '_baseline-epo.fif'\n",
        "    Baseline.save(baseline_file_name, fmt='double',\n",
        "                      split_size='2GB', overwrite=True)\n",
        "\n",
        "    # Epoching and decimating EEG\n",
        "    picks_eeg = mne.pick_types(rawdata.info, eeg=True,\n",
        "                                   exclude=['EXG1', 'EXG2', 'EXG3', 'EXG4',\n",
        "                                            'EXG5', 'EXG6', 'EXG7', 'EXG8'],\n",
        "                                   stim=False)\n",
        "\n",
        "    epochsEEG = mne.Epochs(rawdata, events, event_id=event_id, tmin=-0.5,\n",
        "                               tmax=4, picks=picks_eeg, preload=True,\n",
        "                               detrend=0, decim=DS_rate, baseline=None)\n",
        "\n",
        "    # ICA Processing\n",
        "    if ICA_bool:\n",
        "        # Get a full trials including EXG channels\n",
        "        picks_vir = mne.pick_types(rawdata.info, eeg=True,\n",
        "                                   include=['EXG1', 'EXG2', 'EXG3', 'EXG4',\n",
        "                                            'EXG5', 'EXG6',\n",
        "                                            'EXG7', 'EXG8'],\n",
        "                                   stim=False)\n",
        "        epochsEEG_full = mne.Epochs(rawdata, events, event_id=event_id,\n",
        "                                    tmin=-0.5, tmax=4,\n",
        "                                    picks=picks_vir, preload=True,\n",
        "                                    detrend=0, decim=DS_rate,\n",
        "                                    baseline=None)\n",
        "\n",
        "        # Liberate Memory for ICA processing\n",
        "        del rawdata\n",
        "\n",
        "        # Creating the ICA object\n",
        "        ica = mne.preprocessing.ICA(n_components=ICA_Components,\n",
        "                                    random_state=ica_random_state,\n",
        "                                    method=ica_method,\n",
        "                                    fit_params=fit_params)\n",
        "\n",
        "        # Fit ICA, calculate components\n",
        "        ica.fit(epochsEEG)\n",
        "        ica.exclude = []\n",
        "\n",
        "        # Detect sources by correlation\n",
        "        exg_inds_EXG3, scores_ica = ica.find_bads_eog(epochsEEG_full,\n",
        "                                                      ch_name='EXG3')\n",
        "        ica.exclude.extend(exg_inds_EXG3)\n",
        "\n",
        "        # Detect sources by correlation\n",
        "        exg_inds_EXG4, scores_ica = ica.find_bads_eog(epochsEEG_full,\n",
        "                                                      ch_name='EXG4')\n",
        "        ica.exclude.extend(exg_inds_EXG4)\n",
        "\n",
        "        # Detect sources by correlation\n",
        "        exg_inds_EXG5, scores_ica = ica.find_bads_eog(epochsEEG_full,\n",
        "                                                      ch_name='EXG5')\n",
        "        ica.exclude.extend(exg_inds_EXG5)\n",
        "\n",
        "        # Detect sources by correlation\n",
        "        exg_inds_EXG6, scores_ica = ica.find_bads_eog(epochsEEG_full,\n",
        "                                                      ch_name='EXG6')\n",
        "        ica.exclude.extend(exg_inds_EXG6)\n",
        "\n",
        "        # Detect sources by correlation\n",
        "        exg_inds_EXG7, scores_ica = ica.find_bads_eog(epochsEEG_full,\n",
        "                                                      ch_name='EXG7')\n",
        "        ica.exclude.extend(exg_inds_EXG7)\n",
        "\n",
        "        # Detect sources by correlation\n",
        "        exg_inds_EXG8, scores_ica = ica.find_bads_eog(epochsEEG_full,\n",
        "                                                      ch_name='EXG8')\n",
        "        ica.exclude.extend(exg_inds_EXG8)\n",
        "\n",
        "        print(\"Applying ICA\")\n",
        "        ica.apply(epochsEEG)\n",
        "\n",
        "    # Save EEG\n",
        "    eeg_file_name = file_path + '/' + Num_s + '_ses-0' + str(N_B) + '_eeg-epo.fif'\n",
        "    epochsEEG.save(eeg_file_name, fmt='double',\n",
        "                   split_size='2GB', overwrite=True)\n",
        "\n",
        "    # Standardize and save events\n",
        "    events = add_condition_tag(events)\n",
        "    events = add_block_tag(events, N_B=N_B)\n",
        "    events = delete_trigger(events)\n",
        "    events = standardize_labels(events)\n",
        "\n",
        "    # Save events\n",
        "    events_file_name = file_path + '/' + Num_s + '_ses-0' + str(N_B) + '_events.dat'\n",
        "    events.dump(events_file_name)\n",
        "\n",
        "    return {\n",
        "        'eog_file': eog_file_name,\n",
        "        'baseline_file': baseline_file_name,\n",
        "        'pickle_file': pickle_file_name,\n",
        "        'eeg_file': eeg_file_name,\n",
        "        'events_file': events_file_name\n",
        "    }\n",
        "\n",
        "# Example call\n",
        "local_file = '/content/drive/MyDrive/FYPD_Dataset/sub-02/ses-02/eeg/sub-02_ses-02_task-innerspeech_eeg.bdf'\n",
        "file_paths =\n",
        "print(file_paths)\n",
        "\n",
        "\n",
        "results = process_subject_session(local_file, 2, 1)\n",
        "print(\"this is the result\",results)\n",
        "\n"
      ]
    }
  ],
  "metadata": {
    "colab": {
      "collapsed_sections": [
        "MJoO1IQZWXEY",
        "fg3vkHEFV-Uq",
        "eZAYGkKFWd7r",
        "iZb45qs4VqK4",
        "H1nhZP-emTxQ",
        "OFRT9Yqtl9B9",
        "CpRaq3xkwLej",
        "qM_ux43fwUni",
        "0NQSj2Wkjack",
        "4Yz6U3Wtm5l3",
        "5UOwhEhXoDF-",
        "DoztCnyVMWww",
        "1tYuqK9faPeX",
        "guBOyjbHfpln",
        "mESepH1ZgGtB",
        "wUjwj7Diirvb",
        "4w2ertCxLbfy",
        "ksxoq0_LDRbQ",
        "hs0Cd-x-LlQF",
        "GBzWWXdHDTjP",
        "ISrGxfbMqMQ9",
        "q3v63A2NqHwQ",
        "2ehtoCsDyhD2",
        "g1vJZew5ysDN",
        "syQrx16qz8ro",
        "W4ebMc9_1nwq",
        "-wiIkgaX1xBZ",
        "4mz5kvQu7WA_"
      ],
      "provenance": []
    },
    "kernelspec": {
      "display_name": "Python 3",
      "name": "python3"
    },
    "language_info": {
      "name": "python"
    }
  },
  "nbformat": 4,
  "nbformat_minor": 0
}